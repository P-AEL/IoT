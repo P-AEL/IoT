{
 "cells": [
  {
   "cell_type": "code",
   "execution_count": 8,
   "metadata": {},
   "outputs": [],
   "source": [
    "import pandas as pd, numpy as np, dataprep as dp\n",
    "import torch"
   ]
  },
  {
   "cell_type": "code",
   "execution_count": 9,
   "metadata": {},
   "outputs": [],
   "source": [
    "df = pd.read_csv(\"/Users/florian/Documents/github/study/IoT/IoT/aggregated_hourly.csv\")\n",
    "a0 = [\"hka-aqm-a017\", \"hka-aqm-a014\"]\n",
    "a1 = [\"hka-aqm-a101\", \"hka-aqm-a102\", \"hka-aqm-a103\", \"hka-aqm-a106\", \"hka-aqm-a107\", \"hka-aqm-a108\", \"hka-aqm-a111\", \"hka-aqm-a112\"]"
   ]
  },
  {
   "cell_type": "code",
   "execution_count": 10,
   "metadata": {},
   "outputs": [
    {
     "data": {
      "text/html": [
       "<div>\n",
       "<style scoped>\n",
       "    .dataframe tbody tr th:only-of-type {\n",
       "        vertical-align: middle;\n",
       "    }\n",
       "\n",
       "    .dataframe tbody tr th {\n",
       "        vertical-align: top;\n",
       "    }\n",
       "\n",
       "    .dataframe thead th {\n",
       "        text-align: right;\n",
       "    }\n",
       "</style>\n",
       "<table border=\"1\" class=\"dataframe\">\n",
       "  <thead>\n",
       "    <tr style=\"text-align: right;\">\n",
       "      <th></th>\n",
       "      <th>tmp</th>\n",
       "      <th>hum</th>\n",
       "      <th>CO2</th>\n",
       "      <th>VOC</th>\n",
       "    </tr>\n",
       "  </thead>\n",
       "  <tbody>\n",
       "    <tr>\n",
       "      <th>0</th>\n",
       "      <td>23.0950</td>\n",
       "      <td>34.000</td>\n",
       "      <td>573.0</td>\n",
       "      <td>754.0</td>\n",
       "    </tr>\n",
       "    <tr>\n",
       "      <th>1</th>\n",
       "      <td>23.1125</td>\n",
       "      <td>33.840</td>\n",
       "      <td>545.0</td>\n",
       "      <td>750.0</td>\n",
       "    </tr>\n",
       "    <tr>\n",
       "      <th>2</th>\n",
       "      <td>23.0950</td>\n",
       "      <td>33.865</td>\n",
       "      <td>532.0</td>\n",
       "      <td>741.0</td>\n",
       "    </tr>\n",
       "    <tr>\n",
       "      <th>3</th>\n",
       "      <td>23.1650</td>\n",
       "      <td>33.825</td>\n",
       "      <td>516.0</td>\n",
       "      <td>754.0</td>\n",
       "    </tr>\n",
       "    <tr>\n",
       "      <th>4</th>\n",
       "      <td>23.2725</td>\n",
       "      <td>33.780</td>\n",
       "      <td>507.0</td>\n",
       "      <td>767.0</td>\n",
       "    </tr>\n",
       "  </tbody>\n",
       "</table>\n",
       "</div>"
      ],
      "text/plain": [
       "       tmp     hum    CO2    VOC\n",
       "0  23.0950  34.000  573.0  754.0\n",
       "1  23.1125  33.840  545.0  750.0\n",
       "2  23.0950  33.865  532.0  741.0\n",
       "3  23.1650  33.825  516.0  754.0\n",
       "4  23.2725  33.780  507.0  767.0"
      ]
     },
     "execution_count": 10,
     "metadata": {},
     "output_type": "execute_result"
    }
   ],
   "source": [
    "df_cutoff = df.copy\n",
    "df_cutoff = dp.cutoff_data(df, \"2023-01-13\", \"2023-03-28\")\n",
    "df_mean = dp.build_lvl_df(df_cutoff, a1, [\"tmp\", \"hum\", \"CO2\", \"VOC\"], reset_ind= True)\n",
    "df_mean.head()"
   ]
  },
  {
   "cell_type": "code",
   "execution_count": 11,
   "metadata": {},
   "outputs": [
    {
     "data": {
      "text/plain": [
       "tmp    0\n",
       "hum    0\n",
       "CO2    0\n",
       "VOC    0\n",
       "dtype: int64"
      ]
     },
     "execution_count": 11,
     "metadata": {},
     "output_type": "execute_result"
    }
   ],
   "source": [
    "df_mean[df_mean.isna() == True].count()"
   ]
  },
  {
   "cell_type": "code",
   "execution_count": 12,
   "metadata": {},
   "outputs": [
    {
     "data": {
      "text/plain": [
       "((1775, 4), (1775,))"
      ]
     },
     "execution_count": 12,
     "metadata": {},
     "output_type": "execute_result"
    }
   ],
   "source": [
    "X = df_mean.to_numpy()\n",
    "y = df_mean[\"tmp\"].shift(-1).to_numpy()\n",
    "X.shape, y.shape"
   ]
  },
  {
   "cell_type": "code",
   "execution_count": 75,
   "metadata": {},
   "outputs": [
    {
     "data": {
      "text/plain": [
       "(torch.Size([1748, 4]),\n",
       " torch.Size([1748]),\n",
       " torch.Size([27, 4]),\n",
       " torch.Size([27]))"
      ]
     },
     "execution_count": 75,
     "metadata": {},
     "output_type": "execute_result"
    }
   ],
   "source": [
    "X_train, X_test, y_train, y_test = dp.train_test_split(X, y)\n",
    "X_train.shape, y_train.shape, X_test.shape, y_test.shape"
   ]
  },
  {
   "cell_type": "code",
   "execution_count": 76,
   "metadata": {},
   "outputs": [
    {
     "data": {
      "text/plain": [
       "(torch.Size([1747, 48, 4]),\n",
       " torch.Size([26, 48, 4]),\n",
       " torch.Size([1747]),\n",
       " torch.Size([26]))"
      ]
     },
     "execution_count": 76,
     "metadata": {},
     "output_type": "execute_result"
    }
   ],
   "source": [
    "X_train_new, X_test_new = dp.format_tensor(X_train), dp.format_tensor(X_test)\n",
    "X_train = X_train_new\n",
    "X_test = X_test_new\n",
    "y_train = y_train[1:]#.unsqueeze(1)\n",
    "y_test = y_test[1:]#.unsqueeze(1)\n",
    "X_train.shape, X_test.shape, y_train.shape, y_test.shape"
   ]
  },
  {
   "cell_type": "code",
   "execution_count": 77,
   "metadata": {},
   "outputs": [],
   "source": [
    "from torch.utils.data import DataLoader, TensorDataset\n",
    "\n",
    "batch_size = 64\n",
    "\n",
    "train_data = TensorDataset(X_train, y_train)\n",
    "test_data = TensorDataset(X_test, y_test)\n",
    "\n",
    "train_loader = DataLoader(train_data, shuffle=True, batch_size=batch_size)\n",
    "test_loader = DataLoader(test_data, shuffle=False, batch_size=batch_size)"
   ]
  },
  {
   "cell_type": "code",
   "execution_count": 78,
   "metadata": {},
   "outputs": [],
   "source": [
    "from foo import LSTM\n",
    "\n",
    "LSTM_model = LSTM(input_size=X_train.shape[2], hidden_size=100, num_layers=1, output_size=1)"
   ]
  },
  {
   "cell_type": "code",
   "execution_count": 81,
   "metadata": {},
   "outputs": [
    {
     "name": "stdout",
     "output_type": "stream",
     "text": [
      "Epoch [1/100], Step [10/28], Loss: 1.8584\n",
      "Epoch [1/100], Step [20/28], Loss: 1.5908\n",
      "Epoch [2/100], Step [10/28], Loss: 2.2242\n",
      "Epoch [2/100], Step [20/28], Loss: 1.4372\n",
      "Epoch [3/100], Step [10/28], Loss: 2.1518\n",
      "Epoch [3/100], Step [20/28], Loss: 1.5083\n",
      "Epoch [4/100], Step [10/28], Loss: 1.8657\n",
      "Epoch [4/100], Step [20/28], Loss: 1.9961\n",
      "Epoch [5/100], Step [10/28], Loss: 1.4882\n",
      "Epoch [5/100], Step [20/28], Loss: 1.8113\n",
      "Epoch [6/100], Step [10/28], Loss: 1.8692\n",
      "Epoch [6/100], Step [20/28], Loss: 1.6743\n",
      "Epoch [7/100], Step [10/28], Loss: 1.3516\n",
      "Epoch [7/100], Step [20/28], Loss: 1.6583\n",
      "Epoch [8/100], Step [10/28], Loss: 1.8347\n",
      "Epoch [8/100], Step [20/28], Loss: 2.0471\n",
      "Epoch [9/100], Step [10/28], Loss: 1.4724\n",
      "Epoch [9/100], Step [20/28], Loss: 1.7120\n",
      "Epoch [10/100], Step [10/28], Loss: 1.6583\n",
      "Epoch [10/100], Step [20/28], Loss: 1.7860\n",
      "Epoch [11/100], Step [10/28], Loss: 2.0840\n",
      "Epoch [11/100], Step [20/28], Loss: 1.5939\n",
      "Epoch [12/100], Step [10/28], Loss: 1.7049\n",
      "Epoch [12/100], Step [20/28], Loss: 1.6597\n",
      "Epoch [13/100], Step [10/28], Loss: 1.2628\n",
      "Epoch [13/100], Step [20/28], Loss: 1.6899\n",
      "Epoch [14/100], Step [10/28], Loss: 1.6489\n",
      "Epoch [14/100], Step [20/28], Loss: 1.3639\n",
      "Epoch [15/100], Step [10/28], Loss: 1.7012\n",
      "Epoch [15/100], Step [20/28], Loss: 1.9508\n",
      "Epoch [16/100], Step [10/28], Loss: 1.5984\n",
      "Epoch [16/100], Step [20/28], Loss: 2.3770\n",
      "Epoch [17/100], Step [10/28], Loss: 2.0879\n",
      "Epoch [17/100], Step [20/28], Loss: 1.4518\n",
      "Epoch [18/100], Step [10/28], Loss: 1.7708\n",
      "Epoch [18/100], Step [20/28], Loss: 1.7662\n",
      "Epoch [19/100], Step [10/28], Loss: 1.1048\n",
      "Epoch [19/100], Step [20/28], Loss: 1.8776\n",
      "Epoch [20/100], Step [10/28], Loss: 1.8612\n",
      "Epoch [20/100], Step [20/28], Loss: 1.8029\n",
      "Epoch [21/100], Step [10/28], Loss: 1.3774\n",
      "Epoch [21/100], Step [20/28], Loss: 2.0993\n",
      "Epoch [22/100], Step [10/28], Loss: 1.3617\n",
      "Epoch [22/100], Step [20/28], Loss: 1.7611\n",
      "Epoch [23/100], Step [10/28], Loss: 1.5938\n",
      "Epoch [23/100], Step [20/28], Loss: 1.6089\n",
      "Epoch [24/100], Step [10/28], Loss: 1.6744\n",
      "Epoch [24/100], Step [20/28], Loss: 1.7252\n",
      "Epoch [25/100], Step [10/28], Loss: 1.3576\n",
      "Epoch [25/100], Step [20/28], Loss: 1.5661\n",
      "Epoch [26/100], Step [10/28], Loss: 2.0350\n",
      "Epoch [26/100], Step [20/28], Loss: 1.8715\n",
      "Epoch [27/100], Step [10/28], Loss: 1.9142\n",
      "Epoch [27/100], Step [20/28], Loss: 1.5792\n",
      "Epoch [28/100], Step [10/28], Loss: 2.2551\n",
      "Epoch [28/100], Step [20/28], Loss: 1.9424\n",
      "Epoch [29/100], Step [10/28], Loss: 1.3340\n",
      "Epoch [29/100], Step [20/28], Loss: 1.5332\n",
      "Epoch [30/100], Step [10/28], Loss: 1.9868\n",
      "Epoch [30/100], Step [20/28], Loss: 2.1606\n",
      "Epoch [31/100], Step [10/28], Loss: 1.6991\n",
      "Epoch [31/100], Step [20/28], Loss: 1.3863\n",
      "Epoch [32/100], Step [10/28], Loss: 1.6525\n",
      "Epoch [32/100], Step [20/28], Loss: 1.9217\n",
      "Epoch [33/100], Step [10/28], Loss: 1.9023\n",
      "Epoch [33/100], Step [20/28], Loss: 1.2751\n",
      "Epoch [34/100], Step [10/28], Loss: 2.0935\n",
      "Epoch [34/100], Step [20/28], Loss: 1.5800\n",
      "Epoch [35/100], Step [10/28], Loss: 2.4151\n",
      "Epoch [35/100], Step [20/28], Loss: 1.3896\n",
      "Epoch [36/100], Step [10/28], Loss: 1.5361\n",
      "Epoch [36/100], Step [20/28], Loss: 1.3644\n",
      "Epoch [37/100], Step [10/28], Loss: 1.5243\n",
      "Epoch [37/100], Step [20/28], Loss: 1.8425\n",
      "Epoch [38/100], Step [10/28], Loss: 1.8466\n",
      "Epoch [38/100], Step [20/28], Loss: 1.7473\n",
      "Epoch [39/100], Step [10/28], Loss: 1.3270\n",
      "Epoch [39/100], Step [20/28], Loss: 1.5300\n",
      "Epoch [40/100], Step [10/28], Loss: 1.4935\n",
      "Epoch [40/100], Step [20/28], Loss: 1.4607\n",
      "Epoch [41/100], Step [10/28], Loss: 1.4161\n",
      "Epoch [41/100], Step [20/28], Loss: 1.6066\n",
      "Epoch [42/100], Step [10/28], Loss: 1.2797\n",
      "Epoch [42/100], Step [20/28], Loss: 1.7893\n",
      "Epoch [43/100], Step [10/28], Loss: 1.4090\n",
      "Epoch [43/100], Step [20/28], Loss: 1.2409\n",
      "Epoch [44/100], Step [10/28], Loss: 2.2551\n",
      "Epoch [44/100], Step [20/28], Loss: 1.4217\n",
      "Epoch [45/100], Step [10/28], Loss: 1.6221\n",
      "Epoch [45/100], Step [20/28], Loss: 1.4706\n",
      "Epoch [46/100], Step [10/28], Loss: 1.3841\n",
      "Epoch [46/100], Step [20/28], Loss: 1.8011\n",
      "Epoch [47/100], Step [10/28], Loss: 1.3992\n",
      "Epoch [47/100], Step [20/28], Loss: 1.3289\n",
      "Epoch [48/100], Step [10/28], Loss: 1.5701\n",
      "Epoch [48/100], Step [20/28], Loss: 1.5524\n",
      "Epoch [49/100], Step [10/28], Loss: 1.8575\n",
      "Epoch [49/100], Step [20/28], Loss: 1.8700\n",
      "Epoch [50/100], Step [10/28], Loss: 1.3704\n",
      "Epoch [50/100], Step [20/28], Loss: 1.6984\n",
      "Epoch [51/100], Step [10/28], Loss: 1.1959\n",
      "Epoch [51/100], Step [20/28], Loss: 1.8433\n",
      "Epoch [52/100], Step [10/28], Loss: 1.2248\n",
      "Epoch [52/100], Step [20/28], Loss: 1.8281\n",
      "Epoch [53/100], Step [10/28], Loss: 1.4267\n",
      "Epoch [53/100], Step [20/28], Loss: 2.1461\n",
      "Epoch [54/100], Step [10/28], Loss: 1.8912\n",
      "Epoch [54/100], Step [20/28], Loss: 1.4396\n",
      "Epoch [55/100], Step [10/28], Loss: 1.6509\n",
      "Epoch [55/100], Step [20/28], Loss: 1.4143\n",
      "Epoch [56/100], Step [10/28], Loss: 2.0046\n",
      "Epoch [56/100], Step [20/28], Loss: 1.5340\n",
      "Epoch [57/100], Step [10/28], Loss: 1.1983\n",
      "Epoch [57/100], Step [20/28], Loss: 1.8099\n",
      "Epoch [58/100], Step [10/28], Loss: 1.7924\n",
      "Epoch [58/100], Step [20/28], Loss: 1.5411\n",
      "Epoch [59/100], Step [10/28], Loss: 1.5409\n",
      "Epoch [59/100], Step [20/28], Loss: 1.6312\n",
      "Epoch [60/100], Step [10/28], Loss: 1.2627\n",
      "Epoch [60/100], Step [20/28], Loss: 2.3042\n",
      "Epoch [61/100], Step [10/28], Loss: 1.8056\n",
      "Epoch [61/100], Step [20/28], Loss: 1.2048\n",
      "Epoch [62/100], Step [10/28], Loss: 1.8468\n",
      "Epoch [62/100], Step [20/28], Loss: 1.9578\n",
      "Epoch [63/100], Step [10/28], Loss: 1.3028\n",
      "Epoch [63/100], Step [20/28], Loss: 1.4804\n",
      "Epoch [64/100], Step [10/28], Loss: 2.0274\n",
      "Epoch [64/100], Step [20/28], Loss: 1.4199\n",
      "Epoch [65/100], Step [10/28], Loss: 1.3502\n",
      "Epoch [65/100], Step [20/28], Loss: 1.3977\n",
      "Epoch [66/100], Step [10/28], Loss: 1.4773\n",
      "Epoch [66/100], Step [20/28], Loss: 2.0991\n",
      "Epoch [67/100], Step [10/28], Loss: 1.7963\n",
      "Epoch [67/100], Step [20/28], Loss: 1.4227\n",
      "Epoch [68/100], Step [10/28], Loss: 1.7229\n",
      "Epoch [68/100], Step [20/28], Loss: 1.9125\n",
      "Epoch [69/100], Step [10/28], Loss: 0.9926\n",
      "Epoch [69/100], Step [20/28], Loss: 1.7976\n",
      "Epoch [70/100], Step [10/28], Loss: 1.9870\n",
      "Epoch [70/100], Step [20/28], Loss: 2.1091\n",
      "Epoch [71/100], Step [10/28], Loss: 1.6909\n",
      "Epoch [71/100], Step [20/28], Loss: 1.5429\n",
      "Epoch [72/100], Step [10/28], Loss: 1.7012\n",
      "Epoch [72/100], Step [20/28], Loss: 1.3779\n",
      "Epoch [73/100], Step [10/28], Loss: 1.9136\n",
      "Epoch [73/100], Step [20/28], Loss: 1.8442\n",
      "Epoch [74/100], Step [10/28], Loss: 1.8057\n",
      "Epoch [74/100], Step [20/28], Loss: 1.9425\n",
      "Epoch [75/100], Step [10/28], Loss: 1.5295\n",
      "Epoch [75/100], Step [20/28], Loss: 1.6935\n",
      "Epoch [76/100], Step [10/28], Loss: 1.2980\n",
      "Epoch [76/100], Step [20/28], Loss: 1.9478\n",
      "Epoch [77/100], Step [10/28], Loss: 1.7921\n",
      "Epoch [77/100], Step [20/28], Loss: 1.3751\n",
      "Epoch [78/100], Step [10/28], Loss: 1.7832\n",
      "Epoch [78/100], Step [20/28], Loss: 1.5218\n",
      "Epoch [79/100], Step [10/28], Loss: 1.5571\n",
      "Epoch [79/100], Step [20/28], Loss: 1.4553\n",
      "Epoch [80/100], Step [10/28], Loss: 1.2645\n",
      "Epoch [80/100], Step [20/28], Loss: 1.5949\n",
      "Epoch [81/100], Step [10/28], Loss: 1.8325\n",
      "Epoch [81/100], Step [20/28], Loss: 1.3403\n",
      "Epoch [82/100], Step [10/28], Loss: 1.3691\n",
      "Epoch [82/100], Step [20/28], Loss: 1.5629\n",
      "Epoch [83/100], Step [10/28], Loss: 1.6761\n",
      "Epoch [83/100], Step [20/28], Loss: 1.7898\n",
      "Epoch [84/100], Step [10/28], Loss: 1.9164\n",
      "Epoch [84/100], Step [20/28], Loss: 1.1155\n",
      "Epoch [85/100], Step [10/28], Loss: 1.8859\n",
      "Epoch [85/100], Step [20/28], Loss: 1.8528\n",
      "Epoch [86/100], Step [10/28], Loss: 1.5999\n",
      "Epoch [86/100], Step [20/28], Loss: 1.5400\n",
      "Epoch [87/100], Step [10/28], Loss: 1.5771\n",
      "Epoch [87/100], Step [20/28], Loss: 1.8092\n",
      "Epoch [88/100], Step [10/28], Loss: 1.2511\n",
      "Epoch [88/100], Step [20/28], Loss: 1.3613\n",
      "Epoch [89/100], Step [10/28], Loss: 1.5959\n",
      "Epoch [89/100], Step [20/28], Loss: 1.4380\n",
      "Epoch [90/100], Step [10/28], Loss: 1.6563\n",
      "Epoch [90/100], Step [20/28], Loss: 2.0673\n",
      "Epoch [91/100], Step [10/28], Loss: 1.8263\n",
      "Epoch [91/100], Step [20/28], Loss: 1.7770\n",
      "Epoch [92/100], Step [10/28], Loss: 2.2706\n",
      "Epoch [92/100], Step [20/28], Loss: 1.6961\n",
      "Epoch [93/100], Step [10/28], Loss: 1.7171\n",
      "Epoch [93/100], Step [20/28], Loss: 1.3956\n",
      "Epoch [94/100], Step [10/28], Loss: 1.5678\n",
      "Epoch [94/100], Step [20/28], Loss: 1.6721\n",
      "Epoch [95/100], Step [10/28], Loss: 1.2475\n",
      "Epoch [95/100], Step [20/28], Loss: 1.6967\n",
      "Epoch [96/100], Step [10/28], Loss: 1.8667\n",
      "Epoch [96/100], Step [20/28], Loss: 1.6852\n",
      "Epoch [97/100], Step [10/28], Loss: 2.2838\n",
      "Epoch [97/100], Step [20/28], Loss: 1.7435\n",
      "Epoch [98/100], Step [10/28], Loss: 2.0236\n",
      "Epoch [98/100], Step [20/28], Loss: 1.9596\n",
      "Epoch [99/100], Step [10/28], Loss: 1.5527\n",
      "Epoch [99/100], Step [20/28], Loss: 1.5317\n",
      "Epoch [100/100], Step [10/28], Loss: 1.7438\n",
      "Epoch [100/100], Step [20/28], Loss: 1.8817\n"
     ]
    }
   ],
   "source": [
    "num_epochs = 100\n",
    "learning_rate = 0.00001\n",
    "criterion = torch.nn.MSELoss()\n",
    "optimizer = torch.optim.Adam(LSTM_model.parameters(), lr=learning_rate)\n",
    "\n",
    "LSTM_model.train()\n",
    "for epoch in range(num_epochs):\n",
    "    for i, (features, target) in enumerate(train_loader):\n",
    "        optimizer.zero_grad(set_to_none=True)\n",
    "        output = LSTM_model(features)\n",
    "        target = target.unsqueeze(1)\n",
    "        loss = criterion(output, target)\n",
    "        loss.backward()\n",
    "        optimizer.step()\n",
    "        if (i+1) % 10 == 0:\n",
    "            print('Epoch [{}/{}], Step [{}/{}], Loss: {:.4f}'.format(epoch+1, num_epochs, i+1, len(train_loader), loss.item()))"
   ]
  },
  {
   "cell_type": "code",
   "execution_count": 87,
   "metadata": {},
   "outputs": [
    {
     "name": "stdout",
     "output_type": "stream",
     "text": [
      "Test Loss: 1.1775\n"
     ]
    }
   ],
   "source": [
    "LSTM_model.eval()  # Set the model to evaluation mode\n",
    "\n",
    "test_features, test_targets = next(iter(test_loader))  # Get a batch of test data\n",
    "test_targets = test_targets.unsqueeze(1)  # Expand target to match the output shape\n",
    "test_targets[-1] = 21.0213\n",
    "\n",
    "with torch.no_grad():  # Disable gradient computation\n",
    "    predictions = LSTM_model(test_features)  # Make predictions\n",
    "\n",
    "# Calculate the mean squared error of the predictions\n",
    "test_loss = criterion(predictions, test_targets)\n",
    "print('Test Loss: {:.4f}'.format(test_loss.item()))"
   ]
  },
  {
   "cell_type": "code",
   "execution_count": 88,
   "metadata": {},
   "outputs": [
    {
     "data": {
      "text/plain": [
       "tensor([[20.9122],\n",
       "        [20.8471],\n",
       "        [20.8037],\n",
       "        [20.9935],\n",
       "        [20.9821],\n",
       "        [20.9251],\n",
       "        [20.8888],\n",
       "        [20.8687],\n",
       "        [20.9183],\n",
       "        [20.6574],\n",
       "        [21.4696],\n",
       "        [22.5116],\n",
       "        [22.6053],\n",
       "        [22.5800],\n",
       "        [22.5087],\n",
       "        [22.4242],\n",
       "        [22.4840],\n",
       "        [22.5582],\n",
       "        [22.5919],\n",
       "        [22.5121],\n",
       "        [22.1749],\n",
       "        [21.9574],\n",
       "        [21.7229],\n",
       "        [21.4908],\n",
       "        [21.2156],\n",
       "        [21.0213]])"
      ]
     },
     "execution_count": 88,
     "metadata": {},
     "output_type": "execute_result"
    }
   ],
   "source": [
    "test_targets"
   ]
  },
  {
   "cell_type": "code",
   "execution_count": 97,
   "metadata": {},
   "outputs": [
    {
     "data": {
      "image/png": "[encoded data removed]",
      "text/plain": [
       "<Figure size 1000x500 with 1 Axes>"
      ]
     },
     "metadata": {},
     "output_type": "display_data"
    }
   ],
   "source": [
    "import matplotlib.pyplot as plt\n",
    "# Convert numpy array to PyTorch tensor\n",
    "predictions = torch.from_numpy(predictions)\n",
    "test_targets = torch.from_numpy(test_targets)\n",
    "\n",
    "# Continue with the rest of the code\n",
    "\n",
    "plt.figure(figsize=(10, 5))\n",
    "plt.plot(predictions, label='Predictions')\n",
    "plt.plot(test_targets, label='Actual')\n",
    "plt.legend()\n",
    "plt.show()"
   ]
  }
 ],
 "metadata": {
  "kernelspec": {
   "display_name": "Python 3",
   "language": "python",
   "name": "python3"
  },
  "language_info": {
   "codemirror_mode": {
    "name": "ipython",
    "version": 3
   },
   "file_extension": ".py",
   "mimetype": "text/x-python",
   "name": "python",
   "nbconvert_exporter": "python",
   "pygments_lexer": "ipython3",
   "version": "3.12.2"
  }
 },
 "nbformat": 4,
 "nbformat_minor": 2
}
