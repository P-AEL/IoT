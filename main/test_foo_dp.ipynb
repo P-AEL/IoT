{
 "cells": [
  {
   "cell_type": "code",
   "execution_count": 1,
   "metadata": {},
   "outputs": [],
   "source": [
    "import pandas as pd, numpy as np, dataprep as dp\n",
    "import torch\n",
    "import matplotlib.pyplot as plt"
   ]
  },
  {
   "cell_type": "code",
   "execution_count": 2,
   "metadata": {},
   "outputs": [],
   "source": [
    "df = pd.read_csv(\"/Users/florian/Documents/github/study/IoT/IoT/aggregated_hourly.csv\")\n",
    "a0 = [\"hka-aqm-a017\", \"hka-aqm-a014\"]\n",
    "a1 = [\"hka-aqm-a101\", \"hka-aqm-a102\", \"hka-aqm-a103\", \"hka-aqm-a106\", \"hka-aqm-a107\", \"hka-aqm-a108\", \"hka-aqm-a111\", \"hka-aqm-a112\"]"
   ]
  },
  {
   "cell_type": "code",
   "execution_count": 3,
   "metadata": {},
   "outputs": [
    {
     "data": {
      "text/html": [
       "<div>\n",
       "<style scoped>\n",
       "    .dataframe tbody tr th:only-of-type {\n",
       "        vertical-align: middle;\n",
       "    }\n",
       "\n",
       "    .dataframe tbody tr th {\n",
       "        vertical-align: top;\n",
       "    }\n",
       "\n",
       "    .dataframe thead th {\n",
       "        text-align: right;\n",
       "    }\n",
       "</style>\n",
       "<table border=\"1\" class=\"dataframe\">\n",
       "  <thead>\n",
       "    <tr style=\"text-align: right;\">\n",
       "      <th></th>\n",
       "      <th>tmp</th>\n",
       "      <th>hum</th>\n",
       "      <th>CO2</th>\n",
       "      <th>VOC</th>\n",
       "    </tr>\n",
       "  </thead>\n",
       "  <tbody>\n",
       "    <tr>\n",
       "      <th>0</th>\n",
       "      <td>23.0950</td>\n",
       "      <td>34.000</td>\n",
       "      <td>573.0</td>\n",
       "      <td>754.0</td>\n",
       "    </tr>\n",
       "    <tr>\n",
       "      <th>1</th>\n",
       "      <td>23.1125</td>\n",
       "      <td>33.840</td>\n",
       "      <td>545.0</td>\n",
       "      <td>750.0</td>\n",
       "    </tr>\n",
       "    <tr>\n",
       "      <th>2</th>\n",
       "      <td>23.0950</td>\n",
       "      <td>33.865</td>\n",
       "      <td>532.0</td>\n",
       "      <td>741.0</td>\n",
       "    </tr>\n",
       "    <tr>\n",
       "      <th>3</th>\n",
       "      <td>23.1650</td>\n",
       "      <td>33.825</td>\n",
       "      <td>516.0</td>\n",
       "      <td>754.0</td>\n",
       "    </tr>\n",
       "    <tr>\n",
       "      <th>4</th>\n",
       "      <td>23.2725</td>\n",
       "      <td>33.780</td>\n",
       "      <td>507.0</td>\n",
       "      <td>767.0</td>\n",
       "    </tr>\n",
       "  </tbody>\n",
       "</table>\n",
       "</div>"
      ],
      "text/plain": [
       "       tmp     hum    CO2    VOC\n",
       "0  23.0950  34.000  573.0  754.0\n",
       "1  23.1125  33.840  545.0  750.0\n",
       "2  23.0950  33.865  532.0  741.0\n",
       "3  23.1650  33.825  516.0  754.0\n",
       "4  23.2725  33.780  507.0  767.0"
      ]
     },
     "execution_count": 3,
     "metadata": {},
     "output_type": "execute_result"
    }
   ],
   "source": [
    "df_cutoff = df.copy\n",
    "df_cutoff = dp.cutoff_data(df, \"2023-01-13\", \"2023-03-28\")\n",
    "df_mean = dp.build_lvl_df(df_cutoff, a1, [\"tmp\", \"hum\", \"CO2\", \"VOC\"], reset_ind= True)\n",
    "df_mean.head()"
   ]
  },
  {
   "cell_type": "code",
   "execution_count": 4,
   "metadata": {},
   "outputs": [
    {
     "data": {
      "text/plain": [
       "((1775, 4), (1775,))"
      ]
     },
     "execution_count": 4,
     "metadata": {},
     "output_type": "execute_result"
    }
   ],
   "source": [
    "X = df_mean.to_numpy()\n",
    "y = df_mean[\"tmp\"].shift(-1).to_numpy()\n",
    "X.shape, y.shape"
   ]
  },
  {
   "cell_type": "code",
   "execution_count": 5,
   "metadata": {},
   "outputs": [
    {
     "data": {
      "text/plain": [
       "(torch.Size([1748, 4]),\n",
       " torch.Size([1748]),\n",
       " torch.Size([27, 4]),\n",
       " torch.Size([27]))"
      ]
     },
     "execution_count": 5,
     "metadata": {},
     "output_type": "execute_result"
    }
   ],
   "source": [
    "X_train, X_test, y_train, y_test = dp.train_test_split(X, y)\n",
    "X_train.shape, y_train.shape, X_test.shape, y_test.shape"
   ]
  },
  {
   "cell_type": "code",
   "execution_count": 6,
   "metadata": {},
   "outputs": [
    {
     "data": {
      "text/plain": [
       "(torch.Size([1747, 48, 4]),\n",
       " torch.Size([26, 48, 4]),\n",
       " torch.Size([1747]),\n",
       " torch.Size([26]))"
      ]
     },
     "execution_count": 6,
     "metadata": {},
     "output_type": "execute_result"
    }
   ],
   "source": [
    "X_train_new, X_test_new = dp.format_tensor(X_train), dp.format_tensor(X_test)\n",
    "X_train = X_train_new\n",
    "X_test = X_test_new\n",
    "y_train = y_train[:-1]#.unsqueeze(1)\n",
    "y_test = y_test[:-1]#.unsqueeze(1)\n",
    "X_train.shape, X_test.shape, y_train.shape, y_test.shape"
   ]
  },
  {
   "cell_type": "code",
   "execution_count": 7,
   "metadata": {},
   "outputs": [],
   "source": [
    "from torch.utils.data import DataLoader, TensorDataset\n",
    "\n",
    "batch_size = 64\n",
    "\n",
    "train_data = TensorDataset(X_train, y_train)\n",
    "test_data = TensorDataset(X_test, y_test)\n",
    "\n",
    "train_loader = DataLoader(train_data, shuffle=True, batch_size=batch_size)\n",
    "test_loader = DataLoader(test_data, shuffle=True, batch_size=batch_size)"
   ]
  },
  {
   "cell_type": "code",
   "execution_count": 8,
   "metadata": {},
   "outputs": [],
   "source": [
    "from foo import LSTM\n",
    "\n",
    "LSTM_model = LSTM(input_size=X_train.shape[2], hidden_size=100, num_layers=1, output_size=1)"
   ]
  },
  {
   "cell_type": "code",
   "execution_count": 9,
   "metadata": {},
   "outputs": [
    {
     "name": "stdout",
     "output_type": "stream",
     "text": [
      "Epoch [1/50], Step [10/28], Loss: 434.2662\n",
      "Epoch [1/50], Step [20/28], Loss: 412.4636\n",
      "Epoch [2/50], Step [10/28], Loss: 365.1982\n",
      "Epoch [2/50], Step [20/28], Loss: 349.8149\n",
      "Epoch [3/50], Step [10/28], Loss: 341.4386\n",
      "Epoch [3/50], Step [20/28], Loss: 333.0831\n",
      "Epoch [4/50], Step [10/28], Loss: 315.8915\n",
      "Epoch [4/50], Step [20/28], Loss: 295.7328\n",
      "Epoch [5/50], Step [10/28], Loss: 283.2833\n",
      "Epoch [5/50], Step [20/28], Loss: 275.8569\n",
      "Epoch [6/50], Step [10/28], Loss: 264.2761\n",
      "Epoch [6/50], Step [20/28], Loss: 249.5760\n",
      "Epoch [7/50], Step [10/28], Loss: 235.1166\n",
      "Epoch [7/50], Step [20/28], Loss: 220.4375\n",
      "Epoch [8/50], Step [10/28], Loss: 218.8708\n",
      "Epoch [8/50], Step [20/28], Loss: 205.8273\n",
      "Epoch [9/50], Step [10/28], Loss: 195.0175\n",
      "Epoch [9/50], Step [20/28], Loss: 182.7934\n",
      "Epoch [10/50], Step [10/28], Loss: 177.4277\n",
      "Epoch [10/50], Step [20/28], Loss: 161.9410\n",
      "Epoch [11/50], Step [10/28], Loss: 156.7275\n",
      "Epoch [11/50], Step [20/28], Loss: 148.4207\n",
      "Epoch [12/50], Step [10/28], Loss: 142.5694\n",
      "Epoch [12/50], Step [20/28], Loss: 139.6138\n",
      "Epoch [13/50], Step [10/28], Loss: 124.4561\n",
      "Epoch [13/50], Step [20/28], Loss: 132.0243\n",
      "Epoch [14/50], Step [10/28], Loss: 124.2417\n",
      "Epoch [14/50], Step [20/28], Loss: 111.3670\n",
      "Epoch [15/50], Step [10/28], Loss: 102.3920\n",
      "Epoch [15/50], Step [20/28], Loss: 98.2807\n",
      "Epoch [16/50], Step [10/28], Loss: 92.0273\n",
      "Epoch [16/50], Step [20/28], Loss: 88.4557\n",
      "Epoch [17/50], Step [10/28], Loss: 87.6385\n",
      "Epoch [17/50], Step [20/28], Loss: 78.2439\n",
      "Epoch [18/50], Step [10/28], Loss: 83.8239\n",
      "Epoch [18/50], Step [20/28], Loss: 79.4029\n",
      "Epoch [19/50], Step [10/28], Loss: 73.4771\n",
      "Epoch [19/50], Step [20/28], Loss: 63.9655\n",
      "Epoch [20/50], Step [10/28], Loss: 63.5039\n",
      "Epoch [20/50], Step [20/28], Loss: 63.5558\n",
      "Epoch [21/50], Step [10/28], Loss: 50.2475\n",
      "Epoch [21/50], Step [20/28], Loss: 55.9807\n",
      "Epoch [22/50], Step [10/28], Loss: 49.1145\n",
      "Epoch [22/50], Step [20/28], Loss: 44.0650\n",
      "Epoch [23/50], Step [10/28], Loss: 45.4779\n",
      "Epoch [23/50], Step [20/28], Loss: 44.6234\n",
      "Epoch [24/50], Step [10/28], Loss: 40.3153\n",
      "Epoch [24/50], Step [20/28], Loss: 34.7794\n",
      "Epoch [25/50], Step [10/28], Loss: 34.7429\n",
      "Epoch [25/50], Step [20/28], Loss: 32.4897\n",
      "Epoch [26/50], Step [10/28], Loss: 31.7738\n",
      "Epoch [26/50], Step [20/28], Loss: 32.0924\n",
      "Epoch [27/50], Step [10/28], Loss: 30.0257\n",
      "Epoch [27/50], Step [20/28], Loss: 25.9135\n",
      "Epoch [28/50], Step [10/28], Loss: 28.9718\n",
      "Epoch [28/50], Step [20/28], Loss: 27.0933\n",
      "Epoch [29/50], Step [10/28], Loss: 25.0307\n",
      "Epoch [29/50], Step [20/28], Loss: 19.9593\n",
      "Epoch [30/50], Step [10/28], Loss: 22.6727\n",
      "Epoch [30/50], Step [20/28], Loss: 21.9013\n",
      "Epoch [31/50], Step [10/28], Loss: 19.5998\n",
      "Epoch [31/50], Step [20/28], Loss: 17.1199\n",
      "Epoch [32/50], Step [10/28], Loss: 17.5290\n",
      "Epoch [32/50], Step [20/28], Loss: 17.8649\n",
      "Epoch [33/50], Step [10/28], Loss: 15.5335\n",
      "Epoch [33/50], Step [20/28], Loss: 17.0410\n",
      "Epoch [34/50], Step [10/28], Loss: 13.9150\n",
      "Epoch [34/50], Step [20/28], Loss: 15.4741\n",
      "Epoch [35/50], Step [10/28], Loss: 13.7521\n",
      "Epoch [35/50], Step [20/28], Loss: 15.2364\n",
      "Epoch [36/50], Step [10/28], Loss: 11.6615\n",
      "Epoch [36/50], Step [20/28], Loss: 9.8791\n",
      "Epoch [37/50], Step [10/28], Loss: 8.9922\n",
      "Epoch [37/50], Step [20/28], Loss: 8.8079\n",
      "Epoch [38/50], Step [10/28], Loss: 9.8124\n",
      "Epoch [38/50], Step [20/28], Loss: 9.0868\n",
      "Epoch [39/50], Step [10/28], Loss: 9.1274\n",
      "Epoch [39/50], Step [20/28], Loss: 8.3824\n",
      "Epoch [40/50], Step [10/28], Loss: 7.9783\n",
      "Epoch [40/50], Step [20/28], Loss: 7.6945\n",
      "Epoch [41/50], Step [10/28], Loss: 7.1116\n",
      "Epoch [41/50], Step [20/28], Loss: 6.4874\n",
      "Epoch [42/50], Step [10/28], Loss: 7.2533\n",
      "Epoch [42/50], Step [20/28], Loss: 6.4777\n",
      "Epoch [43/50], Step [10/28], Loss: 6.3663\n",
      "Epoch [43/50], Step [20/28], Loss: 6.1250\n",
      "Epoch [44/50], Step [10/28], Loss: 5.2787\n",
      "Epoch [44/50], Step [20/28], Loss: 3.6151\n",
      "Epoch [45/50], Step [10/28], Loss: 4.7026\n",
      "Epoch [45/50], Step [20/28], Loss: 5.4870\n",
      "Epoch [46/50], Step [10/28], Loss: 4.3196\n",
      "Epoch [46/50], Step [20/28], Loss: 4.6750\n",
      "Epoch [47/50], Step [10/28], Loss: 4.5788\n",
      "Epoch [47/50], Step [20/28], Loss: 4.5334\n",
      "Epoch [48/50], Step [10/28], Loss: 4.2998\n",
      "Epoch [48/50], Step [20/28], Loss: 4.8031\n",
      "Epoch [49/50], Step [10/28], Loss: 4.1527\n",
      "Epoch [49/50], Step [20/28], Loss: 3.1631\n",
      "Epoch [50/50], Step [10/28], Loss: 3.5314\n",
      "Epoch [50/50], Step [20/28], Loss: 4.0557\n",
      "[0.0006050060671375363]\n"
     ]
    }
   ],
   "source": [
    "from torch.optim import lr_scheduler \n",
    "\n",
    "num_epochs = 50\n",
    "learning_rate = 0.001\n",
    "criterion = torch.nn.MSELoss()\n",
    "optimizer = torch.optim.Adam(LSTM_model.parameters(), lr=learning_rate)\n",
    "scheduler = lr_scheduler.ExponentialLR(optimizer, gamma= 0.99)\n",
    "\n",
    "LSTM_model.train()\n",
    "#labels = []\n",
    "#outputs = []\n",
    "for epoch in range(num_epochs):\n",
    "    for i, (features, target) in enumerate(train_loader):\n",
    "        optimizer.zero_grad(set_to_none=True)\n",
    "        output = LSTM_model(features)\n",
    "        target = target.unsqueeze(1)\n",
    "        loss = criterion(output, target)\n",
    "        loss.backward()\n",
    "        optimizer.step()\n",
    "        #labels.extend(target.detach().numpy()[0])\n",
    "        #outputs.extend(output.detach().numpy()[0])\n",
    "        if (i+1) % 10 == 0:\n",
    "            print('Epoch [{}/{}], Step [{}/{}], Loss: {:.4f}'.format(epoch+1, num_epochs, i+1, len(train_loader), loss.item()))\n",
    "    scheduler.step()\n",
    "print(scheduler.get_last_lr())"
   ]
  },
  {
   "cell_type": "code",
   "execution_count": 10,
   "metadata": {},
   "outputs": [
    {
     "name": "stdout",
     "output_type": "stream",
     "text": [
      "Test Loss: 2.7592\n"
     ]
    }
   ],
   "source": [
    "# LSTM_model.eval()  # Set the model to evaluation mode\n",
    "\n",
    "# test_features, test_targets = next(iter(test_loader))  # Get a batch of test data\n",
    "# test_targets = test_targets.unsqueeze(1)  # Expand target to match the output shape\n",
    "\n",
    "# with torch.no_grad():  # Disable gradient computation\n",
    "#     predictions = LSTM_model(test_features)  # Make predictions\n",
    "\n",
    "# # Calculate the mean squared error of the predictions\n",
    "# test_loss = criterion(predictions, test_targets)\n",
    "# print('Test Loss: {:.4f}'.format(test_loss.item()))\n",
    "\n",
    "LSTM_model.eval()  # Set the model to evaluation mode\n",
    "\n",
    "train_features, train_targets = next(iter(train_loader))  # Get a batch of train data\n",
    "train_targets = train_targets.unsqueeze(1)  # Expand target to match the output shape\n",
    "\n",
    "with torch.no_grad():  # Disable gradient computation\n",
    "    predictions = LSTM_model(train_features)  # Make predictions\n",
    "\n",
    "# Calculate the mean squared error of the predictions\n",
    "train_loss = criterion(predictions, train_targets)\n",
    "print('Test Loss: {:.4f}'.format(train_loss.item()))"
   ]
  },
  {
   "cell_type": "code",
   "execution_count": 11,
   "metadata": {},
   "outputs": [
    {
     "data": {
      "text/plain": [
       "tensor([[19.7870],\n",
       "        [20.8910],\n",
       "        [19.7870],\n",
       "        [19.7870],\n",
       "        [19.7870],\n",
       "        [19.7870],\n",
       "        [19.7870],\n",
       "        [19.7870],\n",
       "        [19.7870],\n",
       "        [19.7870],\n",
       "        [19.7870],\n",
       "        [19.7870],\n",
       "        [19.7870],\n",
       "        [19.7870],\n",
       "        [19.7870],\n",
       "        [19.7870],\n",
       "        [19.7870],\n",
       "        [19.7870],\n",
       "        [19.7870],\n",
       "        [19.7870],\n",
       "        [19.7870],\n",
       "        [19.7870],\n",
       "        [19.7870],\n",
       "        [20.8993],\n",
       "        [19.7870],\n",
       "        [19.7870],\n",
       "        [19.7870],\n",
       "        [19.7870],\n",
       "        [19.7870],\n",
       "        [19.7870],\n",
       "        [21.3206],\n",
       "        [19.7870],\n",
       "        [19.7870],\n",
       "        [19.7870],\n",
       "        [19.7870],\n",
       "        [19.7870],\n",
       "        [19.7870],\n",
       "        [19.7870],\n",
       "        [19.7870],\n",
       "        [19.7870],\n",
       "        [19.7870],\n",
       "        [19.7870],\n",
       "        [19.8124],\n",
       "        [19.7870],\n",
       "        [19.7870],\n",
       "        [19.7870],\n",
       "        [20.8985],\n",
       "        [19.7870],\n",
       "        [19.7870],\n",
       "        [19.7870],\n",
       "        [19.7870],\n",
       "        [19.7870],\n",
       "        [19.7870],\n",
       "        [19.7870],\n",
       "        [19.7870],\n",
       "        [19.7870],\n",
       "        [19.7870],\n",
       "        [19.7870],\n",
       "        [19.7870],\n",
       "        [20.8971],\n",
       "        [19.7870],\n",
       "        [19.7870],\n",
       "        [19.7870],\n",
       "        [19.7870]])"
      ]
     },
     "execution_count": 11,
     "metadata": {},
     "output_type": "execute_result"
    }
   ],
   "source": [
    "predictions"
   ]
  },
  {
   "cell_type": "code",
   "execution_count": 12,
   "metadata": {},
   "outputs": [
    {
     "data": {
      "application/vnd.plotly.v1+json": {
       "config": {
        "plotlyServerURL": "https://plot.ly"
       },
       "data": [
        {
         "mode": "lines",
         "name": "test_targets",
         "type": "scatter",
         "y": [
          21.096111297607422,
          19.902082443237305,
          21.99814796447754,
          17.49333381652832,
          18.84055519104004,
          22.414583206176758,
          21.292139053344727,
          21.88652801513672,
          21.26966667175293,
          21.51307487487793,
          19.989665985107422,
          20.148611068725586,
          21.4012508392334,
          21.689340591430664,
          19.410139083862305,
          21.516250610351562,
          21.11888885498047,
          20.94763946533203,
          22.28069496154785,
          19.947221755981445,
          21.926389694213867,
          20.408193588256836,
          22.0223331451416,
          19.855833053588867,
          21.550832748413086,
          21.333749771118164,
          19.84583282470703,
          21.215415954589844,
          21.56194496154785,
          19.793333053588867,
          18.94069480895996,
          21.93375015258789,
          19.802440643310547,
          21.733612060546875,
          22.1391658782959,
          19.704166412353516,
          21.582229614257812,
          21.871749877929688,
          23.297916412353516,
          20.508277893066406,
          21.162582397460938,
          21.230693817138672,
          19.551389694213867,
          20.921112060546875,
          20.960695266723633,
          20.16805648803711,
          19.710832595825195,
          22.842500686645508,
          22.969528198242188,
          20.585277557373047,
          21.306249618530273,
          21.90041732788086,
          22.458415985107422,
          21.3428897857666,
          19.28208351135254,
          19.891250610351562,
          20.5402774810791,
          19.592222213745117,
          19.856666564941406,
          19.411527633666992,
          19.57210922241211,
          22.173749923706055,
          21.490833282470703,
          22.433332443237305
         ]
        },
        {
         "mode": "lines",
         "name": "Predictions",
         "type": "scatter",
         "y": [
          19.786964416503906,
          20.891000747680664,
          19.786964416503906,
          19.786964416503906,
          19.786964416503906,
          19.78696060180664,
          19.786964416503906,
          19.786964416503906,
          19.786964416503906,
          19.786964416503906,
          19.786964416503906,
          19.786964416503906,
          19.786964416503906,
          19.786964416503906,
          19.786964416503906,
          19.786964416503906,
          19.786964416503906,
          19.786964416503906,
          19.786964416503906,
          19.786964416503906,
          19.786964416503906,
          19.786964416503906,
          19.786964416503906,
          20.89934539794922,
          19.786964416503906,
          19.786964416503906,
          19.786964416503906,
          19.786964416503906,
          19.786964416503906,
          19.786964416503906,
          21.320629119873047,
          19.786964416503906,
          19.786964416503906,
          19.786964416503906,
          19.786964416503906,
          19.786964416503906,
          19.786964416503906,
          19.786964416503906,
          19.786964416503906,
          19.786964416503906,
          19.786964416503906,
          19.786964416503906,
          19.81237030029297,
          19.786964416503906,
          19.786964416503906,
          19.786964416503906,
          20.898452758789062,
          19.786964416503906,
          19.786964416503906,
          19.786964416503906,
          19.786964416503906,
          19.786964416503906,
          19.786964416503906,
          19.786964416503906,
          19.786964416503906,
          19.786964416503906,
          19.786964416503906,
          19.786964416503906,
          19.786964416503906,
          20.897113800048828,
          19.786964416503906,
          19.786964416503906,
          19.786964416503906,
          19.786964416503906
         ]
        }
       ],
       "layout": {
        "template": {
         "data": {
          "bar": [
           {
            "error_x": {
             "color": "#2a3f5f"
            },
            "error_y": {
             "color": "#2a3f5f"
            },
            "marker": {
             "line": {
              "color": "#E5ECF6",
              "width": 0.5
             },
             "pattern": {
              "fillmode": "overlay",
              "size": 10,
              "solidity": 0.2
             }
            },
            "type": "bar"
           }
          ],
          "barpolar": [
           {
            "marker": {
             "line": {
              "color": "#E5ECF6",
              "width": 0.5
             },
             "pattern": {
              "fillmode": "overlay",
              "size": 10,
              "solidity": 0.2
             }
            },
            "type": "barpolar"
           }
          ],
          "carpet": [
           {
            "aaxis": {
             "endlinecolor": "#2a3f5f",
             "gridcolor": "white",
             "linecolor": "white",
             "minorgridcolor": "white",
             "startlinecolor": "#2a3f5f"
            },
            "baxis": {
             "endlinecolor": "#2a3f5f",
             "gridcolor": "white",
             "linecolor": "white",
             "minorgridcolor": "white",
             "startlinecolor": "#2a3f5f"
            },
            "type": "carpet"
           }
          ],
          "choropleth": [
           {
            "colorbar": {
             "outlinewidth": 0,
             "ticks": ""
            },
            "type": "choropleth"
           }
          ],
          "contour": [
           {
            "colorbar": {
             "outlinewidth": 0,
             "ticks": ""
            },
            "colorscale": [
             [
              0,
              "#0d0887"
             ],
             [
              0.1111111111111111,
              "#46039f"
             ],
             [
              0.2222222222222222,
              "#7201a8"
             ],
             [
              0.3333333333333333,
              "#9c179e"
             ],
             [
              0.4444444444444444,
              "#bd3786"
             ],
             [
              0.5555555555555556,
              "#d8576b"
             ],
             [
              0.6666666666666666,
              "#ed7953"
             ],
             [
              0.7777777777777778,
              "#fb9f3a"
             ],
             [
              0.8888888888888888,
              "#fdca26"
             ],
             [
              1,
              "#f0f921"
             ]
            ],
            "type": "contour"
           }
          ],
          "contourcarpet": [
           {
            "colorbar": {
             "outlinewidth": 0,
             "ticks": ""
            },
            "type": "contourcarpet"
           }
          ],
          "heatmap": [
           {
            "colorbar": {
             "outlinewidth": 0,
             "ticks": ""
            },
            "colorscale": [
             [
              0,
              "#0d0887"
             ],
             [
              0.1111111111111111,
              "#46039f"
             ],
             [
              0.2222222222222222,
              "#7201a8"
             ],
             [
              0.3333333333333333,
              "#9c179e"
             ],
             [
              0.4444444444444444,
              "#bd3786"
             ],
             [
              0.5555555555555556,
              "#d8576b"
             ],
             [
              0.6666666666666666,
              "#ed7953"
             ],
             [
              0.7777777777777778,
              "#fb9f3a"
             ],
             [
              0.8888888888888888,
              "#fdca26"
             ],
             [
              1,
              "#f0f921"
             ]
            ],
            "type": "heatmap"
           }
          ],
          "heatmapgl": [
           {
            "colorbar": {
             "outlinewidth": 0,
             "ticks": ""
            },
            "colorscale": [
             [
              0,
              "#0d0887"
             ],
             [
              0.1111111111111111,
              "#46039f"
             ],
             [
              0.2222222222222222,
              "#7201a8"
             ],
             [
              0.3333333333333333,
              "#9c179e"
             ],
             [
              0.4444444444444444,
              "#bd3786"
             ],
             [
              0.5555555555555556,
              "#d8576b"
             ],
             [
              0.6666666666666666,
              "#ed7953"
             ],
             [
              0.7777777777777778,
              "#fb9f3a"
             ],
             [
              0.8888888888888888,
              "#fdca26"
             ],
             [
              1,
              "#f0f921"
             ]
            ],
            "type": "heatmapgl"
           }
          ],
          "histogram": [
           {
            "marker": {
             "pattern": {
              "fillmode": "overlay",
              "size": 10,
              "solidity": 0.2
             }
            },
            "type": "histogram"
           }
          ],
          "histogram2d": [
           {
            "colorbar": {
             "outlinewidth": 0,
             "ticks": ""
            },
            "colorscale": [
             [
              0,
              "#0d0887"
             ],
             [
              0.1111111111111111,
              "#46039f"
             ],
             [
              0.2222222222222222,
              "#7201a8"
             ],
             [
              0.3333333333333333,
              "#9c179e"
             ],
             [
              0.4444444444444444,
              "#bd3786"
             ],
             [
              0.5555555555555556,
              "#d8576b"
             ],
             [
              0.6666666666666666,
              "#ed7953"
             ],
             [
              0.7777777777777778,
              "#fb9f3a"
             ],
             [
              0.8888888888888888,
              "#fdca26"
             ],
             [
              1,
              "#f0f921"
             ]
            ],
            "type": "histogram2d"
           }
          ],
          "histogram2dcontour": [
           {
            "colorbar": {
             "outlinewidth": 0,
             "ticks": ""
            },
            "colorscale": [
             [
              0,
              "#0d0887"
             ],
             [
              0.1111111111111111,
              "#46039f"
             ],
             [
              0.2222222222222222,
              "#7201a8"
             ],
             [
              0.3333333333333333,
              "#9c179e"
             ],
             [
              0.4444444444444444,
              "#bd3786"
             ],
             [
              0.5555555555555556,
              "#d8576b"
             ],
             [
              0.6666666666666666,
              "#ed7953"
             ],
             [
              0.7777777777777778,
              "#fb9f3a"
             ],
             [
              0.8888888888888888,
              "#fdca26"
             ],
             [
              1,
              "#f0f921"
             ]
            ],
            "type": "histogram2dcontour"
           }
          ],
          "mesh3d": [
           {
            "colorbar": {
             "outlinewidth": 0,
             "ticks": ""
            },
            "type": "mesh3d"
           }
          ],
          "parcoords": [
           {
            "line": {
             "colorbar": {
              "outlinewidth": 0,
              "ticks": ""
             }
            },
            "type": "parcoords"
           }
          ],
          "pie": [
           {
            "automargin": true,
            "type": "pie"
           }
          ],
          "scatter": [
           {
            "fillpattern": {
             "fillmode": "overlay",
             "size": 10,
             "solidity": 0.2
            },
            "type": "scatter"
           }
          ],
          "scatter3d": [
           {
            "line": {
             "colorbar": {
              "outlinewidth": 0,
              "ticks": ""
             }
            },
            "marker": {
             "colorbar": {
              "outlinewidth": 0,
              "ticks": ""
             }
            },
            "type": "scatter3d"
           }
          ],
          "scattercarpet": [
           {
            "marker": {
             "colorbar": {
              "outlinewidth": 0,
              "ticks": ""
             }
            },
            "type": "scattercarpet"
           }
          ],
          "scattergeo": [
           {
            "marker": {
             "colorbar": {
              "outlinewidth": 0,
              "ticks": ""
             }
            },
            "type": "scattergeo"
           }
          ],
          "scattergl": [
           {
            "marker": {
             "colorbar": {
              "outlinewidth": 0,
              "ticks": ""
             }
            },
            "type": "scattergl"
           }
          ],
          "scattermapbox": [
           {
            "marker": {
             "colorbar": {
              "outlinewidth": 0,
              "ticks": ""
             }
            },
            "type": "scattermapbox"
           }
          ],
          "scatterpolar": [
           {
            "marker": {
             "colorbar": {
              "outlinewidth": 0,
              "ticks": ""
             }
            },
            "type": "scatterpolar"
           }
          ],
          "scatterpolargl": [
           {
            "marker": {
             "colorbar": {
              "outlinewidth": 0,
              "ticks": ""
             }
            },
            "type": "scatterpolargl"
           }
          ],
          "scatterternary": [
           {
            "marker": {
             "colorbar": {
              "outlinewidth": 0,
              "ticks": ""
             }
            },
            "type": "scatterternary"
           }
          ],
          "surface": [
           {
            "colorbar": {
             "outlinewidth": 0,
             "ticks": ""
            },
            "colorscale": [
             [
              0,
              "#0d0887"
             ],
             [
              0.1111111111111111,
              "#46039f"
             ],
             [
              0.2222222222222222,
              "#7201a8"
             ],
             [
              0.3333333333333333,
              "#9c179e"
             ],
             [
              0.4444444444444444,
              "#bd3786"
             ],
             [
              0.5555555555555556,
              "#d8576b"
             ],
             [
              0.6666666666666666,
              "#ed7953"
             ],
             [
              0.7777777777777778,
              "#fb9f3a"
             ],
             [
              0.8888888888888888,
              "#fdca26"
             ],
             [
              1,
              "#f0f921"
             ]
            ],
            "type": "surface"
           }
          ],
          "table": [
           {
            "cells": {
             "fill": {
              "color": "#EBF0F8"
             },
             "line": {
              "color": "white"
             }
            },
            "header": {
             "fill": {
              "color": "#C8D4E3"
             },
             "line": {
              "color": "white"
             }
            },
            "type": "table"
           }
          ]
         },
         "layout": {
          "annotationdefaults": {
           "arrowcolor": "#2a3f5f",
           "arrowhead": 0,
           "arrowwidth": 1
          },
          "autotypenumbers": "strict",
          "coloraxis": {
           "colorbar": {
            "outlinewidth": 0,
            "ticks": ""
           }
          },
          "colorscale": {
           "diverging": [
            [
             0,
             "#8e0152"
            ],
            [
             0.1,
             "#c51b7d"
            ],
            [
             0.2,
             "#de77ae"
            ],
            [
             0.3,
             "#f1b6da"
            ],
            [
             0.4,
             "#fde0ef"
            ],
            [
             0.5,
             "#f7f7f7"
            ],
            [
             0.6,
             "#e6f5d0"
            ],
            [
             0.7,
             "#b8e186"
            ],
            [
             0.8,
             "#7fbc41"
            ],
            [
             0.9,
             "#4d9221"
            ],
            [
             1,
             "#276419"
            ]
           ],
           "sequential": [
            [
             0,
             "#0d0887"
            ],
            [
             0.1111111111111111,
             "#46039f"
            ],
            [
             0.2222222222222222,
             "#7201a8"
            ],
            [
             0.3333333333333333,
             "#9c179e"
            ],
            [
             0.4444444444444444,
             "#bd3786"
            ],
            [
             0.5555555555555556,
             "#d8576b"
            ],
            [
             0.6666666666666666,
             "#ed7953"
            ],
            [
             0.7777777777777778,
             "#fb9f3a"
            ],
            [
             0.8888888888888888,
             "#fdca26"
            ],
            [
             1,
             "#f0f921"
            ]
           ],
           "sequentialminus": [
            [
             0,
             "#0d0887"
            ],
            [
             0.1111111111111111,
             "#46039f"
            ],
            [
             0.2222222222222222,
             "#7201a8"
            ],
            [
             0.3333333333333333,
             "#9c179e"
            ],
            [
             0.4444444444444444,
             "#bd3786"
            ],
            [
             0.5555555555555556,
             "#d8576b"
            ],
            [
             0.6666666666666666,
             "#ed7953"
            ],
            [
             0.7777777777777778,
             "#fb9f3a"
            ],
            [
             0.8888888888888888,
             "#fdca26"
            ],
            [
             1,
             "#f0f921"
            ]
           ]
          },
          "colorway": [
           "#636efa",
           "#EF553B",
           "#00cc96",
           "#ab63fa",
           "#FFA15A",
           "#19d3f3",
           "#FF6692",
           "#B6E880",
           "#FF97FF",
           "#FECB52"
          ],
          "font": {
           "color": "#2a3f5f"
          },
          "geo": {
           "bgcolor": "white",
           "lakecolor": "white",
           "landcolor": "#E5ECF6",
           "showlakes": true,
           "showland": true,
           "subunitcolor": "white"
          },
          "hoverlabel": {
           "align": "left"
          },
          "hovermode": "closest",
          "mapbox": {
           "style": "light"
          },
          "paper_bgcolor": "white",
          "plot_bgcolor": "#E5ECF6",
          "polar": {
           "angularaxis": {
            "gridcolor": "white",
            "linecolor": "white",
            "ticks": ""
           },
           "bgcolor": "#E5ECF6",
           "radialaxis": {
            "gridcolor": "white",
            "linecolor": "white",
            "ticks": ""
           }
          },
          "scene": {
           "xaxis": {
            "backgroundcolor": "#E5ECF6",
            "gridcolor": "white",
            "gridwidth": 2,
            "linecolor": "white",
            "showbackground": true,
            "ticks": "",
            "zerolinecolor": "white"
           },
           "yaxis": {
            "backgroundcolor": "#E5ECF6",
            "gridcolor": "white",
            "gridwidth": 2,
            "linecolor": "white",
            "showbackground": true,
            "ticks": "",
            "zerolinecolor": "white"
           },
           "zaxis": {
            "backgroundcolor": "#E5ECF6",
            "gridcolor": "white",
            "gridwidth": 2,
            "linecolor": "white",
            "showbackground": true,
            "ticks": "",
            "zerolinecolor": "white"
           }
          },
          "shapedefaults": {
           "line": {
            "color": "#2a3f5f"
           }
          },
          "ternary": {
           "aaxis": {
            "gridcolor": "white",
            "linecolor": "white",
            "ticks": ""
           },
           "baxis": {
            "gridcolor": "white",
            "linecolor": "white",
            "ticks": ""
           },
           "bgcolor": "#E5ECF6",
           "caxis": {
            "gridcolor": "white",
            "linecolor": "white",
            "ticks": ""
           }
          },
          "title": {
           "x": 0.05
          },
          "xaxis": {
           "automargin": true,
           "gridcolor": "white",
           "linecolor": "white",
           "ticks": "",
           "title": {
            "standoff": 15
           },
           "zerolinecolor": "white",
           "zerolinewidth": 2
          },
          "yaxis": {
           "automargin": true,
           "gridcolor": "white",
           "linecolor": "white",
           "ticks": "",
           "title": {
            "standoff": 15
           },
           "zerolinecolor": "white",
           "zerolinewidth": 2
          }
         }
        },
        "title": {
         "text": "test_targets vs predictions"
        },
        "xaxis": {
         "title": {
          "text": "Index"
         }
        },
        "yaxis": {
         "title": {
          "text": "Value"
         }
        }
       }
      }
     },
     "metadata": {},
     "output_type": "display_data"
    }
   ],
   "source": [
    "import plotly.graph_objects as go\n",
    "\n",
    "def plt_pred(test_targets, predictions):\n",
    "    fig = go.Figure()\n",
    "    fig.add_trace(go.Scatter(y=test_targets, mode='lines', name='test_targets'))\n",
    "    fig.add_trace(go.Scatter(y=predictions, mode='lines', name='Predictions'))\n",
    "    fig.update_layout(title='test_targets vs predictions', xaxis_title='Index', yaxis_title='Value')\n",
    "    fig.show()\n",
    "\n",
    "plt_pred(train_targets.view(-1).tolist(), predictions.view(-1).tolist())"
   ]
  },
  {
   "cell_type": "code",
   "execution_count": 13,
   "metadata": {},
   "outputs": [],
   "source": [
    "#torch.save(LSTM_model.state_dict(), \"LSTM_model.pth\")"
   ]
  }
 ],
 "metadata": {
  "kernelspec": {
   "display_name": "Python 3",
   "language": "python",
   "name": "python3"
  },
  "language_info": {
   "codemirror_mode": {
    "name": "ipython",
    "version": 3
   },
   "file_extension": ".py",
   "mimetype": "text/x-python",
   "name": "python",
   "nbconvert_exporter": "python",
   "pygments_lexer": "ipython3",
   "version": "3.12.2"
  }
 },
 "nbformat": 4,
 "nbformat_minor": 2
}
