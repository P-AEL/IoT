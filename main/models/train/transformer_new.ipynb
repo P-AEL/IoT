{
 "cells": [
  {
   "cell_type": "code",
   "execution_count": 22,
   "metadata": {},
   "outputs": [],
   "source": [
    "import pandas as pd, dataprep as dp\n",
    "import torch\n",
    "import torch.nn as nn\n",
    "import numpy as np"
   ]
  },
  {
   "cell_type": "code",
   "execution_count": 2,
   "metadata": {},
   "outputs": [
    {
     "data": {
      "text/plain": [
       "{'train': Data(x=tensor([[[ 0.1110,  0.0978,  1.1618, -1.2062],\n",
       "          [ 0.3710, -0.0261,  0.7302, -1.1759],\n",
       "          [ 0.3892, -0.1984,  0.8281, -1.0404],\n",
       "          ...,\n",
       "          [ 0.7391, -0.5215,  0.2090, -0.4050],\n",
       "          [ 1.2377, -0.5538, -0.0441, -0.3350],\n",
       "          [ 0.6267, -0.6184,  0.4645, -0.4915]],\n",
       " \n",
       "         [[ 0.3710, -0.0261,  0.7302, -1.1759],\n",
       "          [ 0.3892, -0.1984,  0.8281, -1.0404],\n",
       "          [ 0.3903, -0.1123,  1.0159, -0.9680],\n",
       "          ...,\n",
       "          [ 1.2377, -0.5538, -0.0441, -0.3350],\n",
       "          [ 0.6267, -0.6184,  0.4645, -0.4915],\n",
       "          [ 0.4071, -0.5969,  0.6948, -0.5288]],\n",
       " \n",
       "         [[ 0.3892, -0.1984,  0.8281, -1.0404],\n",
       "          [ 0.3903, -0.1123,  1.0159, -0.9680],\n",
       "          [ 0.3798, -0.0099,  1.3002, -0.5522],\n",
       "          ...,\n",
       "          [ 0.6267, -0.6184,  0.4645, -0.4915],\n",
       "          [ 0.4071, -0.5969,  0.6948, -0.5288],\n",
       "          [ 0.3145, -0.5592,  0.8905, -0.4751]],\n",
       " \n",
       "         ...,\n",
       " \n",
       "         [[ 1.7935, -0.5053,  0.0133,  0.5831],\n",
       "          [ 1.6926, -0.4569,  0.1123,  0.8447],\n",
       "          [ 1.6051, -0.3761,  0.2177,  1.0035],\n",
       "          ...,\n",
       "          [ 1.7612, -0.6077,  0.3224,  1.0129],\n",
       "          [ 1.6861, -0.5053,  0.3434,  0.8961],\n",
       "          [ 1.6394, -0.5107,  0.3721,  0.8634]],\n",
       " \n",
       "         [[ 1.6926, -0.4569,  0.1123,  0.8447],\n",
       "          [ 1.6051, -0.3761,  0.2177,  1.0035],\n",
       "          [ 1.5431, -0.3115,  0.2957,  1.1484],\n",
       "          ...,\n",
       "          [ 1.6861, -0.5053,  0.3434,  0.8961],\n",
       "          [ 1.6394, -0.5107,  0.3721,  0.8634],\n",
       "          [ 1.5905, -0.4784,  0.4039,  0.7933]],\n",
       " \n",
       "         [[ 1.6051, -0.3761,  0.2177,  1.0035],\n",
       "          [ 1.5431, -0.3115,  0.2957,  1.1484],\n",
       "          [ 1.4774, -0.2200,  0.4050,  1.1016],\n",
       "          ...,\n",
       "          [ 1.6394, -0.5107,  0.3721,  0.8634],\n",
       "          [ 1.5905, -0.4784,  0.4039,  0.7933],\n",
       "          [ 1.5431, -0.3977,  0.4421,  0.6695]]]), y=tensor([[0.4071],\n",
       "         [0.3145],\n",
       "         [0.3339],\n",
       "         ...,\n",
       "         [1.5905],\n",
       "         [1.5431],\n",
       "         [1.5022]]), scaler=StandardScaler(), loader=<torch.utils.data.dataloader.DataLoader object at 0x0000023F306CA0E0>),\n",
       " 'test': Data(x=tensor([[[ 1.3052e+00, -3.9765e-01,  5.5191e-01, -5.8022e-01],\n",
       "          [ 1.2870e+00, -4.1381e-01,  5.5884e-01, -6.1059e-01],\n",
       "          [ 1.2717e+00, -3.9227e-01,  5.6448e-01, -6.5965e-01],\n",
       "          ...,\n",
       "          [ 1.3030e+00, -2.8996e-01,  3.6289e-01,  2.2440e-02],\n",
       "          [ 1.2753e+00, -3.4919e-01,  4.0829e-01, -9.9027e-02],\n",
       "          [ 1.2505e+00, -3.3303e-01,  4.3471e-01, -1.2239e-01]],\n",
       " \n",
       "         [[ 1.2870e+00, -4.1381e-01,  5.5884e-01, -6.1059e-01],\n",
       "          [ 1.2717e+00, -3.9227e-01,  5.6448e-01, -6.5965e-01],\n",
       "          [ 1.2359e+00, -3.4919e-01,  5.8936e-01, -7.3673e-01],\n",
       "          ...,\n",
       "          [ 1.2753e+00, -3.4919e-01,  4.0829e-01, -9.9027e-02],\n",
       "          [ 1.2505e+00, -3.3303e-01,  4.3471e-01, -1.2239e-01],\n",
       "          [ 1.2374e+00, -3.9227e-01,  4.7984e-01, -2.0181e-01]],\n",
       " \n",
       "         [[ 1.2717e+00, -3.9227e-01,  5.6448e-01, -6.5965e-01],\n",
       "          [ 1.2359e+00, -3.4919e-01,  5.8936e-01, -7.3673e-01],\n",
       "          [ 8.1787e-01, -4.1381e-01,  8.3223e-01, -3.8634e-01],\n",
       "          ...,\n",
       "          [ 1.2505e+00, -3.3303e-01,  4.3471e-01, -1.2239e-01],\n",
       "          [ 1.2374e+00, -3.9227e-01,  4.7984e-01, -2.0181e-01],\n",
       "          [ 1.2155e+00, -4.0304e-01,  5.0498e-01, -9.6691e-02]],\n",
       " \n",
       "         ...,\n",
       " \n",
       "         [[ 3.3732e-01,  1.6237e-01,  1.6296e+00,  1.7487e+00],\n",
       "          [ 2.6996e-01,  1.2468e-01,  1.6604e+00,  1.8117e+00],\n",
       "          [ 2.2326e-01,  6.5443e-02,  1.7124e+00,  1.8141e+00],\n",
       "          ...,\n",
       "          [ 2.0575e-01, -2.4149e-01,  1.0166e+00,  1.4172e-03],\n",
       "          [ 1.3498e-01, -2.4688e-01,  1.0879e+00, -9.1872e-04],\n",
       "          [ 7.8077e-02, -2.3072e-01,  1.1680e+00,  9.4854e-02]],\n",
       " \n",
       "         [[ 2.6996e-01,  1.2468e-01,  1.6604e+00,  1.8117e+00],\n",
       "          [ 2.2326e-01,  6.5443e-02,  1.7124e+00,  1.8141e+00],\n",
       "          [ 1.6709e-01, -4.5601e-03,  1.7617e+00,  1.9706e+00],\n",
       "          ...,\n",
       "          [ 1.3498e-01, -2.4688e-01,  1.0879e+00, -9.1872e-04],\n",
       "          [ 7.8077e-02, -2.3072e-01,  1.1680e+00,  9.4854e-02],\n",
       "          [ 2.7736e-02, -2.3611e-01,  1.2608e+00,  2.4776e-02]],\n",
       " \n",
       "         [[ 2.2326e-01,  6.5443e-02,  1.7124e+00,  1.8141e+00],\n",
       "          [ 1.6709e-01, -4.5601e-03,  1.7617e+00,  1.9706e+00],\n",
       "          [ 1.3134e-01, -9.9450e-03,  1.7966e+00,  1.9028e+00],\n",
       "          ...,\n",
       "          [ 7.8077e-02, -2.3072e-01,  1.1680e+00,  9.4854e-02],\n",
       "          [ 2.7736e-02, -2.3611e-01,  1.2608e+00,  2.4776e-02],\n",
       "          [-6.5546e-03, -1.6610e-01,  1.3182e+00,  1.5792e-01]]]), y=tensor([[ 1.2374],\n",
       "         [ 1.2155],\n",
       "         [ 1.1805],\n",
       "         ...,\n",
       "         [ 0.0277],\n",
       "         [-0.0066],\n",
       "         [-0.0343]]), scaler=StandardScaler(), loader=<torch.utils.data.dataloader.DataLoader object at 0x0000023F306C9BA0>)}"
      ]
     },
     "execution_count": 2,
     "metadata": {},
     "output_type": "execute_result"
    }
   ],
   "source": [
    "filename = \"C:/Users/paulh/Desktop/6.semester/Iot/IoT/main/agg_hourly.parquet\"\n",
    "data = dp.prepare_data(filename, window_size= 50, train_ratio= 0.8, batch_size= 64, features= [\"tmp\", \"CO2\", \"hum\", \"VOC\"], target= \"tmp\", scaling= True)\n",
    "data"
   ]
  },
  {
   "cell_type": "code",
   "execution_count": 3,
   "metadata": {},
   "outputs": [
    {
     "data": {
      "text/plain": [
       "4"
      ]
     },
     "execution_count": 3,
     "metadata": {},
     "output_type": "execute_result"
    }
   ],
   "source": [
    "data[\"train\"].x.shape[2]"
   ]
  },
  {
   "cell_type": "code",
   "execution_count": 67,
   "metadata": {},
   "outputs": [],
   "source": [
    "from foo import PositionalEncoding, MultiHeadAttention, ScaledDotProduct, Decoder \n",
    "device = torch.device(\"cuda\" if torch.cuda.is_available() else \"cpu\")\n",
    "model = Decoder(input=data[\"train\"].x.shape[2], d_model=64, max_len=50, num_heads= 4, d_ff= 100,device= device)"
   ]
  },
  {
   "cell_type": "code",
   "execution_count": 83,
   "metadata": {},
   "outputs": [
    {
     "name": "stderr",
     "output_type": "stream",
     "text": [
      "Epoch [1/5]: 100%|██████████| 443/443 [00:09<00:00, 47.32it/s, loss=0.0105, lr=0.0001]  \n",
      "Epoch [2/5]: 100%|██████████| 443/443 [00:09<00:00, 47.31it/s, loss=0.0105, lr=0.0001]  \n",
      "Epoch [3/5]: 100%|██████████| 443/443 [00:09<00:00, 47.23it/s, loss=0.0137, lr=0.0001]  \n",
      "Epoch [4/5]: 100%|██████████| 443/443 [00:09<00:00, 47.07it/s, loss=0.00825, lr=0.0001] \n",
      "Epoch [5/5]: 100%|██████████| 443/443 [00:09<00:00, 46.45it/s, loss=0.0242, lr=0.0001]  "
     ]
    },
    {
     "name": "stdout",
     "output_type": "stream",
     "text": [
      "Training completed. Final loss: 0.024172496050596237, final learning rate: 0.0001\n"
     ]
    },
    {
     "name": "stderr",
     "output_type": "stream",
     "text": [
      "\n"
     ]
    }
   ],
   "source": [
    "from tqdm import tqdm\n",
    "\n",
    "num_epochs = 15\n",
    "learning_rate = 0.0001\n",
    "criterion = torch.nn.MSELoss()\n",
    "optimizer = torch.optim.Adam(model.parameters(), lr=learning_rate)\n",
    "train_loader = data[\"train\"].loader\n",
    "\n",
    "model.train()\n",
    "for epoch in range(num_epochs):\n",
    "    loop = tqdm(enumerate(train_loader), total=len(train_loader), leave=True)\n",
    "    for i, (features, target) in loop:\n",
    "        features = features.to(device)\n",
    "        target = target.to(device)\n",
    "        optimizer.zero_grad(set_to_none=True)\n",
    "        output = model(features)\n",
    "        target = target.squeeze(-1)\n",
    "        loss = criterion(output, target)\n",
    "        loss.backward()\n",
    "        optimizer.step()\n",
    "\n",
    "        # Update progress bar\n",
    "        loop.set_description(f\"Epoch [{epoch+1}/{num_epochs}]\")\n",
    "        loop.set_postfix(loss=loss.item(), lr= learning_rate)\n",
    "    \n",
    "\n",
    "# Final output\n",
    "print(f\"Training completed. Final loss: {loss.item()}, final learning rate: {learning_rate}\")"
   ]
  },
  {
   "cell_type": "code",
   "execution_count": 84,
   "metadata": {},
   "outputs": [
    {
     "name": "stdout",
     "output_type": "stream",
     "text": [
      "torch.Size([64, 50, 4])\n",
      "torch.Size([64])\n",
      "Test Loss: 0.0178\n"
     ]
    }
   ],
   "source": [
    "model.eval()  \n",
    "test_loader = data[\"test\"].loader\n",
    "\n",
    "test_features, test_targets = next(iter(test_loader)) \n",
    "test_targets = test_targets.squeeze(-1)  \n",
    "print(test_features.shape)\n",
    "print(test_targets.shape)\n",
    "test_features = test_features.to(device)\n",
    "test_targets = test_targets.to(device)\n",
    "\n",
    "with torch.no_grad():  \n",
    "    predictions = model(test_features)  \n",
    "\n",
    "train_loss = criterion(predictions, test_targets)\n",
    "print('Test Loss: {:.4f}'.format(train_loss.item()))"
   ]
  },
  {
   "cell_type": "code",
   "execution_count": 85,
   "metadata": {},
   "outputs": [],
   "source": [
    "from sklearn.preprocessing import StandardScaler\n",
    "feature_index = 0\n",
    "scaler = data[\"test\"].scaler\n",
    "\n",
    "\n",
    "feature_scaler = StandardScaler()\n",
    "feature_scaler.mean_ = scaler.mean_[feature_index]\n",
    "feature_scaler.scale_ = scaler.scale_[feature_index]\n",
    "\n",
    "inversed_predictions = feature_scaler.inverse_transform(predictions.to(\"cpu\").numpy().reshape(-1, 1))\n",
    "inversed_targets = feature_scaler.inverse_transform(test_targets.to(\"cpu\").numpy().reshape(-1, 1))"
   ]
  },
  {
   "cell_type": "code",
   "execution_count": 86,
   "metadata": {},
   "outputs": [
    {
     "data": {
      "application/vnd.plotly.v1+json": {
       "config": {
        "plotlyServerURL": "https://plot.ly"
       },
       "data": [
        {
         "mode": "lines",
         "name": "test_targets",
         "type": "scatter",
         "y": [
          27.762500762939453,
          27.6875,
          27.567501068115234,
          27.427501678466797,
          27.32750129699707,
          27.565000534057617,
          27.970001220703125,
          28.18000030517578,
          28.532001495361328,
          28.946842193603516,
          29.322500228881836,
          29.414167404174805,
          29.421817779541016,
          29.402000427246094,
          29.27750015258789,
          29.155000686645508,
          29.033334732055664,
          28.866666793823242,
          28.720001220703125,
          28.60500144958496,
          28.514999389648438,
          28.4233341217041,
          28.342500686645508,
          28.233333587646484,
          28.125,
          27.997501373291016,
          27.90250015258789,
          26.13249969482422,
          25.62466812133789,
          26.500476837158203,
          27.020000457763672,
          27.532501220703125,
          27.844375610351562,
          27.989091873168945,
          28.154001235961914,
          28.376001358032227,
          28.470001220703125,
          28.454999923706055,
          28.412500381469727,
          28.32750129699707,
          28.240001678466797,
          28.100000381469727,
          27.957500457763672,
          27.885000228881836,
          27.80000114440918,
          27.69499969482422,
          27.595001220703125,
          27.510000228881836,
          27.440000534057617,
          27.360000610351562,
          27.25857162475586,
          25.150001525878906,
          25.51285743713379,
          26.018571853637695,
          26.480714797973633,
          26.7117862701416,
          26.829999923706055,
          26.854000091552734,
          26.825000762939453,
          26.913333892822266,
          26.928001403808594,
          26.93800163269043,
          26.92500114440918,
          26.88333511352539
         ]
        },
        {
         "mode": "lines",
         "name": "Predictions",
         "type": "scatter",
         "y": [
          27.835289001464844,
          27.701200485229492,
          27.594057083129883,
          27.61856460571289,
          27.751420974731445,
          27.895545959472656,
          28.218368530273438,
          28.661235809326172,
          28.780729293823242,
          29.081073760986328,
          29.447580337524414,
          29.814537048339844,
          29.761119842529297,
          29.742351531982422,
          29.647369384765625,
          29.426713943481445,
          29.2371826171875,
          29.082265853881836,
          28.88600730895996,
          28.720443725585938,
          28.602088928222656,
          28.500869750976562,
          28.41161346435547,
          28.3292236328125,
          28.215085983276367,
          28.112171173095703,
          27.979433059692383,
          27.913127899169922,
          26.426841735839844,
          26.16602325439453,
          27.142242431640625,
          27.65407943725586,
          28.185338973999023,
          28.423675537109375,
          28.500133514404297,
          28.620136260986328,
          28.772825241088867,
          28.778305053710938,
          28.72233009338379,
          28.644855499267578,
          28.531919479370117,
          28.422494888305664,
          28.273033142089844,
          28.124073028564453,
          28.041790008544922,
          27.961837768554688,
          27.870983123779297,
          27.756221771240234,
          27.56124496459961,
          27.376827239990234,
          27.26948356628418,
          27.23186683654785,
          25.506486892700195,
          26.14439582824707,
          26.786476135253906,
          27.261531829833984,
          27.434553146362305,
          27.430631637573242,
          27.364856719970703,
          27.299564361572266,
          27.30885124206543,
          27.296850204467773,
          27.272125244140625,
          27.234512329101562
         ]
        }
       ],
       "layout": {
        "template": {
         "data": {
          "bar": [
           {
            "error_x": {
             "color": "#2a3f5f"
            },
            "error_y": {
             "color": "#2a3f5f"
            },
            "marker": {
             "line": {
              "color": "#E5ECF6",
              "width": 0.5
             },
             "pattern": {
              "fillmode": "overlay",
              "size": 10,
              "solidity": 0.2
             }
            },
            "type": "bar"
           }
          ],
          "barpolar": [
           {
            "marker": {
             "line": {
              "color": "#E5ECF6",
              "width": 0.5
             },
             "pattern": {
              "fillmode": "overlay",
              "size": 10,
              "solidity": 0.2
             }
            },
            "type": "barpolar"
           }
          ],
          "carpet": [
           {
            "aaxis": {
             "endlinecolor": "#2a3f5f",
             "gridcolor": "white",
             "linecolor": "white",
             "minorgridcolor": "white",
             "startlinecolor": "#2a3f5f"
            },
            "baxis": {
             "endlinecolor": "#2a3f5f",
             "gridcolor": "white",
             "linecolor": "white",
             "minorgridcolor": "white",
             "startlinecolor": "#2a3f5f"
            },
            "type": "carpet"
           }
          ],
          "choropleth": [
           {
            "colorbar": {
             "outlinewidth": 0,
             "ticks": ""
            },
            "type": "choropleth"
           }
          ],
          "contour": [
           {
            "colorbar": {
             "outlinewidth": 0,
             "ticks": ""
            },
            "colorscale": [
             [
              0,
              "#0d0887"
             ],
             [
              0.1111111111111111,
              "#46039f"
             ],
             [
              0.2222222222222222,
              "#7201a8"
             ],
             [
              0.3333333333333333,
              "#9c179e"
             ],
             [
              0.4444444444444444,
              "#bd3786"
             ],
             [
              0.5555555555555556,
              "#d8576b"
             ],
             [
              0.6666666666666666,
              "#ed7953"
             ],
             [
              0.7777777777777778,
              "#fb9f3a"
             ],
             [
              0.8888888888888888,
              "#fdca26"
             ],
             [
              1,
              "#f0f921"
             ]
            ],
            "type": "contour"
           }
          ],
          "contourcarpet": [
           {
            "colorbar": {
             "outlinewidth": 0,
             "ticks": ""
            },
            "type": "contourcarpet"
           }
          ],
          "heatmap": [
           {
            "colorbar": {
             "outlinewidth": 0,
             "ticks": ""
            },
            "colorscale": [
             [
              0,
              "#0d0887"
             ],
             [
              0.1111111111111111,
              "#46039f"
             ],
             [
              0.2222222222222222,
              "#7201a8"
             ],
             [
              0.3333333333333333,
              "#9c179e"
             ],
             [
              0.4444444444444444,
              "#bd3786"
             ],
             [
              0.5555555555555556,
              "#d8576b"
             ],
             [
              0.6666666666666666,
              "#ed7953"
             ],
             [
              0.7777777777777778,
              "#fb9f3a"
             ],
             [
              0.8888888888888888,
              "#fdca26"
             ],
             [
              1,
              "#f0f921"
             ]
            ],
            "type": "heatmap"
           }
          ],
          "heatmapgl": [
           {
            "colorbar": {
             "outlinewidth": 0,
             "ticks": ""
            },
            "colorscale": [
             [
              0,
              "#0d0887"
             ],
             [
              0.1111111111111111,
              "#46039f"
             ],
             [
              0.2222222222222222,
              "#7201a8"
             ],
             [
              0.3333333333333333,
              "#9c179e"
             ],
             [
              0.4444444444444444,
              "#bd3786"
             ],
             [
              0.5555555555555556,
              "#d8576b"
             ],
             [
              0.6666666666666666,
              "#ed7953"
             ],
             [
              0.7777777777777778,
              "#fb9f3a"
             ],
             [
              0.8888888888888888,
              "#fdca26"
             ],
             [
              1,
              "#f0f921"
             ]
            ],
            "type": "heatmapgl"
           }
          ],
          "histogram": [
           {
            "marker": {
             "pattern": {
              "fillmode": "overlay",
              "size": 10,
              "solidity": 0.2
             }
            },
            "type": "histogram"
           }
          ],
          "histogram2d": [
           {
            "colorbar": {
             "outlinewidth": 0,
             "ticks": ""
            },
            "colorscale": [
             [
              0,
              "#0d0887"
             ],
             [
              0.1111111111111111,
              "#46039f"
             ],
             [
              0.2222222222222222,
              "#7201a8"
             ],
             [
              0.3333333333333333,
              "#9c179e"
             ],
             [
              0.4444444444444444,
              "#bd3786"
             ],
             [
              0.5555555555555556,
              "#d8576b"
             ],
             [
              0.6666666666666666,
              "#ed7953"
             ],
             [
              0.7777777777777778,
              "#fb9f3a"
             ],
             [
              0.8888888888888888,
              "#fdca26"
             ],
             [
              1,
              "#f0f921"
             ]
            ],
            "type": "histogram2d"
           }
          ],
          "histogram2dcontour": [
           {
            "colorbar": {
             "outlinewidth": 0,
             "ticks": ""
            },
            "colorscale": [
             [
              0,
              "#0d0887"
             ],
             [
              0.1111111111111111,
              "#46039f"
             ],
             [
              0.2222222222222222,
              "#7201a8"
             ],
             [
              0.3333333333333333,
              "#9c179e"
             ],
             [
              0.4444444444444444,
              "#bd3786"
             ],
             [
              0.5555555555555556,
              "#d8576b"
             ],
             [
              0.6666666666666666,
              "#ed7953"
             ],
             [
              0.7777777777777778,
              "#fb9f3a"
             ],
             [
              0.8888888888888888,
              "#fdca26"
             ],
             [
              1,
              "#f0f921"
             ]
            ],
            "type": "histogram2dcontour"
           }
          ],
          "mesh3d": [
           {
            "colorbar": {
             "outlinewidth": 0,
             "ticks": ""
            },
            "type": "mesh3d"
           }
          ],
          "parcoords": [
           {
            "line": {
             "colorbar": {
              "outlinewidth": 0,
              "ticks": ""
             }
            },
            "type": "parcoords"
           }
          ],
          "pie": [
           {
            "automargin": true,
            "type": "pie"
           }
          ],
          "scatter": [
           {
            "fillpattern": {
             "fillmode": "overlay",
             "size": 10,
             "solidity": 0.2
            },
            "type": "scatter"
           }
          ],
          "scatter3d": [
           {
            "line": {
             "colorbar": {
              "outlinewidth": 0,
              "ticks": ""
             }
            },
            "marker": {
             "colorbar": {
              "outlinewidth": 0,
              "ticks": ""
             }
            },
            "type": "scatter3d"
           }
          ],
          "scattercarpet": [
           {
            "marker": {
             "colorbar": {
              "outlinewidth": 0,
              "ticks": ""
             }
            },
            "type": "scattercarpet"
           }
          ],
          "scattergeo": [
           {
            "marker": {
             "colorbar": {
              "outlinewidth": 0,
              "ticks": ""
             }
            },
            "type": "scattergeo"
           }
          ],
          "scattergl": [
           {
            "marker": {
             "colorbar": {
              "outlinewidth": 0,
              "ticks": ""
             }
            },
            "type": "scattergl"
           }
          ],
          "scattermapbox": [
           {
            "marker": {
             "colorbar": {
              "outlinewidth": 0,
              "ticks": ""
             }
            },
            "type": "scattermapbox"
           }
          ],
          "scatterpolar": [
           {
            "marker": {
             "colorbar": {
              "outlinewidth": 0,
              "ticks": ""
             }
            },
            "type": "scatterpolar"
           }
          ],
          "scatterpolargl": [
           {
            "marker": {
             "colorbar": {
              "outlinewidth": 0,
              "ticks": ""
             }
            },
            "type": "scatterpolargl"
           }
          ],
          "scatterternary": [
           {
            "marker": {
             "colorbar": {
              "outlinewidth": 0,
              "ticks": ""
             }
            },
            "type": "scatterternary"
           }
          ],
          "surface": [
           {
            "colorbar": {
             "outlinewidth": 0,
             "ticks": ""
            },
            "colorscale": [
             [
              0,
              "#0d0887"
             ],
             [
              0.1111111111111111,
              "#46039f"
             ],
             [
              0.2222222222222222,
              "#7201a8"
             ],
             [
              0.3333333333333333,
              "#9c179e"
             ],
             [
              0.4444444444444444,
              "#bd3786"
             ],
             [
              0.5555555555555556,
              "#d8576b"
             ],
             [
              0.6666666666666666,
              "#ed7953"
             ],
             [
              0.7777777777777778,
              "#fb9f3a"
             ],
             [
              0.8888888888888888,
              "#fdca26"
             ],
             [
              1,
              "#f0f921"
             ]
            ],
            "type": "surface"
           }
          ],
          "table": [
           {
            "cells": {
             "fill": {
              "color": "#EBF0F8"
             },
             "line": {
              "color": "white"
             }
            },
            "header": {
             "fill": {
              "color": "#C8D4E3"
             },
             "line": {
              "color": "white"
             }
            },
            "type": "table"
           }
          ]
         },
         "layout": {
          "annotationdefaults": {
           "arrowcolor": "#2a3f5f",
           "arrowhead": 0,
           "arrowwidth": 1
          },
          "autotypenumbers": "strict",
          "coloraxis": {
           "colorbar": {
            "outlinewidth": 0,
            "ticks": ""
           }
          },
          "colorscale": {
           "diverging": [
            [
             0,
             "#8e0152"
            ],
            [
             0.1,
             "#c51b7d"
            ],
            [
             0.2,
             "#de77ae"
            ],
            [
             0.3,
             "#f1b6da"
            ],
            [
             0.4,
             "#fde0ef"
            ],
            [
             0.5,
             "#f7f7f7"
            ],
            [
             0.6,
             "#e6f5d0"
            ],
            [
             0.7,
             "#b8e186"
            ],
            [
             0.8,
             "#7fbc41"
            ],
            [
             0.9,
             "#4d9221"
            ],
            [
             1,
             "#276419"
            ]
           ],
           "sequential": [
            [
             0,
             "#0d0887"
            ],
            [
             0.1111111111111111,
             "#46039f"
            ],
            [
             0.2222222222222222,
             "#7201a8"
            ],
            [
             0.3333333333333333,
             "#9c179e"
            ],
            [
             0.4444444444444444,
             "#bd3786"
            ],
            [
             0.5555555555555556,
             "#d8576b"
            ],
            [
             0.6666666666666666,
             "#ed7953"
            ],
            [
             0.7777777777777778,
             "#fb9f3a"
            ],
            [
             0.8888888888888888,
             "#fdca26"
            ],
            [
             1,
             "#f0f921"
            ]
           ],
           "sequentialminus": [
            [
             0,
             "#0d0887"
            ],
            [
             0.1111111111111111,
             "#46039f"
            ],
            [
             0.2222222222222222,
             "#7201a8"
            ],
            [
             0.3333333333333333,
             "#9c179e"
            ],
            [
             0.4444444444444444,
             "#bd3786"
            ],
            [
             0.5555555555555556,
             "#d8576b"
            ],
            [
             0.6666666666666666,
             "#ed7953"
            ],
            [
             0.7777777777777778,
             "#fb9f3a"
            ],
            [
             0.8888888888888888,
             "#fdca26"
            ],
            [
             1,
             "#f0f921"
            ]
           ]
          },
          "colorway": [
           "#636efa",
           "#EF553B",
           "#00cc96",
           "#ab63fa",
           "#FFA15A",
           "#19d3f3",
           "#FF6692",
           "#B6E880",
           "#FF97FF",
           "#FECB52"
          ],
          "font": {
           "color": "#2a3f5f"
          },
          "geo": {
           "bgcolor": "white",
           "lakecolor": "white",
           "landcolor": "#E5ECF6",
           "showlakes": true,
           "showland": true,
           "subunitcolor": "white"
          },
          "hoverlabel": {
           "align": "left"
          },
          "hovermode": "closest",
          "mapbox": {
           "style": "light"
          },
          "paper_bgcolor": "white",
          "plot_bgcolor": "#E5ECF6",
          "polar": {
           "angularaxis": {
            "gridcolor": "white",
            "linecolor": "white",
            "ticks": ""
           },
           "bgcolor": "#E5ECF6",
           "radialaxis": {
            "gridcolor": "white",
            "linecolor": "white",
            "ticks": ""
           }
          },
          "scene": {
           "xaxis": {
            "backgroundcolor": "#E5ECF6",
            "gridcolor": "white",
            "gridwidth": 2,
            "linecolor": "white",
            "showbackground": true,
            "ticks": "",
            "zerolinecolor": "white"
           },
           "yaxis": {
            "backgroundcolor": "#E5ECF6",
            "gridcolor": "white",
            "gridwidth": 2,
            "linecolor": "white",
            "showbackground": true,
            "ticks": "",
            "zerolinecolor": "white"
           },
           "zaxis": {
            "backgroundcolor": "#E5ECF6",
            "gridcolor": "white",
            "gridwidth": 2,
            "linecolor": "white",
            "showbackground": true,
            "ticks": "",
            "zerolinecolor": "white"
           }
          },
          "shapedefaults": {
           "line": {
            "color": "#2a3f5f"
           }
          },
          "ternary": {
           "aaxis": {
            "gridcolor": "white",
            "linecolor": "white",
            "ticks": ""
           },
           "baxis": {
            "gridcolor": "white",
            "linecolor": "white",
            "ticks": ""
           },
           "bgcolor": "#E5ECF6",
           "caxis": {
            "gridcolor": "white",
            "linecolor": "white",
            "ticks": ""
           }
          },
          "title": {
           "x": 0.05
          },
          "xaxis": {
           "automargin": true,
           "gridcolor": "white",
           "linecolor": "white",
           "ticks": "",
           "title": {
            "standoff": 15
           },
           "zerolinecolor": "white",
           "zerolinewidth": 2
          },
          "yaxis": {
           "automargin": true,
           "gridcolor": "white",
           "linecolor": "white",
           "ticks": "",
           "title": {
            "standoff": 15
           },
           "zerolinecolor": "white",
           "zerolinewidth": 2
          }
         }
        },
        "title": {
         "text": "test_targets vs predictions"
        },
        "xaxis": {
         "title": {
          "text": "Index"
         }
        },
        "yaxis": {
         "title": {
          "text": "Value"
         }
        }
       }
      }
     },
     "metadata": {},
     "output_type": "display_data"
    }
   ],
   "source": [
    "import plotly.graph_objects as go\n",
    "\n",
    "def plt_pred(test_targets, predictions):\n",
    "    fig = go.Figure()\n",
    "    fig.add_trace(go.Scatter(y=test_targets, mode='lines', name='test_targets'))\n",
    "    fig.add_trace(go.Scatter(y=predictions, mode='lines', name='Predictions'))\n",
    "    fig.update_layout(title='test_targets vs predictions', xaxis_title='Index', yaxis_title='Value')\n",
    "    fig.show()\n",
    "\n",
    "plt_pred(inversed_targets.reshape(-1).tolist(), inversed_predictions.reshape(-1).tolist())"
   ]
  },
  {
   "cell_type": "code",
   "execution_count": 82,
   "metadata": {},
   "outputs": [],
   "source": [
    "torch.save(model.state_dict(), \"transformer_gut.pth\")"
   ]
  }
 ],
 "metadata": {
  "kernelspec": {
   "display_name": "Iot",
   "language": "python",
   "name": "python3"
  },
  "language_info": {
   "codemirror_mode": {
    "name": "ipython",
    "version": 3
   },
   "file_extension": ".py",
   "mimetype": "text/x-python",
   "name": "python",
   "nbconvert_exporter": "python",
   "pygments_lexer": "ipython3",
   "version": "3.10.14"
  }
 },
 "nbformat": 4,
 "nbformat_minor": 2
}
