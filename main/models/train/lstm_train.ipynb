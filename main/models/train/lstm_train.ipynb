{
 "cells": [
  {
   "cell_type": "code",
   "execution_count": 7,
   "metadata": {},
   "outputs": [],
   "source": [
    "import pandas as pd \n",
    "import torch"
   ]
  },
  {
   "cell_type": "code",
   "execution_count": 17,
   "metadata": {},
   "outputs": [],
   "source": [
    "import pandas as pd\n",
    "import sys\n",
    "\n",
    "original_sys_path = sys.path.copy()\n",
    "\n",
    "sys.path.insert(0, \"/Users/florian/Documents/github/study/IoT/IoT/main/\")\n",
    "import dataprep as dp \n",
    "import foo\n",
    "\n",
    "sys.path = original_sys_path"
   ]
  },
  {
   "cell_type": "code",
   "execution_count": 26,
   "metadata": {},
   "outputs": [],
   "source": [
    "FILENAME = \"/Users/florian/Documents/github/study/IoT/IoT/data/aggregated_data/agg_hourly.parquet\"\n",
    "window_size = 50\n",
    "train_test_split_ratio = 0.8\n",
    "batch_size = 64\n",
    "\n",
    "features = [\"tmp\", \"CO2\", \"hum\", \"VOC\"]\n",
    "target = \"tmp\"\n",
    "scaling = True"
   ]
  },
  {
   "cell_type": "code",
   "execution_count": 27,
   "metadata": {},
   "outputs": [],
   "source": [
    "data = dp.create_DataLoader(filepath= FILENAME, window_size= window_size, train_ratio= train_test_split_ratio, batch_size= batch_size, features= features, target= target, scaling= scaling)"
   ]
  },
  {
   "cell_type": "code",
   "execution_count": null,
   "metadata": {},
   "outputs": [],
   "source": [
    "input_size = data[\"train\"].x.shape[2]\n",
    "hidden_sizes = 100\n",
    "num_layers = 1\n",
    "output_size = 1\n",
    "dropouts = 0\n",
    "activation_functions = \"relu\"\n",
    "\n",
    "model = foo.LSTM(input_size= input_size, hidden_size= hidden_sizes, num_layers= num_layers, output_size= output_size, dropout= dropouts, activation= activation_functions)"
   ]
  },
  {
   "cell_type": "code",
   "execution_count": null,
   "metadata": {},
   "outputs": [],
   "source": [
    "from tqdm import tqdm\n",
    "\n",
    "num_epochs = 10\n",
    "learning_rate = 0.0001\n",
    "criterion = torch.nn.MSELoss()\n",
    "optimizer = torch.optim.Adam(model.parameters(), lr=learning_rate)\n",
    "train_loader = data[\"train\"].loader\n",
    "\n",
    "model.train()\n",
    "for epoch in range(num_epochs):\n",
    "    loop = tqdm(enumerate(train_loader), total=len(train_loader), leave=True)\n",
    "    for i, (features, target) in loop:\n",
    "        optimizer.zero_grad(set_to_none=True)\n",
    "        output = model(features)\n",
    "        #target = target.unsqueeze(1)\n",
    "        loss = criterion(output, target)\n",
    "        loss.backward()\n",
    "        optimizer.step()\n",
    "\n",
    "        # Update progress bar\n",
    "        loop.set_description(f\"Epoch [{epoch+1}/{num_epochs}]\")\n",
    "        loop.set_postfix(loss=loss.item(), lr= learning_rate)\n",
    "\n",
    "\n",
    "# Final output\n",
    "print(f\"Training completed. Final loss: {loss.item()}, final learning rate: {learning_rate}\")"
   ]
  }
 ],
 "metadata": {
  "kernelspec": {
   "display_name": "Python 3",
   "language": "python",
   "name": "python3"
  },
  "language_info": {
   "codemirror_mode": {
    "name": "ipython",
    "version": 3
   },
   "file_extension": ".py",
   "mimetype": "text/x-python",
   "name": "python",
   "nbconvert_exporter": "python",
   "pygments_lexer": "ipython3",
   "version": "3.12.2"
  }
 },
 "nbformat": 4,
 "nbformat_minor": 2
}
