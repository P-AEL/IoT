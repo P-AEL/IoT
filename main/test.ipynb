{
 "cells": [
  {
   "cell_type": "code",
   "execution_count": 7,
   "metadata": {},
   "outputs": [],
   "source": [
    "import pandas as pd\n",
    "\n",
    "\n",
    "df = pd.read_csv(\"output.csv\")\n",
    "a0 = [\"hka-aqm-a017\", \"hka-aqm-a014\"]\n",
    "a1 = [\"hka-aqm-a101\", \"hka-aqm-a102\", \"hka-aqm-a103\", \"hka-aqm-a106\", \"hka-aqm-a107\", \"hka-aqm-a108\", \"hka-aqm-a111\", \"hka-aqm-a112\"]\n",
    "\n",
    "df = df[df[\"device_id\"].isin(a0+a1)]\n",
    "df[\"device_id\"] = df[\"device_id\"].str.replace(\"hka-aqm-\", \"\")\n",
    "df[\"date_time\"] = pd.to_datetime(df[\"date_time\"])"
   ]
  },
  {
   "cell_type": "code",
   "execution_count": 8,
   "metadata": {},
   "outputs": [],
   "source": [
    "df.to_parquet(\"output.parquet\", index=False)"
   ]
  }
 ],
 "metadata": {
  "kernelspec": {
   "display_name": "Python 3",
   "language": "python",
   "name": "python3"
  },
  "language_info": {
   "codemirror_mode": {
    "name": "ipython",
    "version": 3
   },
   "file_extension": ".py",
   "mimetype": "text/x-python",
   "name": "python",
   "nbconvert_exporter": "python",
   "pygments_lexer": "ipython3",
   "version": "3.12.2"
  }
 },
 "nbformat": 4,
 "nbformat_minor": 2
}
