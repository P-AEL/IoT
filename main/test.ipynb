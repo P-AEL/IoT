{
 "cells": [
  {
   "cell_type": "code",
   "execution_count": 1,
   "metadata": {},
   "outputs": [],
   "source": [
    "import pandas as pd, dataprep as dp "
   ]
  },
  {
   "cell_type": "code",
   "execution_count": 2,
   "metadata": {},
   "outputs": [],
   "source": [
    "data = pd.read_csv(\"/Users/florian/Documents/github/study/IoT/IoT/main/output.csv\")\n",
    "\n",
    "a0 = [\"hka-aqm-a017\", \"hka-aqm-a014\"]\n",
    "a1 = [\"hka-aqm-a101\", \"hka-aqm-a102\", \"hka-aqm-a103\", \"hka-aqm-a106\", \"hka-aqm-a107\", \"hka-aqm-a108\", \"hka-aqm-a111\", \"hka-aqm-a112\"]\n",
    "data = data[data[\"device_id\"].isin(a0 + a1)]  \n",
    "data[\"device_id\"] = data[\"device_id\"].str.replace(\"hka-aqm-\", \"\")"
   ]
  },
  {
   "cell_type": "code",
   "execution_count": 3,
   "metadata": {},
   "outputs": [],
   "source": [
    "aggregation = \"h\"\n",
    "\n",
    "df = dp.group_data(data, aggregation)\n",
    "df[\"hour\"] = df[\"date_time\"].dt.hour\n",
    "df[\"day\"] = df[\"date_time\"].dt.date\n",
    "df['week'] = df['date_time'].dt.to_period('W').apply(lambda r: r.start_time)\n",
    "df['month'] = df['date_time'].dt.to_period('M').apply(lambda r: r.start_time)\n",
    "df[\"year\"] = df[\"date_time\"].dt.year"
   ]
  },
  {
   "cell_type": "code",
   "execution_count": 15,
   "metadata": {},
   "outputs": [
    {
     "data": {
      "text/plain": [
       "['2022', '2023']"
      ]
     },
     "execution_count": 15,
     "metadata": {},
     "output_type": "execute_result"
    }
   ],
   "source": [
    "unique_years = df[\"year\"].unique()\n",
    "year_labels = [pd.to_datetime(str(year), format='%Y').strftime('%Y') for year in unique_years]\n",
    "year_labels"
   ]
  },
  {
   "cell_type": "code",
   "execution_count": 32,
   "metadata": {},
   "outputs": [
    {
     "data": {
      "text/plain": [
       "0         2022-10-10\n",
       "1         2022-10-10\n",
       "2         2022-10-10\n",
       "3         2022-10-10\n",
       "4         2022-10-10\n",
       "             ...    \n",
       "199097    2023-10-01\n",
       "199098    2023-10-01\n",
       "199099    2023-10-01\n",
       "199100    2023-10-01\n",
       "199101    2023-10-01\n",
       "Name: day, Length: 199102, dtype: object"
      ]
     },
     "execution_count": 32,
     "metadata": {},
     "output_type": "execute_result"
    }
   ],
   "source": [
    "import numpy as np\n",
    "input_agg = \"min\"\n",
    "\n",
    "def get_unique_values_and_labels(df, column, format):\n",
    "    unique_values, indices = np.unique(df[column], return_inverse=True)\n",
    "    if column == \"min\":\n",
    "        labels = [f\"{value}:00\" for value in unique_values]\n",
    "    elif column == \"year\":\n",
    "        labels = [pd.to_datetime(str(value), format='%Y').strftime('%Y') for value in unique_values]\n",
    "    elif column == \"week\":\n",
    "        labels = [f\"{value.strftime('%d.%m.%Y')} - {(value + pd.DateOffset(days=6)).strftime('%d.%m.%Y')}\" for value in unique_values]\n",
    "    else:\n",
    "        labels = [value.strftime(format) for value in unique_values]\n",
    "    return unique_values[indices], labels\n",
    "\n",
    "def get_filtered_data(df, column, selected_label, unique_values, labels):\n",
    "    selected_value = unique_values[labels.index(selected_label)]\n",
    "    return df[df[column] == selected_value]\n",
    "\n",
    "df = dp.group_data(data, input_agg)\n",
    "df[\"min\"] = df[\"date_time\"].dt.minute\n",
    "df[\"hour\"] = df[\"date_time\"].dt.hour\n",
    "df[\"day\"] = df[\"date_time\"].dt.date\n",
    "df['week'] = df['date_time'].dt.to_period('W').apply(lambda r: r.start_time)\n",
    "df['month'] = df['date_time'].dt.to_period('M').apply(lambda r: r.start_time)\n",
    "\n",
    "aggregation_dict = {\n",
    "    'min': ('hour', 'Select minute', '%Y-%m-%d %H:%M'),\n",
    "    'h': ('min', 'Select hour', '%Y-%m-%d %H'),\n",
    "    'd': ('hour', 'Select day', '%Y-%m-%d'),\n",
    "    'w': ('day', 'Select week', '%d.%m.%Y'),\n",
    "    'm': ('week', 'Select month', '%m/%Y'),\n",
    "    'y': ('month', 'Select year', '%Y')\n",
    "}\n",
    "\n",
    "df[\"day\"]"
   ]
  },
  {
   "cell_type": "code",
   "execution_count": 26,
   "metadata": {},
   "outputs": [
    {
     "data": {
      "text/plain": [
       "'min'"
      ]
     },
     "execution_count": 26,
     "metadata": {},
     "output_type": "execute_result"
    }
   ],
   "source": [
    "input_agg = \"h\"\n",
    "\n",
    "aggregation_dict = {\n",
    "    'h': ('min', 'Select hour', '%Y-%m-%d %H'),\n",
    "    'd': ('hour', 'Select day', '%Y-%m-%d'),\n",
    "    'w': ('day', 'Select week', '%d.%m.%Y'),\n",
    "    'm': ('week', 'Select month', '%m/%Y'),\n",
    "    'y': ('month', 'Select year', '%Y')\n",
    "}\n",
    "\n",
    "aggregation_dict[input_agg][0]"
   ]
  }
 ],
 "metadata": {
  "kernelspec": {
   "display_name": "Python 3",
   "language": "python",
   "name": "python3"
  },
  "language_info": {
   "codemirror_mode": {
    "name": "ipython",
    "version": 3
   },
   "file_extension": ".py",
   "mimetype": "text/x-python",
   "name": "python",
   "nbconvert_exporter": "python",
   "pygments_lexer": "ipython3",
   "version": "3.12.2"
  }
 },
 "nbformat": 4,
 "nbformat_minor": 2
}
