{
 "cells": [
  {
   "cell_type": "code",
   "execution_count": 57,
   "metadata": {},
   "outputs": [],
   "source": [
    "import pandas as pd\n",
    "import plotly.graph_objects as go\n",
    "from group_data import group_data"
   ]
  },
  {
   "cell_type": "code",
   "execution_count": 19,
   "metadata": {},
   "outputs": [],
   "source": [
    "df = pd.read_csv(\"/Users/florian/Documents/github/study/IoT/IoT/output.csv\")"
   ]
  },
  {
   "cell_type": "code",
   "execution_count": 90,
   "metadata": {},
   "outputs": [],
   "source": [
    "df_hour = group_data(df, \"h\")\n",
    "df_min = group_data(df, \"min\")"
   ]
  },
  {
   "cell_type": "code",
   "execution_count": 162,
   "metadata": {},
   "outputs": [
    {
     "data": {
      "text/plain": [
       "datetime.date(2022, 10, 10)"
      ]
     },
     "execution_count": 162,
     "metadata": {},
     "output_type": "execute_result"
    }
   ],
   "source": [
    "from datetime import date\n",
    "date(2022,10,10)"
   ]
  },
  {
   "cell_type": "code",
   "execution_count": 101,
   "metadata": {},
   "outputs": [
    {
     "data": {
      "text/plain": [
       "0        2022-10-10 14:09:00\n",
       "1        2022-10-10 14:18:00\n",
       "2        2022-10-10 14:19:00\n",
       "3        2022-10-10 14:20:00\n",
       "4        2022-10-10 14:21:00\n",
       "                 ...        \n",
       "704053   2022-10-10 22:47:00\n",
       "704054   2022-10-10 23:02:00\n",
       "704055   2022-10-10 23:17:00\n",
       "704056   2022-10-10 23:32:00\n",
       "704057   2022-10-10 23:47:00\n",
       "Name: date_time, Length: 1355, dtype: datetime64[ns]"
      ]
     },
     "execution_count": 101,
     "metadata": {},
     "output_type": "execute_result"
    }
   ],
   "source": [
    "df_min[df_min[\"date_time\"].astype(str).str.slice(0, 10).str.contains(\"2022-10-10\")].date_time"
   ]
  },
  {
   "cell_type": "code",
   "execution_count": 112,
   "metadata": {},
   "outputs": [],
   "source": [
    "df_hour[\"date\"] = df[\"date_time\"].astype(str).str.slice(0, 10)"
   ]
  },
  {
   "cell_type": "code",
   "execution_count": 81,
   "metadata": {},
   "outputs": [],
   "source": [
    "test_str = \"2022-10-10\""
   ]
  },
  {
   "cell_type": "code",
   "execution_count": 105,
   "metadata": {},
   "outputs": [
    {
     "data": {
      "text/plain": [
       "0         2022-10-10 14:09:26\n",
       "1         2022-10-10 14:18:26\n",
       "2         2022-10-10 14:18:47\n",
       "3         2022-10-10 14:19:07\n",
       "4         2022-10-10 14:19:26\n",
       "                 ...         \n",
       "116356    2022-10-10 22:47:26\n",
       "116357    2022-10-10 23:02:33\n",
       "116358    2022-10-10 23:17:39\n",
       "116359    2022-10-10 23:32:45\n",
       "116360    2022-10-10 23:47:53\n",
       "Name: date, Length: 349, dtype: object"
      ]
     },
     "execution_count": 105,
     "metadata": {},
     "output_type": "execute_result"
    }
   ],
   "source": [
    "df_hour[df_hour[\"date\"].str.contains(test_str)][\"date\"]"
   ]
  },
  {
   "cell_type": "code",
   "execution_count": 133,
   "metadata": {},
   "outputs": [
    {
     "data": {
      "text/plain": [
       "0         2022-10-10 14:00:00\n",
       "1         2022-10-10 15:00:00\n",
       "2         2022-10-10 16:00:00\n",
       "3         2022-10-10 17:00:00\n",
       "4         2022-10-10 18:00:00\n",
       "                 ...         \n",
       "138633    2022-10-10 19:00:00\n",
       "138634    2022-10-10 20:00:00\n",
       "138635    2022-10-10 21:00:00\n",
       "138636    2022-10-10 22:00:00\n",
       "138637    2022-10-10 23:00:00\n",
       "Name: date_time, Length: 307, dtype: object"
      ]
     },
     "execution_count": 133,
     "metadata": {},
     "output_type": "execute_result"
    }
   ],
   "source": [
    "df_paul = pd.read_csv(\"/Users/florian/Documents/github/study/IoT/IoT/aggregated_hourly.csv\")\n",
    "df_paul[df_paul[\"date_time\"].str.slice(0, 10).str.contains(\"2022-10-10\")].date_time"
   ]
  },
  {
   "cell_type": "code",
   "execution_count": 155,
   "metadata": {},
   "outputs": [],
   "source": [
    "input_date = \"2022-10-10\"\n",
    "input_device = \"hka-aqm-a014\"\n",
    "\n",
    "filtered_data = df_hour[(df_hour[\"device_id\"].astype(str) == input_device) & (df_hour[\"date_time\"].astype(str).str.slice(0, 10).str.contains(str(input_date)))]"
   ]
  },
  {
   "cell_type": "code",
   "execution_count": 157,
   "metadata": {},
   "outputs": [
    {
     "data": {
      "text/plain": [
       "0    23.902895\n",
       "1    24.793750\n",
       "2    24.856000\n",
       "3    24.860000\n",
       "4    24.824000\n",
       "5    24.710000\n",
       "6    24.490000\n",
       "7    24.385000\n",
       "8    24.140000\n",
       "9    23.995000\n",
       "Name: tmp, dtype: float64"
      ]
     },
     "execution_count": 157,
     "metadata": {},
     "output_type": "execute_result"
    }
   ],
   "source": [
    "filtered_data[\"tmp\"]"
   ]
  },
  {
   "cell_type": "code",
   "execution_count": 154,
   "metadata": {},
   "outputs": [
    {
     "data": {
      "application/vnd.plotly.v1+json": {
       "config": {
        "plotlyServerURL": "https://plot.ly"
       },
       "data": [
        {
         "hovertemplate": "date_time=%{x}<br>tmp=%{y}<extra></extra>",
         "legendgroup": "",
         "marker": {
          "color": "#636efa",
          "symbol": "circle"
         },
         "mode": "markers",
         "name": "",
         "orientation": "v",
         "showlegend": false,
         "type": "scatter",
         "x": [
          "2022-10-10T14:00:00",
          "2022-10-10T15:00:00",
          "2022-10-10T16:00:00",
          "2022-10-10T17:00:00",
          "2022-10-10T18:00:00",
          "2022-10-10T19:00:00",
          "2022-10-10T20:00:00",
          "2022-10-10T21:00:00",
          "2022-10-10T22:00:00",
          "2022-10-10T23:00:00"
         ],
         "xaxis": "x",
         "y": [
          23.902894736842104,
          24.79375,
          24.856,
          24.86,
          24.824,
          24.71,
          24.490000000000002,
          24.384999999999998,
          24.14,
          23.994999999999997
         ],
         "yaxis": "y"
        }
       ],
       "layout": {
        "legend": {
         "tracegroupgap": 0
        },
        "margin": {
         "t": 60
        },
        "template": {
         "data": {
          "bar": [
           {
            "error_x": {
             "color": "#2a3f5f"
            },
            "error_y": {
             "color": "#2a3f5f"
            },
            "marker": {
             "line": {
              "color": "#E5ECF6",
              "width": 0.5
             },
             "pattern": {
              "fillmode": "overlay",
              "size": 10,
              "solidity": 0.2
             }
            },
            "type": "bar"
           }
          ],
          "barpolar": [
           {
            "marker": {
             "line": {
              "color": "#E5ECF6",
              "width": 0.5
             },
             "pattern": {
              "fillmode": "overlay",
              "size": 10,
              "solidity": 0.2
             }
            },
            "type": "barpolar"
           }
          ],
          "carpet": [
           {
            "aaxis": {
             "endlinecolor": "#2a3f5f",
             "gridcolor": "white",
             "linecolor": "white",
             "minorgridcolor": "white",
             "startlinecolor": "#2a3f5f"
            },
            "baxis": {
             "endlinecolor": "#2a3f5f",
             "gridcolor": "white",
             "linecolor": "white",
             "minorgridcolor": "white",
             "startlinecolor": "#2a3f5f"
            },
            "type": "carpet"
           }
          ],
          "choropleth": [
           {
            "colorbar": {
             "outlinewidth": 0,
             "ticks": ""
            },
            "type": "choropleth"
           }
          ],
          "contour": [
           {
            "colorbar": {
             "outlinewidth": 0,
             "ticks": ""
            },
            "colorscale": [
             [
              0,
              "#0d0887"
             ],
             [
              0.1111111111111111,
              "#46039f"
             ],
             [
              0.2222222222222222,
              "#7201a8"
             ],
             [
              0.3333333333333333,
              "#9c179e"
             ],
             [
              0.4444444444444444,
              "#bd3786"
             ],
             [
              0.5555555555555556,
              "#d8576b"
             ],
             [
              0.6666666666666666,
              "#ed7953"
             ],
             [
              0.7777777777777778,
              "#fb9f3a"
             ],
             [
              0.8888888888888888,
              "#fdca26"
             ],
             [
              1,
              "#f0f921"
             ]
            ],
            "type": "contour"
           }
          ],
          "contourcarpet": [
           {
            "colorbar": {
             "outlinewidth": 0,
             "ticks": ""
            },
            "type": "contourcarpet"
           }
          ],
          "heatmap": [
           {
            "colorbar": {
             "outlinewidth": 0,
             "ticks": ""
            },
            "colorscale": [
             [
              0,
              "#0d0887"
             ],
             [
              0.1111111111111111,
              "#46039f"
             ],
             [
              0.2222222222222222,
              "#7201a8"
             ],
             [
              0.3333333333333333,
              "#9c179e"
             ],
             [
              0.4444444444444444,
              "#bd3786"
             ],
             [
              0.5555555555555556,
              "#d8576b"
             ],
             [
              0.6666666666666666,
              "#ed7953"
             ],
             [
              0.7777777777777778,
              "#fb9f3a"
             ],
             [
              0.8888888888888888,
              "#fdca26"
             ],
             [
              1,
              "#f0f921"
             ]
            ],
            "type": "heatmap"
           }
          ],
          "heatmapgl": [
           {
            "colorbar": {
             "outlinewidth": 0,
             "ticks": ""
            },
            "colorscale": [
             [
              0,
              "#0d0887"
             ],
             [
              0.1111111111111111,
              "#46039f"
             ],
             [
              0.2222222222222222,
              "#7201a8"
             ],
             [
              0.3333333333333333,
              "#9c179e"
             ],
             [
              0.4444444444444444,
              "#bd3786"
             ],
             [
              0.5555555555555556,
              "#d8576b"
             ],
             [
              0.6666666666666666,
              "#ed7953"
             ],
             [
              0.7777777777777778,
              "#fb9f3a"
             ],
             [
              0.8888888888888888,
              "#fdca26"
             ],
             [
              1,
              "#f0f921"
             ]
            ],
            "type": "heatmapgl"
           }
          ],
          "histogram": [
           {
            "marker": {
             "pattern": {
              "fillmode": "overlay",
              "size": 10,
              "solidity": 0.2
             }
            },
            "type": "histogram"
           }
          ],
          "histogram2d": [
           {
            "colorbar": {
             "outlinewidth": 0,
             "ticks": ""
            },
            "colorscale": [
             [
              0,
              "#0d0887"
             ],
             [
              0.1111111111111111,
              "#46039f"
             ],
             [
              0.2222222222222222,
              "#7201a8"
             ],
             [
              0.3333333333333333,
              "#9c179e"
             ],
             [
              0.4444444444444444,
              "#bd3786"
             ],
             [
              0.5555555555555556,
              "#d8576b"
             ],
             [
              0.6666666666666666,
              "#ed7953"
             ],
             [
              0.7777777777777778,
              "#fb9f3a"
             ],
             [
              0.8888888888888888,
              "#fdca26"
             ],
             [
              1,
              "#f0f921"
             ]
            ],
            "type": "histogram2d"
           }
          ],
          "histogram2dcontour": [
           {
            "colorbar": {
             "outlinewidth": 0,
             "ticks": ""
            },
            "colorscale": [
             [
              0,
              "#0d0887"
             ],
             [
              0.1111111111111111,
              "#46039f"
             ],
             [
              0.2222222222222222,
              "#7201a8"
             ],
             [
              0.3333333333333333,
              "#9c179e"
             ],
             [
              0.4444444444444444,
              "#bd3786"
             ],
             [
              0.5555555555555556,
              "#d8576b"
             ],
             [
              0.6666666666666666,
              "#ed7953"
             ],
             [
              0.7777777777777778,
              "#fb9f3a"
             ],
             [
              0.8888888888888888,
              "#fdca26"
             ],
             [
              1,
              "#f0f921"
             ]
            ],
            "type": "histogram2dcontour"
           }
          ],
          "mesh3d": [
           {
            "colorbar": {
             "outlinewidth": 0,
             "ticks": ""
            },
            "type": "mesh3d"
           }
          ],
          "parcoords": [
           {
            "line": {
             "colorbar": {
              "outlinewidth": 0,
              "ticks": ""
             }
            },
            "type": "parcoords"
           }
          ],
          "pie": [
           {
            "automargin": true,
            "type": "pie"
           }
          ],
          "scatter": [
           {
            "fillpattern": {
             "fillmode": "overlay",
             "size": 10,
             "solidity": 0.2
            },
            "type": "scatter"
           }
          ],
          "scatter3d": [
           {
            "line": {
             "colorbar": {
              "outlinewidth": 0,
              "ticks": ""
             }
            },
            "marker": {
             "colorbar": {
              "outlinewidth": 0,
              "ticks": ""
             }
            },
            "type": "scatter3d"
           }
          ],
          "scattercarpet": [
           {
            "marker": {
             "colorbar": {
              "outlinewidth": 0,
              "ticks": ""
             }
            },
            "type": "scattercarpet"
           }
          ],
          "scattergeo": [
           {
            "marker": {
             "colorbar": {
              "outlinewidth": 0,
              "ticks": ""
             }
            },
            "type": "scattergeo"
           }
          ],
          "scattergl": [
           {
            "marker": {
             "colorbar": {
              "outlinewidth": 0,
              "ticks": ""
             }
            },
            "type": "scattergl"
           }
          ],
          "scattermapbox": [
           {
            "marker": {
             "colorbar": {
              "outlinewidth": 0,
              "ticks": ""
             }
            },
            "type": "scattermapbox"
           }
          ],
          "scatterpolar": [
           {
            "marker": {
             "colorbar": {
              "outlinewidth": 0,
              "ticks": ""
             }
            },
            "type": "scatterpolar"
           }
          ],
          "scatterpolargl": [
           {
            "marker": {
             "colorbar": {
              "outlinewidth": 0,
              "ticks": ""
             }
            },
            "type": "scatterpolargl"
           }
          ],
          "scatterternary": [
           {
            "marker": {
             "colorbar": {
              "outlinewidth": 0,
              "ticks": ""
             }
            },
            "type": "scatterternary"
           }
          ],
          "surface": [
           {
            "colorbar": {
             "outlinewidth": 0,
             "ticks": ""
            },
            "colorscale": [
             [
              0,
              "#0d0887"
             ],
             [
              0.1111111111111111,
              "#46039f"
             ],
             [
              0.2222222222222222,
              "#7201a8"
             ],
             [
              0.3333333333333333,
              "#9c179e"
             ],
             [
              0.4444444444444444,
              "#bd3786"
             ],
             [
              0.5555555555555556,
              "#d8576b"
             ],
             [
              0.6666666666666666,
              "#ed7953"
             ],
             [
              0.7777777777777778,
              "#fb9f3a"
             ],
             [
              0.8888888888888888,
              "#fdca26"
             ],
             [
              1,
              "#f0f921"
             ]
            ],
            "type": "surface"
           }
          ],
          "table": [
           {
            "cells": {
             "fill": {
              "color": "#EBF0F8"
             },
             "line": {
              "color": "white"
             }
            },
            "header": {
             "fill": {
              "color": "#C8D4E3"
             },
             "line": {
              "color": "white"
             }
            },
            "type": "table"
           }
          ]
         },
         "layout": {
          "annotationdefaults": {
           "arrowcolor": "#2a3f5f",
           "arrowhead": 0,
           "arrowwidth": 1
          },
          "autotypenumbers": "strict",
          "coloraxis": {
           "colorbar": {
            "outlinewidth": 0,
            "ticks": ""
           }
          },
          "colorscale": {
           "diverging": [
            [
             0,
             "#8e0152"
            ],
            [
             0.1,
             "#c51b7d"
            ],
            [
             0.2,
             "#de77ae"
            ],
            [
             0.3,
             "#f1b6da"
            ],
            [
             0.4,
             "#fde0ef"
            ],
            [
             0.5,
             "#f7f7f7"
            ],
            [
             0.6,
             "#e6f5d0"
            ],
            [
             0.7,
             "#b8e186"
            ],
            [
             0.8,
             "#7fbc41"
            ],
            [
             0.9,
             "#4d9221"
            ],
            [
             1,
             "#276419"
            ]
           ],
           "sequential": [
            [
             0,
             "#0d0887"
            ],
            [
             0.1111111111111111,
             "#46039f"
            ],
            [
             0.2222222222222222,
             "#7201a8"
            ],
            [
             0.3333333333333333,
             "#9c179e"
            ],
            [
             0.4444444444444444,
             "#bd3786"
            ],
            [
             0.5555555555555556,
             "#d8576b"
            ],
            [
             0.6666666666666666,
             "#ed7953"
            ],
            [
             0.7777777777777778,
             "#fb9f3a"
            ],
            [
             0.8888888888888888,
             "#fdca26"
            ],
            [
             1,
             "#f0f921"
            ]
           ],
           "sequentialminus": [
            [
             0,
             "#0d0887"
            ],
            [
             0.1111111111111111,
             "#46039f"
            ],
            [
             0.2222222222222222,
             "#7201a8"
            ],
            [
             0.3333333333333333,
             "#9c179e"
            ],
            [
             0.4444444444444444,
             "#bd3786"
            ],
            [
             0.5555555555555556,
             "#d8576b"
            ],
            [
             0.6666666666666666,
             "#ed7953"
            ],
            [
             0.7777777777777778,
             "#fb9f3a"
            ],
            [
             0.8888888888888888,
             "#fdca26"
            ],
            [
             1,
             "#f0f921"
            ]
           ]
          },
          "colorway": [
           "#636efa",
           "#EF553B",
           "#00cc96",
           "#ab63fa",
           "#FFA15A",
           "#19d3f3",
           "#FF6692",
           "#B6E880",
           "#FF97FF",
           "#FECB52"
          ],
          "font": {
           "color": "#2a3f5f"
          },
          "geo": {
           "bgcolor": "white",
           "lakecolor": "white",
           "landcolor": "#E5ECF6",
           "showlakes": true,
           "showland": true,
           "subunitcolor": "white"
          },
          "hoverlabel": {
           "align": "left"
          },
          "hovermode": "closest",
          "mapbox": {
           "style": "light"
          },
          "paper_bgcolor": "white",
          "plot_bgcolor": "#E5ECF6",
          "polar": {
           "angularaxis": {
            "gridcolor": "white",
            "linecolor": "white",
            "ticks": ""
           },
           "bgcolor": "#E5ECF6",
           "radialaxis": {
            "gridcolor": "white",
            "linecolor": "white",
            "ticks": ""
           }
          },
          "scene": {
           "xaxis": {
            "backgroundcolor": "#E5ECF6",
            "gridcolor": "white",
            "gridwidth": 2,
            "linecolor": "white",
            "showbackground": true,
            "ticks": "",
            "zerolinecolor": "white"
           },
           "yaxis": {
            "backgroundcolor": "#E5ECF6",
            "gridcolor": "white",
            "gridwidth": 2,
            "linecolor": "white",
            "showbackground": true,
            "ticks": "",
            "zerolinecolor": "white"
           },
           "zaxis": {
            "backgroundcolor": "#E5ECF6",
            "gridcolor": "white",
            "gridwidth": 2,
            "linecolor": "white",
            "showbackground": true,
            "ticks": "",
            "zerolinecolor": "white"
           }
          },
          "shapedefaults": {
           "line": {
            "color": "#2a3f5f"
           }
          },
          "ternary": {
           "aaxis": {
            "gridcolor": "white",
            "linecolor": "white",
            "ticks": ""
           },
           "baxis": {
            "gridcolor": "white",
            "linecolor": "white",
            "ticks": ""
           },
           "bgcolor": "#E5ECF6",
           "caxis": {
            "gridcolor": "white",
            "linecolor": "white",
            "ticks": ""
           }
          },
          "title": {
           "x": 0.05
          },
          "xaxis": {
           "automargin": true,
           "gridcolor": "white",
           "linecolor": "white",
           "ticks": "",
           "title": {
            "standoff": 15
           },
           "zerolinecolor": "white",
           "zerolinewidth": 2
          },
          "yaxis": {
           "automargin": true,
           "gridcolor": "white",
           "linecolor": "white",
           "ticks": "",
           "title": {
            "standoff": 15
           },
           "zerolinecolor": "white",
           "zerolinewidth": 2
          }
         }
        },
        "xaxis": {
         "anchor": "y",
         "domain": [
          0,
          1
         ],
         "title": {
          "text": "date_time"
         }
        },
        "yaxis": {
         "anchor": "x",
         "domain": [
          0,
          1
         ],
         "title": {
          "text": "tmp"
         }
        }
       }
      }
     },
     "metadata": {},
     "output_type": "display_data"
    }
   ],
   "source": [
    "test = df_hour[(df_hour[\"date\"].astype(str) == \"2022-10-10\") & (df_hour[\"date_time\"].astype(str).str.slice(0, 10).str.contains(\"2022-10-10\"))]\n",
    "import plotly.express as px\n",
    "\n",
    "px.scatter(test, x=\"date_time\", y=\"tmp\")"
   ]
  },
  {
   "cell_type": "code",
   "execution_count": 150,
   "metadata": {},
   "outputs": [
    {
     "data": {
      "application/vnd.plotly.v1+json": {
       "config": {
        "plotlyServerURL": "https://plot.ly"
       },
       "data": [
        {
         "mode": "lines+markers",
         "name": "temp_hour",
         "type": "scatter",
         "x": [
          "2022-10-10T14:00:00",
          "2022-10-10T15:00:00",
          "2022-10-10T16:00:00",
          "2022-10-10T17:00:00",
          "2022-10-10T18:00:00",
          "2022-10-10T19:00:00",
          "2022-10-10T20:00:00",
          "2022-10-10T21:00:00",
          "2022-10-10T22:00:00",
          "2022-10-10T23:00:00"
         ],
         "y": [
          23.902894736842104,
          24.79375,
          24.856,
          24.86,
          24.824,
          24.71,
          24.490000000000002,
          24.384999999999998,
          24.14,
          23.994999999999997
         ]
        }
       ],
       "layout": {
        "template": {
         "data": {
          "bar": [
           {
            "error_x": {
             "color": "#2a3f5f"
            },
            "error_y": {
             "color": "#2a3f5f"
            },
            "marker": {
             "line": {
              "color": "#E5ECF6",
              "width": 0.5
             },
             "pattern": {
              "fillmode": "overlay",
              "size": 10,
              "solidity": 0.2
             }
            },
            "type": "bar"
           }
          ],
          "barpolar": [
           {
            "marker": {
             "line": {
              "color": "#E5ECF6",
              "width": 0.5
             },
             "pattern": {
              "fillmode": "overlay",
              "size": 10,
              "solidity": 0.2
             }
            },
            "type": "barpolar"
           }
          ],
          "carpet": [
           {
            "aaxis": {
             "endlinecolor": "#2a3f5f",
             "gridcolor": "white",
             "linecolor": "white",
             "minorgridcolor": "white",
             "startlinecolor": "#2a3f5f"
            },
            "baxis": {
             "endlinecolor": "#2a3f5f",
             "gridcolor": "white",
             "linecolor": "white",
             "minorgridcolor": "white",
             "startlinecolor": "#2a3f5f"
            },
            "type": "carpet"
           }
          ],
          "choropleth": [
           {
            "colorbar": {
             "outlinewidth": 0,
             "ticks": ""
            },
            "type": "choropleth"
           }
          ],
          "contour": [
           {
            "colorbar": {
             "outlinewidth": 0,
             "ticks": ""
            },
            "colorscale": [
             [
              0,
              "#0d0887"
             ],
             [
              0.1111111111111111,
              "#46039f"
             ],
             [
              0.2222222222222222,
              "#7201a8"
             ],
             [
              0.3333333333333333,
              "#9c179e"
             ],
             [
              0.4444444444444444,
              "#bd3786"
             ],
             [
              0.5555555555555556,
              "#d8576b"
             ],
             [
              0.6666666666666666,
              "#ed7953"
             ],
             [
              0.7777777777777778,
              "#fb9f3a"
             ],
             [
              0.8888888888888888,
              "#fdca26"
             ],
             [
              1,
              "#f0f921"
             ]
            ],
            "type": "contour"
           }
          ],
          "contourcarpet": [
           {
            "colorbar": {
             "outlinewidth": 0,
             "ticks": ""
            },
            "type": "contourcarpet"
           }
          ],
          "heatmap": [
           {
            "colorbar": {
             "outlinewidth": 0,
             "ticks": ""
            },
            "colorscale": [
             [
              0,
              "#0d0887"
             ],
             [
              0.1111111111111111,
              "#46039f"
             ],
             [
              0.2222222222222222,
              "#7201a8"
             ],
             [
              0.3333333333333333,
              "#9c179e"
             ],
             [
              0.4444444444444444,
              "#bd3786"
             ],
             [
              0.5555555555555556,
              "#d8576b"
             ],
             [
              0.6666666666666666,
              "#ed7953"
             ],
             [
              0.7777777777777778,
              "#fb9f3a"
             ],
             [
              0.8888888888888888,
              "#fdca26"
             ],
             [
              1,
              "#f0f921"
             ]
            ],
            "type": "heatmap"
           }
          ],
          "heatmapgl": [
           {
            "colorbar": {
             "outlinewidth": 0,
             "ticks": ""
            },
            "colorscale": [
             [
              0,
              "#0d0887"
             ],
             [
              0.1111111111111111,
              "#46039f"
             ],
             [
              0.2222222222222222,
              "#7201a8"
             ],
             [
              0.3333333333333333,
              "#9c179e"
             ],
             [
              0.4444444444444444,
              "#bd3786"
             ],
             [
              0.5555555555555556,
              "#d8576b"
             ],
             [
              0.6666666666666666,
              "#ed7953"
             ],
             [
              0.7777777777777778,
              "#fb9f3a"
             ],
             [
              0.8888888888888888,
              "#fdca26"
             ],
             [
              1,
              "#f0f921"
             ]
            ],
            "type": "heatmapgl"
           }
          ],
          "histogram": [
           {
            "marker": {
             "pattern": {
              "fillmode": "overlay",
              "size": 10,
              "solidity": 0.2
             }
            },
            "type": "histogram"
           }
          ],
          "histogram2d": [
           {
            "colorbar": {
             "outlinewidth": 0,
             "ticks": ""
            },
            "colorscale": [
             [
              0,
              "#0d0887"
             ],
             [
              0.1111111111111111,
              "#46039f"
             ],
             [
              0.2222222222222222,
              "#7201a8"
             ],
             [
              0.3333333333333333,
              "#9c179e"
             ],
             [
              0.4444444444444444,
              "#bd3786"
             ],
             [
              0.5555555555555556,
              "#d8576b"
             ],
             [
              0.6666666666666666,
              "#ed7953"
             ],
             [
              0.7777777777777778,
              "#fb9f3a"
             ],
             [
              0.8888888888888888,
              "#fdca26"
             ],
             [
              1,
              "#f0f921"
             ]
            ],
            "type": "histogram2d"
           }
          ],
          "histogram2dcontour": [
           {
            "colorbar": {
             "outlinewidth": 0,
             "ticks": ""
            },
            "colorscale": [
             [
              0,
              "#0d0887"
             ],
             [
              0.1111111111111111,
              "#46039f"
             ],
             [
              0.2222222222222222,
              "#7201a8"
             ],
             [
              0.3333333333333333,
              "#9c179e"
             ],
             [
              0.4444444444444444,
              "#bd3786"
             ],
             [
              0.5555555555555556,
              "#d8576b"
             ],
             [
              0.6666666666666666,
              "#ed7953"
             ],
             [
              0.7777777777777778,
              "#fb9f3a"
             ],
             [
              0.8888888888888888,
              "#fdca26"
             ],
             [
              1,
              "#f0f921"
             ]
            ],
            "type": "histogram2dcontour"
           }
          ],
          "mesh3d": [
           {
            "colorbar": {
             "outlinewidth": 0,
             "ticks": ""
            },
            "type": "mesh3d"
           }
          ],
          "parcoords": [
           {
            "line": {
             "colorbar": {
              "outlinewidth": 0,
              "ticks": ""
             }
            },
            "type": "parcoords"
           }
          ],
          "pie": [
           {
            "automargin": true,
            "type": "pie"
           }
          ],
          "scatter": [
           {
            "fillpattern": {
             "fillmode": "overlay",
             "size": 10,
             "solidity": 0.2
            },
            "type": "scatter"
           }
          ],
          "scatter3d": [
           {
            "line": {
             "colorbar": {
              "outlinewidth": 0,
              "ticks": ""
             }
            },
            "marker": {
             "colorbar": {
              "outlinewidth": 0,
              "ticks": ""
             }
            },
            "type": "scatter3d"
           }
          ],
          "scattercarpet": [
           {
            "marker": {
             "colorbar": {
              "outlinewidth": 0,
              "ticks": ""
             }
            },
            "type": "scattercarpet"
           }
          ],
          "scattergeo": [
           {
            "marker": {
             "colorbar": {
              "outlinewidth": 0,
              "ticks": ""
             }
            },
            "type": "scattergeo"
           }
          ],
          "scattergl": [
           {
            "marker": {
             "colorbar": {
              "outlinewidth": 0,
              "ticks": ""
             }
            },
            "type": "scattergl"
           }
          ],
          "scattermapbox": [
           {
            "marker": {
             "colorbar": {
              "outlinewidth": 0,
              "ticks": ""
             }
            },
            "type": "scattermapbox"
           }
          ],
          "scatterpolar": [
           {
            "marker": {
             "colorbar": {
              "outlinewidth": 0,
              "ticks": ""
             }
            },
            "type": "scatterpolar"
           }
          ],
          "scatterpolargl": [
           {
            "marker": {
             "colorbar": {
              "outlinewidth": 0,
              "ticks": ""
             }
            },
            "type": "scatterpolargl"
           }
          ],
          "scatterternary": [
           {
            "marker": {
             "colorbar": {
              "outlinewidth": 0,
              "ticks": ""
             }
            },
            "type": "scatterternary"
           }
          ],
          "surface": [
           {
            "colorbar": {
             "outlinewidth": 0,
             "ticks": ""
            },
            "colorscale": [
             [
              0,
              "#0d0887"
             ],
             [
              0.1111111111111111,
              "#46039f"
             ],
             [
              0.2222222222222222,
              "#7201a8"
             ],
             [
              0.3333333333333333,
              "#9c179e"
             ],
             [
              0.4444444444444444,
              "#bd3786"
             ],
             [
              0.5555555555555556,
              "#d8576b"
             ],
             [
              0.6666666666666666,
              "#ed7953"
             ],
             [
              0.7777777777777778,
              "#fb9f3a"
             ],
             [
              0.8888888888888888,
              "#fdca26"
             ],
             [
              1,
              "#f0f921"
             ]
            ],
            "type": "surface"
           }
          ],
          "table": [
           {
            "cells": {
             "fill": {
              "color": "#EBF0F8"
             },
             "line": {
              "color": "white"
             }
            },
            "header": {
             "fill": {
              "color": "#C8D4E3"
             },
             "line": {
              "color": "white"
             }
            },
            "type": "table"
           }
          ]
         },
         "layout": {
          "annotationdefaults": {
           "arrowcolor": "#2a3f5f",
           "arrowhead": 0,
           "arrowwidth": 1
          },
          "autotypenumbers": "strict",
          "coloraxis": {
           "colorbar": {
            "outlinewidth": 0,
            "ticks": ""
           }
          },
          "colorscale": {
           "diverging": [
            [
             0,
             "#8e0152"
            ],
            [
             0.1,
             "#c51b7d"
            ],
            [
             0.2,
             "#de77ae"
            ],
            [
             0.3,
             "#f1b6da"
            ],
            [
             0.4,
             "#fde0ef"
            ],
            [
             0.5,
             "#f7f7f7"
            ],
            [
             0.6,
             "#e6f5d0"
            ],
            [
             0.7,
             "#b8e186"
            ],
            [
             0.8,
             "#7fbc41"
            ],
            [
             0.9,
             "#4d9221"
            ],
            [
             1,
             "#276419"
            ]
           ],
           "sequential": [
            [
             0,
             "#0d0887"
            ],
            [
             0.1111111111111111,
             "#46039f"
            ],
            [
             0.2222222222222222,
             "#7201a8"
            ],
            [
             0.3333333333333333,
             "#9c179e"
            ],
            [
             0.4444444444444444,
             "#bd3786"
            ],
            [
             0.5555555555555556,
             "#d8576b"
            ],
            [
             0.6666666666666666,
             "#ed7953"
            ],
            [
             0.7777777777777778,
             "#fb9f3a"
            ],
            [
             0.8888888888888888,
             "#fdca26"
            ],
            [
             1,
             "#f0f921"
            ]
           ],
           "sequentialminus": [
            [
             0,
             "#0d0887"
            ],
            [
             0.1111111111111111,
             "#46039f"
            ],
            [
             0.2222222222222222,
             "#7201a8"
            ],
            [
             0.3333333333333333,
             "#9c179e"
            ],
            [
             0.4444444444444444,
             "#bd3786"
            ],
            [
             0.5555555555555556,
             "#d8576b"
            ],
            [
             0.6666666666666666,
             "#ed7953"
            ],
            [
             0.7777777777777778,
             "#fb9f3a"
            ],
            [
             0.8888888888888888,
             "#fdca26"
            ],
            [
             1,
             "#f0f921"
            ]
           ]
          },
          "colorway": [
           "#636efa",
           "#EF553B",
           "#00cc96",
           "#ab63fa",
           "#FFA15A",
           "#19d3f3",
           "#FF6692",
           "#B6E880",
           "#FF97FF",
           "#FECB52"
          ],
          "font": {
           "color": "#2a3f5f"
          },
          "geo": {
           "bgcolor": "white",
           "lakecolor": "white",
           "landcolor": "#E5ECF6",
           "showlakes": true,
           "showland": true,
           "subunitcolor": "white"
          },
          "hoverlabel": {
           "align": "left"
          },
          "hovermode": "closest",
          "mapbox": {
           "style": "light"
          },
          "paper_bgcolor": "white",
          "plot_bgcolor": "#E5ECF6",
          "polar": {
           "angularaxis": {
            "gridcolor": "white",
            "linecolor": "white",
            "ticks": ""
           },
           "bgcolor": "#E5ECF6",
           "radialaxis": {
            "gridcolor": "white",
            "linecolor": "white",
            "ticks": ""
           }
          },
          "scene": {
           "xaxis": {
            "backgroundcolor": "#E5ECF6",
            "gridcolor": "white",
            "gridwidth": 2,
            "linecolor": "white",
            "showbackground": true,
            "ticks": "",
            "zerolinecolor": "white"
           },
           "yaxis": {
            "backgroundcolor": "#E5ECF6",
            "gridcolor": "white",
            "gridwidth": 2,
            "linecolor": "white",
            "showbackground": true,
            "ticks": "",
            "zerolinecolor": "white"
           },
           "zaxis": {
            "backgroundcolor": "#E5ECF6",
            "gridcolor": "white",
            "gridwidth": 2,
            "linecolor": "white",
            "showbackground": true,
            "ticks": "",
            "zerolinecolor": "white"
           }
          },
          "shapedefaults": {
           "line": {
            "color": "#2a3f5f"
           }
          },
          "ternary": {
           "aaxis": {
            "gridcolor": "white",
            "linecolor": "white",
            "ticks": ""
           },
           "baxis": {
            "gridcolor": "white",
            "linecolor": "white",
            "ticks": ""
           },
           "bgcolor": "#E5ECF6",
           "caxis": {
            "gridcolor": "white",
            "linecolor": "white",
            "ticks": ""
           }
          },
          "title": {
           "x": 0.05
          },
          "xaxis": {
           "automargin": true,
           "gridcolor": "white",
           "linecolor": "white",
           "ticks": "",
           "title": {
            "standoff": 15
           },
           "zerolinecolor": "white",
           "zerolinewidth": 2
          },
          "yaxis": {
           "automargin": true,
           "gridcolor": "white",
           "linecolor": "white",
           "ticks": "",
           "title": {
            "standoff": 15
           },
           "zerolinecolor": "white",
           "zerolinewidth": 2
          }
         }
        }
       }
      }
     },
     "metadata": {},
     "output_type": "display_data"
    }
   ],
   "source": [
    "input_device = \"hka-aqm-a014\"\n",
    "input_date = \"2022-10-10\"\n",
    "\n",
    "fig_temp = go.Figure()\n",
    "fig_temp.add_trace(\n",
    "    go.Scatter(\n",
    "        x= df_hour[(df_hour[\"device_id\"].astype(str) == input_device) & (df_hour[\"date_time\"].astype(str).str.slice(0, 10).str.contains(input_date))][\"date_time\"],\n",
    "        y= df_hour[(df_hour[\"device_id\"] == input_device) & (df_hour[\"date_time\"].astype(str).str.slice(0, 10).str.contains(input_date))][\"tmp\"],\n",
    "        name= \"temp_hour\",\n",
    "        mode= \"lines+markers\"\n",
    "    )\n",
    ")"
   ]
  },
  {
   "cell_type": "code",
   "execution_count": 147,
   "metadata": {},
   "outputs": [
    {
     "data": {
      "text/plain": [
       "0   2022-10-10 14:00:00\n",
       "1   2022-10-10 15:00:00\n",
       "2   2022-10-10 16:00:00\n",
       "3   2022-10-10 17:00:00\n",
       "4   2022-10-10 18:00:00\n",
       "5   2022-10-10 19:00:00\n",
       "6   2022-10-10 20:00:00\n",
       "7   2022-10-10 21:00:00\n",
       "8   2022-10-10 22:00:00\n",
       "9   2022-10-10 23:00:00\n",
       "Name: date_time, dtype: datetime64[ns]"
      ]
     },
     "execution_count": 147,
     "metadata": {},
     "output_type": "execute_result"
    }
   ],
   "source": [
    "df_hour[(df_hour[\"device_id\"] == \"hka-aqm-a014\") & (df_hour[\"date_time\"].astype(str).str.slice(0, 10).str.contains(\"2022-10-10\"))][\"date_time\"]"
   ]
  },
  {
   "cell_type": "code",
   "execution_count": 149,
   "metadata": {},
   "outputs": [
    {
     "data": {
      "text/plain": [
       "0    23.902895\n",
       "1    24.793750\n",
       "2    24.856000\n",
       "3    24.860000\n",
       "4    24.824000\n",
       "5    24.710000\n",
       "6    24.490000\n",
       "7    24.385000\n",
       "8    24.140000\n",
       "9    23.995000\n",
       "Name: tmp, dtype: float64"
      ]
     },
     "execution_count": 149,
     "metadata": {},
     "output_type": "execute_result"
    }
   ],
   "source": [
    "df_hour[(df_hour[\"device_id\"] == input_device) & (df_hour[\"date_time\"].astype(str).str.slice(0, 10).str.contains(input_date))][\"tmp\"]"
   ]
  },
  {
   "cell_type": "code",
   "execution_count": 114,
   "metadata": {},
   "outputs": [
    {
     "data": {
      "application/vnd.plotly.v1+json": {
       "config": {
        "plotlyServerURL": "https://plot.ly"
       },
       "data": [
        {
         "mode": "lines+markers",
         "name": "temp_hour",
         "type": "scatter",
         "x": [
          "2022-10-10T14:00:00",
          "2022-10-10T15:00:00",
          "2022-10-10T16:00:00",
          "2022-10-10T17:00:00",
          "2022-10-10T18:00:00",
          "2022-10-10T19:00:00",
          "2022-10-10T20:00:00",
          "2022-10-10T21:00:00",
          "2022-10-10T22:00:00",
          "2022-10-10T23:00:00",
          "2022-10-11T00:00:00",
          "2022-10-11T01:00:00",
          "2022-10-11T02:00:00",
          "2022-10-11T03:00:00",
          "2022-10-11T04:00:00",
          "2022-10-11T05:00:00",
          "2022-10-11T06:00:00",
          "2022-10-11T07:00:00",
          "2022-10-11T08:00:00",
          "2022-10-11T09:00:00",
          "2022-10-11T10:00:00",
          "2022-10-11T11:00:00",
          "2022-10-11T12:00:00",
          "2022-10-11T13:00:00",
          "2022-10-11T14:00:00",
          "2022-10-11T15:00:00",
          "2022-10-11T16:00:00",
          "2022-10-11T17:00:00",
          "2022-10-11T18:00:00",
          "2022-10-11T19:00:00",
          "2022-10-11T20:00:00",
          "2022-10-11T21:00:00",
          "2022-10-11T22:00:00",
          "2022-10-11T23:00:00",
          "2022-10-12T00:00:00",
          "2022-10-12T01:00:00",
          "2022-10-12T02:00:00",
          "2022-10-12T03:00:00",
          "2022-10-12T04:00:00",
          "2022-10-12T05:00:00",
          "2022-10-12T06:00:00",
          "2022-10-12T07:00:00",
          "2022-10-12T08:00:00",
          "2022-10-12T09:00:00",
          "2022-10-12T10:00:00",
          "2022-10-12T11:00:00",
          "2022-10-12T12:00:00",
          "2022-10-12T13:00:00",
          "2022-10-12T14:00:00",
          "2022-10-12T15:00:00",
          "2022-10-12T16:00:00",
          "2022-10-12T17:00:00",
          "2022-10-12T18:00:00",
          "2022-10-12T19:00:00",
          "2022-10-12T20:00:00",
          "2022-10-12T21:00:00",
          "2022-10-12T22:00:00",
          "2022-10-12T23:00:00",
          "2022-10-13T00:00:00",
          "2022-10-13T01:00:00",
          "2022-10-13T02:00:00",
          "2022-10-13T03:00:00",
          "2022-10-13T04:00:00",
          "2022-10-13T05:00:00",
          "2022-10-13T06:00:00",
          "2022-10-13T07:00:00",
          "2022-10-13T08:00:00",
          "2022-10-13T09:00:00",
          "2022-10-13T10:00:00",
          "2022-10-13T11:00:00",
          "2022-10-13T12:00:00",
          "2022-10-13T13:00:00",
          "2022-10-13T14:00:00",
          "2022-10-13T15:00:00",
          "2022-10-13T16:00:00",
          "2022-10-13T17:00:00",
          "2022-10-13T18:00:00",
          "2022-10-13T19:00:00",
          "2022-10-13T20:00:00",
          "2022-10-13T21:00:00",
          "2023-06-03T18:00:00",
          "2023-06-03T19:00:00",
          "2023-06-03T20:00:00",
          "2023-06-03T21:00:00",
          "2023-06-03T22:00:00",
          "2023-06-03T23:00:00",
          "2023-06-04T00:00:00",
          "2023-06-04T01:00:00",
          "2023-06-04T02:00:00",
          "2023-06-04T03:00:00",
          "2023-06-04T04:00:00",
          "2023-06-04T05:00:00",
          "2023-06-04T06:00:00",
          "2023-06-04T07:00:00",
          "2023-06-04T08:00:00",
          "2023-06-04T09:00:00",
          "2023-06-04T10:00:00",
          "2023-06-04T11:00:00",
          "2023-06-04T12:00:00",
          "2023-06-04T13:00:00",
          "2023-06-04T14:00:00",
          "2023-06-04T15:00:00",
          "2023-06-04T16:00:00",
          "2023-06-04T17:00:00",
          "2023-06-04T18:00:00",
          "2023-06-04T19:00:00",
          "2023-06-04T20:00:00",
          "2023-06-04T21:00:00",
          "2023-06-04T22:00:00",
          "2023-06-04T23:00:00",
          "2023-06-05T00:00:00",
          "2023-06-05T01:00:00",
          "2023-06-05T02:00:00",
          "2023-06-05T03:00:00",
          "2023-06-05T04:00:00",
          "2023-06-05T05:00:00",
          "2023-06-05T06:00:00",
          "2023-06-05T07:00:00",
          "2023-06-05T08:00:00",
          "2023-06-05T09:00:00",
          "2023-06-05T10:00:00",
          "2023-06-05T11:00:00",
          "2023-06-05T12:00:00",
          "2023-06-05T13:00:00",
          "2023-06-05T14:00:00",
          "2023-06-05T15:00:00",
          "2023-06-05T16:00:00",
          "2023-06-05T17:00:00",
          "2023-06-05T18:00:00",
          "2023-06-05T19:00:00",
          "2023-06-05T20:00:00",
          "2023-06-05T21:00:00",
          "2023-06-05T22:00:00",
          "2023-06-05T23:00:00",
          "2023-06-06T00:00:00",
          "2023-06-06T01:00:00",
          "2023-06-06T02:00:00",
          "2023-06-06T03:00:00",
          "2023-06-06T04:00:00",
          "2023-06-06T05:00:00",
          "2023-06-06T06:00:00",
          "2023-06-06T07:00:00",
          "2023-06-06T08:00:00",
          "2023-06-06T09:00:00",
          "2023-06-06T10:00:00",
          "2023-06-06T11:00:00",
          "2023-06-06T12:00:00",
          "2023-06-06T13:00:00",
          "2023-06-06T14:00:00",
          "2023-06-06T15:00:00",
          "2023-06-06T16:00:00",
          "2023-06-06T17:00:00",
          "2023-06-06T18:00:00",
          "2023-06-06T19:00:00",
          "2023-06-06T20:00:00",
          "2023-06-06T21:00:00",
          "2023-06-06T22:00:00",
          "2023-06-06T23:00:00",
          "2023-06-07T00:00:00",
          "2023-06-07T01:00:00",
          "2023-06-07T02:00:00",
          "2023-06-07T03:00:00",
          "2023-06-07T04:00:00",
          "2023-06-07T05:00:00",
          "2023-06-07T06:00:00",
          "2023-06-07T07:00:00",
          "2023-06-07T08:00:00",
          "2023-06-07T09:00:00",
          "2023-06-07T10:00:00",
          "2023-06-07T11:00:00",
          "2023-06-07T12:00:00",
          "2023-06-07T13:00:00",
          "2023-06-07T14:00:00",
          "2023-06-07T15:00:00",
          "2023-06-07T16:00:00",
          "2023-06-07T17:00:00",
          "2023-06-07T18:00:00",
          "2023-06-07T19:00:00",
          "2023-06-07T20:00:00",
          "2023-06-07T21:00:00",
          "2023-06-07T22:00:00",
          "2023-06-07T23:00:00",
          "2023-06-08T00:00:00",
          "2023-06-08T01:00:00",
          "2023-06-08T02:00:00",
          "2023-06-04T06:00:00",
          "2023-06-04T07:00:00",
          "2023-06-04T08:00:00",
          "2023-06-04T09:00:00",
          "2023-06-04T10:00:00",
          "2023-06-04T11:00:00",
          "2023-06-04T12:00:00",
          "2023-06-04T13:00:00",
          "2023-06-04T14:00:00",
          "2023-06-04T15:00:00",
          "2023-06-04T16:00:00",
          "2023-06-04T17:00:00",
          "2023-06-04T18:00:00",
          "2023-06-04T19:00:00",
          "2023-06-04T20:00:00",
          "2023-06-04T21:00:00",
          "2023-06-04T22:00:00",
          "2023-06-04T23:00:00",
          "2023-06-05T00:00:00",
          "2023-06-05T01:00:00",
          "2023-06-05T02:00:00",
          "2023-06-05T03:00:00",
          "2023-06-05T04:00:00",
          "2023-06-05T05:00:00",
          "2023-06-05T06:00:00",
          "2023-06-05T07:00:00",
          "2023-06-05T08:00:00",
          "2023-06-05T09:00:00",
          "2023-06-05T10:00:00",
          "2023-06-05T11:00:00",
          "2023-06-05T12:00:00",
          "2023-06-05T13:00:00",
          "2023-06-05T14:00:00",
          "2023-06-05T15:00:00",
          "2023-06-05T16:00:00",
          "2023-06-05T17:00:00",
          "2023-06-05T18:00:00",
          "2023-06-05T19:00:00",
          "2023-06-05T20:00:00",
          "2023-06-05T21:00:00",
          "2023-06-05T22:00:00",
          "2023-06-05T23:00:00",
          "2023-06-06T00:00:00",
          "2023-06-06T01:00:00",
          "2023-02-24T17:00:00",
          "2023-02-24T18:00:00",
          "2023-02-24T19:00:00",
          "2023-02-24T20:00:00",
          "2023-02-24T21:00:00",
          "2023-02-24T22:00:00",
          "2023-02-24T23:00:00",
          "2023-02-25T00:00:00",
          "2023-02-25T01:00:00",
          "2023-02-25T02:00:00",
          "2023-02-25T03:00:00",
          "2023-02-25T04:00:00",
          "2023-02-25T05:00:00",
          "2023-02-25T06:00:00",
          "2023-02-25T07:00:00",
          "2023-02-25T08:00:00",
          "2023-02-25T09:00:00",
          "2023-02-25T10:00:00",
          "2023-02-25T11:00:00",
          "2023-02-25T12:00:00",
          "2023-02-25T13:00:00",
          "2023-02-25T14:00:00",
          "2023-02-25T15:00:00",
          "2023-02-25T16:00:00",
          "2023-02-25T17:00:00",
          "2023-02-25T18:00:00",
          "2023-02-25T19:00:00",
          "2023-02-25T20:00:00",
          "2023-02-25T21:00:00",
          "2023-02-25T22:00:00",
          "2023-02-25T23:00:00",
          "2023-02-26T00:00:00",
          "2023-02-26T01:00:00",
          "2023-02-26T02:00:00",
          "2023-02-26T03:00:00",
          "2023-02-26T04:00:00",
          "2023-02-26T05:00:00",
          "2023-02-26T06:00:00",
          "2023-02-26T07:00:00",
          "2023-02-26T08:00:00",
          "2023-02-26T09:00:00",
          "2023-02-26T10:00:00",
          "2023-02-26T11:00:00",
          "2023-02-26T12:00:00",
          "2023-02-26T13:00:00",
          "2023-02-26T14:00:00",
          "2023-02-26T15:00:00",
          "2023-02-26T16:00:00",
          "2023-02-26T17:00:00",
          "2023-02-26T18:00:00",
          "2023-02-26T19:00:00",
          "2023-02-26T20:00:00",
          "2023-02-26T21:00:00",
          "2023-02-26T22:00:00",
          "2023-02-26T23:00:00",
          "2023-02-27T00:00:00",
          "2023-02-27T01:00:00",
          "2023-02-27T02:00:00",
          "2023-02-27T03:00:00",
          "2023-02-27T04:00:00",
          "2023-02-27T05:00:00",
          "2023-02-27T06:00:00",
          "2023-02-27T07:00:00",
          "2023-02-27T08:00:00",
          "2023-02-27T09:00:00",
          "2023-02-27T10:00:00",
          "2023-02-27T11:00:00",
          "2023-02-27T12:00:00",
          "2023-02-27T13:00:00",
          "2023-02-27T14:00:00",
          "2023-02-27T15:00:00",
          "2023-02-27T16:00:00",
          "2023-02-27T17:00:00",
          "2023-02-27T18:00:00",
          "2023-06-10T14:00:00",
          "2023-06-10T15:00:00",
          "2023-06-10T16:00:00",
          "2023-06-10T17:00:00",
          "2023-06-10T18:00:00",
          "2023-06-10T19:00:00",
          "2023-06-10T20:00:00",
          "2023-06-10T21:00:00",
          "2023-06-10T22:00:00",
          "2023-06-10T23:00:00",
          "2023-06-11T00:00:00",
          "2023-06-11T01:00:00",
          "2023-06-11T02:00:00",
          "2023-06-11T03:00:00",
          "2023-06-11T04:00:00",
          "2023-06-11T05:00:00",
          "2023-06-11T06:00:00",
          "2023-06-11T07:00:00",
          "2023-06-11T08:00:00",
          "2023-06-11T09:00:00",
          "2023-06-11T10:00:00",
          "2023-06-11T11:00:00",
          "2023-06-11T12:00:00",
          "2023-06-11T13:00:00",
          "2023-06-11T14:00:00",
          "2023-06-11T15:00:00",
          "2023-06-11T16:00:00",
          "2023-06-11T17:00:00",
          "2023-06-11T18:00:00",
          "2023-06-11T19:00:00",
          "2023-06-11T20:00:00",
          "2023-06-11T21:00:00",
          "2023-06-11T22:00:00",
          "2023-06-11T23:00:00",
          "2023-06-12T00:00:00",
          "2023-06-12T01:00:00",
          "2023-06-12T02:00:00",
          "2023-06-12T03:00:00",
          "2023-06-12T04:00:00",
          "2023-06-12T05:00:00",
          "2023-06-12T06:00:00",
          "2023-06-12T07:00:00",
          "2023-06-12T08:00:00",
          "2023-06-12T09:00:00",
          "2023-06-12T10:00:00",
          "2023-06-12T11:00:00"
         ],
         "y": [
          23.902894736842104,
          24.79375,
          24.856,
          24.86,
          24.824,
          24.71,
          24.490000000000002,
          24.384999999999998,
          24.14,
          23.994999999999997,
          23.995,
          23.9875,
          23.956666666666667,
          23.945,
          23.942500000000003,
          23.925,
          23.928,
          23.95,
          23.822499999999998,
          23.740000000000002,
          23.7125,
          23.7025,
          23.85904761904762,
          23.942,
          23.9125,
          23.9225,
          23.930000000000003,
          24.020000000000003,
          24.195,
          24.169999999999998,
          24.2425,
          23.814999999999998,
          23.7425,
          23.759999999999998,
          23.78,
          23.775000000000002,
          23.75,
          23.7575,
          23.7175,
          23.708,
          23.6625,
          23.570000000000004,
          23.5525,
          23.64,
          23.94666666666667,
          24.5625,
          25.449743589743587,
          26.054920634920634,
          27.763749999999998,
          25.67,
          24.9175,
          24.6,
          24.666666666666668,
          24.825714285714287,
          24.8625,
          24.54,
          24.42,
          24.345,
          24.2825,
          24.175,
          24.240000000000002,
          24.1875,
          24.0425,
          24.009999999999998,
          23.9525,
          23.87,
          23.73,
          23.7125,
          23.705,
          23.872500000000002,
          24.06,
          23.05,
          23.58625,
          24.5925,
          24.8225,
          24.4,
          24.0025,
          23.761666666666667,
          23.4825,
          23.322499999999998,
          27.695999999999998,
          27.5375,
          27.2625,
          27.03,
          26.823333333333334,
          26.634999999999998,
          26.490000000000002,
          26.3275,
          26.176,
          26.03,
          25.895,
          25.7825,
          25.7275,
          25.775,
          26.02,
          26.3875,
          26.6925,
          27.085,
          27.508888888888887,
          27.8075,
          27.93,
          28.1625,
          28.1475,
          28.08,
          27.91,
          27.807499999999997,
          27.552500000000002,
          27.2125,
          26.97,
          26.75,
          26.5425,
          26.3525,
          26.197499999999998,
          26.064999999999998,
          25.9375,
          25.86,
          25.89,
          25.93,
          25.3575,
          25.5175,
          26.0325,
          26.634999999999998,
          27.264,
          27.63714285714286,
          28.188888888888886,
          28.33111111111111,
          28.465,
          28.433333333333334,
          28.35,
          28.177500000000002,
          27.8325,
          27.344,
          26.9825,
          26.725,
          26.435000000000002,
          26.2375,
          26.05,
          25.9,
          25.883999999999997,
          25.8975,
          26.048333333333332,
          25.72,
          25.548,
          25.8675,
          26.3525,
          26.8625,
          27.405,
          27.8525,
          28.333333333333332,
          28.109166666666667,
          28.30875,
          28.348000000000003,
          28.161666666666665,
          28.1,
          27.744999999999997,
          27.4475,
          27.126666666666665,
          27.008333333333336,
          26.66857142857143,
          26.528,
          26.330000000000002,
          26.14,
          26.05,
          25.868000000000002,
          25.9875,
          25.825,
          25.612000000000002,
          25.814999999999998,
          26.39,
          26.928888888888892,
          27.339999999999996,
          27.721578947368425,
          28.049999999999997,
          28.213333333333335,
          28.47125,
          28.329333333333334,
          28.246,
          28.168,
          28.212500000000002,
          27.924,
          27.692,
          27.43,
          27.194,
          27.044999999999998,
          26.912857142857142,
          27.160000000000004,
          27.416666666666668,
          28.3675,
          29.14,
          29.335714285714285,
          29.275,
          29.075,
          29.04,
          29.009999999999998,
          28.925,
          28.9025,
          28.85,
          28.825,
          28.77,
          28.677500000000002,
          28.515,
          28.263333333333335,
          28.0225,
          27.7475,
          27.552500000000002,
          27.322499999999998,
          27.1675,
          27.0375,
          26.8925,
          26.8975,
          27.8925,
          28.725,
          29.442500000000003,
          29.58,
          29.465,
          29.29,
          29.2625,
          29.314,
          29.286666666666665,
          29.235,
          29.165,
          29.099999999999998,
          28.975,
          28.865,
          28.735,
          28.4625,
          28.2325,
          27.92,
          27.723333333333333,
          26.572499999999998,
          26.45,
          26.38,
          26.31,
          26.247500000000002,
          26.225,
          26.2725,
          26.2575,
          26.247500000000002,
          26.24,
          26.256666666666664,
          26.16,
          26.03,
          25.9125,
          25.7925,
          25.78,
          25.75,
          25.7725,
          25.9725,
          25.98,
          25.98,
          25.965,
          26.05,
          26.035,
          25.947499999999998,
          25.76,
          25.616666666666664,
          25.495,
          25.442500000000003,
          25.399999999999995,
          25.365000000000002,
          25.372500000000002,
          25.340000000000003,
          25.290000000000003,
          25.232499999999998,
          25.22,
          25.183333333333334,
          25.1525,
          25.116666666666664,
          25.268,
          25.660476190476192,
          26.07888888888889,
          26.11,
          26.0225,
          25.9775,
          25.9575,
          25.939999999999998,
          25.873333333333335,
          25.7425,
          25.55,
          25.34,
          25.18,
          25.060000000000002,
          24.9175,
          24.7975,
          24.705,
          24.6075,
          24.55,
          24.5125,
          24.445,
          24.3875,
          24.386666666666667,
          24.384999999999998,
          24.47,
          26.825,
          28.29,
          28.23,
          27.405,
          26.86,
          26.58076923076923,
          26.40857142857143,
          26.305,
          26.005,
          25.6625,
          24.905555555555555,
          25.816363636363636,
          27.23,
          28.182499999999997,
          28.5625,
          28.7975,
          28.8625,
          28.805,
          28.775,
          28.73,
          28.665,
          28.5675,
          28.515,
          28.4325,
          28.335,
          27.675,
          26.33125,
          26.353333333333335,
          26.7225,
          26.6325,
          25.615000000000002,
          24.83125,
          24.6375,
          24.6025,
          24.7275,
          25.765,
          27.2375,
          28.0525,
          28.525,
          28.78,
          28.857499999999998,
          28.880000000000003,
          28.805,
          28.6825,
          28.572499999999998,
          28.4,
          28.310000000000002,
          28.2375,
          28.1325,
          27.185,
          26.44545454545454,
          26.314999999999998,
          26.6575,
          26.6625,
          25.708,
          24.790857142857142
         ]
        }
       ],
       "layout": {
        "plot_bgcolor": "white",
        "template": {
         "data": {
          "bar": [
           {
            "error_x": {
             "color": "#2a3f5f"
            },
            "error_y": {
             "color": "#2a3f5f"
            },
            "marker": {
             "line": {
              "color": "#E5ECF6",
              "width": 0.5
             },
             "pattern": {
              "fillmode": "overlay",
              "size": 10,
              "solidity": 0.2
             }
            },
            "type": "bar"
           }
          ],
          "barpolar": [
           {
            "marker": {
             "line": {
              "color": "#E5ECF6",
              "width": 0.5
             },
             "pattern": {
              "fillmode": "overlay",
              "size": 10,
              "solidity": 0.2
             }
            },
            "type": "barpolar"
           }
          ],
          "carpet": [
           {
            "aaxis": {
             "endlinecolor": "#2a3f5f",
             "gridcolor": "white",
             "linecolor": "white",
             "minorgridcolor": "white",
             "startlinecolor": "#2a3f5f"
            },
            "baxis": {
             "endlinecolor": "#2a3f5f",
             "gridcolor": "white",
             "linecolor": "white",
             "minorgridcolor": "white",
             "startlinecolor": "#2a3f5f"
            },
            "type": "carpet"
           }
          ],
          "choropleth": [
           {
            "colorbar": {
             "outlinewidth": 0,
             "ticks": ""
            },
            "type": "choropleth"
           }
          ],
          "contour": [
           {
            "colorbar": {
             "outlinewidth": 0,
             "ticks": ""
            },
            "colorscale": [
             [
              0,
              "#0d0887"
             ],
             [
              0.1111111111111111,
              "#46039f"
             ],
             [
              0.2222222222222222,
              "#7201a8"
             ],
             [
              0.3333333333333333,
              "#9c179e"
             ],
             [
              0.4444444444444444,
              "#bd3786"
             ],
             [
              0.5555555555555556,
              "#d8576b"
             ],
             [
              0.6666666666666666,
              "#ed7953"
             ],
             [
              0.7777777777777778,
              "#fb9f3a"
             ],
             [
              0.8888888888888888,
              "#fdca26"
             ],
             [
              1,
              "#f0f921"
             ]
            ],
            "type": "contour"
           }
          ],
          "contourcarpet": [
           {
            "colorbar": {
             "outlinewidth": 0,
             "ticks": ""
            },
            "type": "contourcarpet"
           }
          ],
          "heatmap": [
           {
            "colorbar": {
             "outlinewidth": 0,
             "ticks": ""
            },
            "colorscale": [
             [
              0,
              "#0d0887"
             ],
             [
              0.1111111111111111,
              "#46039f"
             ],
             [
              0.2222222222222222,
              "#7201a8"
             ],
             [
              0.3333333333333333,
              "#9c179e"
             ],
             [
              0.4444444444444444,
              "#bd3786"
             ],
             [
              0.5555555555555556,
              "#d8576b"
             ],
             [
              0.6666666666666666,
              "#ed7953"
             ],
             [
              0.7777777777777778,
              "#fb9f3a"
             ],
             [
              0.8888888888888888,
              "#fdca26"
             ],
             [
              1,
              "#f0f921"
             ]
            ],
            "type": "heatmap"
           }
          ],
          "heatmapgl": [
           {
            "colorbar": {
             "outlinewidth": 0,
             "ticks": ""
            },
            "colorscale": [
             [
              0,
              "#0d0887"
             ],
             [
              0.1111111111111111,
              "#46039f"
             ],
             [
              0.2222222222222222,
              "#7201a8"
             ],
             [
              0.3333333333333333,
              "#9c179e"
             ],
             [
              0.4444444444444444,
              "#bd3786"
             ],
             [
              0.5555555555555556,
              "#d8576b"
             ],
             [
              0.6666666666666666,
              "#ed7953"
             ],
             [
              0.7777777777777778,
              "#fb9f3a"
             ],
             [
              0.8888888888888888,
              "#fdca26"
             ],
             [
              1,
              "#f0f921"
             ]
            ],
            "type": "heatmapgl"
           }
          ],
          "histogram": [
           {
            "marker": {
             "pattern": {
              "fillmode": "overlay",
              "size": 10,
              "solidity": 0.2
             }
            },
            "type": "histogram"
           }
          ],
          "histogram2d": [
           {
            "colorbar": {
             "outlinewidth": 0,
             "ticks": ""
            },
            "colorscale": [
             [
              0,
              "#0d0887"
             ],
             [
              0.1111111111111111,
              "#46039f"
             ],
             [
              0.2222222222222222,
              "#7201a8"
             ],
             [
              0.3333333333333333,
              "#9c179e"
             ],
             [
              0.4444444444444444,
              "#bd3786"
             ],
             [
              0.5555555555555556,
              "#d8576b"
             ],
             [
              0.6666666666666666,
              "#ed7953"
             ],
             [
              0.7777777777777778,
              "#fb9f3a"
             ],
             [
              0.8888888888888888,
              "#fdca26"
             ],
             [
              1,
              "#f0f921"
             ]
            ],
            "type": "histogram2d"
           }
          ],
          "histogram2dcontour": [
           {
            "colorbar": {
             "outlinewidth": 0,
             "ticks": ""
            },
            "colorscale": [
             [
              0,
              "#0d0887"
             ],
             [
              0.1111111111111111,
              "#46039f"
             ],
             [
              0.2222222222222222,
              "#7201a8"
             ],
             [
              0.3333333333333333,
              "#9c179e"
             ],
             [
              0.4444444444444444,
              "#bd3786"
             ],
             [
              0.5555555555555556,
              "#d8576b"
             ],
             [
              0.6666666666666666,
              "#ed7953"
             ],
             [
              0.7777777777777778,
              "#fb9f3a"
             ],
             [
              0.8888888888888888,
              "#fdca26"
             ],
             [
              1,
              "#f0f921"
             ]
            ],
            "type": "histogram2dcontour"
           }
          ],
          "mesh3d": [
           {
            "colorbar": {
             "outlinewidth": 0,
             "ticks": ""
            },
            "type": "mesh3d"
           }
          ],
          "parcoords": [
           {
            "line": {
             "colorbar": {
              "outlinewidth": 0,
              "ticks": ""
             }
            },
            "type": "parcoords"
           }
          ],
          "pie": [
           {
            "automargin": true,
            "type": "pie"
           }
          ],
          "scatter": [
           {
            "fillpattern": {
             "fillmode": "overlay",
             "size": 10,
             "solidity": 0.2
            },
            "type": "scatter"
           }
          ],
          "scatter3d": [
           {
            "line": {
             "colorbar": {
              "outlinewidth": 0,
              "ticks": ""
             }
            },
            "marker": {
             "colorbar": {
              "outlinewidth": 0,
              "ticks": ""
             }
            },
            "type": "scatter3d"
           }
          ],
          "scattercarpet": [
           {
            "marker": {
             "colorbar": {
              "outlinewidth": 0,
              "ticks": ""
             }
            },
            "type": "scattercarpet"
           }
          ],
          "scattergeo": [
           {
            "marker": {
             "colorbar": {
              "outlinewidth": 0,
              "ticks": ""
             }
            },
            "type": "scattergeo"
           }
          ],
          "scattergl": [
           {
            "marker": {
             "colorbar": {
              "outlinewidth": 0,
              "ticks": ""
             }
            },
            "type": "scattergl"
           }
          ],
          "scattermapbox": [
           {
            "marker": {
             "colorbar": {
              "outlinewidth": 0,
              "ticks": ""
             }
            },
            "type": "scattermapbox"
           }
          ],
          "scatterpolar": [
           {
            "marker": {
             "colorbar": {
              "outlinewidth": 0,
              "ticks": ""
             }
            },
            "type": "scatterpolar"
           }
          ],
          "scatterpolargl": [
           {
            "marker": {
             "colorbar": {
              "outlinewidth": 0,
              "ticks": ""
             }
            },
            "type": "scatterpolargl"
           }
          ],
          "scatterternary": [
           {
            "marker": {
             "colorbar": {
              "outlinewidth": 0,
              "ticks": ""
             }
            },
            "type": "scatterternary"
           }
          ],
          "surface": [
           {
            "colorbar": {
             "outlinewidth": 0,
             "ticks": ""
            },
            "colorscale": [
             [
              0,
              "#0d0887"
             ],
             [
              0.1111111111111111,
              "#46039f"
             ],
             [
              0.2222222222222222,
              "#7201a8"
             ],
             [
              0.3333333333333333,
              "#9c179e"
             ],
             [
              0.4444444444444444,
              "#bd3786"
             ],
             [
              0.5555555555555556,
              "#d8576b"
             ],
             [
              0.6666666666666666,
              "#ed7953"
             ],
             [
              0.7777777777777778,
              "#fb9f3a"
             ],
             [
              0.8888888888888888,
              "#fdca26"
             ],
             [
              1,
              "#f0f921"
             ]
            ],
            "type": "surface"
           }
          ],
          "table": [
           {
            "cells": {
             "fill": {
              "color": "#EBF0F8"
             },
             "line": {
              "color": "white"
             }
            },
            "header": {
             "fill": {
              "color": "#C8D4E3"
             },
             "line": {
              "color": "white"
             }
            },
            "type": "table"
           }
          ]
         },
         "layout": {
          "annotationdefaults": {
           "arrowcolor": "#2a3f5f",
           "arrowhead": 0,
           "arrowwidth": 1
          },
          "autotypenumbers": "strict",
          "coloraxis": {
           "colorbar": {
            "outlinewidth": 0,
            "ticks": ""
           }
          },
          "colorscale": {
           "diverging": [
            [
             0,
             "#8e0152"
            ],
            [
             0.1,
             "#c51b7d"
            ],
            [
             0.2,
             "#de77ae"
            ],
            [
             0.3,
             "#f1b6da"
            ],
            [
             0.4,
             "#fde0ef"
            ],
            [
             0.5,
             "#f7f7f7"
            ],
            [
             0.6,
             "#e6f5d0"
            ],
            [
             0.7,
             "#b8e186"
            ],
            [
             0.8,
             "#7fbc41"
            ],
            [
             0.9,
             "#4d9221"
            ],
            [
             1,
             "#276419"
            ]
           ],
           "sequential": [
            [
             0,
             "#0d0887"
            ],
            [
             0.1111111111111111,
             "#46039f"
            ],
            [
             0.2222222222222222,
             "#7201a8"
            ],
            [
             0.3333333333333333,
             "#9c179e"
            ],
            [
             0.4444444444444444,
             "#bd3786"
            ],
            [
             0.5555555555555556,
             "#d8576b"
            ],
            [
             0.6666666666666666,
             "#ed7953"
            ],
            [
             0.7777777777777778,
             "#fb9f3a"
            ],
            [
             0.8888888888888888,
             "#fdca26"
            ],
            [
             1,
             "#f0f921"
            ]
           ],
           "sequentialminus": [
            [
             0,
             "#0d0887"
            ],
            [
             0.1111111111111111,
             "#46039f"
            ],
            [
             0.2222222222222222,
             "#7201a8"
            ],
            [
             0.3333333333333333,
             "#9c179e"
            ],
            [
             0.4444444444444444,
             "#bd3786"
            ],
            [
             0.5555555555555556,
             "#d8576b"
            ],
            [
             0.6666666666666666,
             "#ed7953"
            ],
            [
             0.7777777777777778,
             "#fb9f3a"
            ],
            [
             0.8888888888888888,
             "#fdca26"
            ],
            [
             1,
             "#f0f921"
            ]
           ]
          },
          "colorway": [
           "#636efa",
           "#EF553B",
           "#00cc96",
           "#ab63fa",
           "#FFA15A",
           "#19d3f3",
           "#FF6692",
           "#B6E880",
           "#FF97FF",
           "#FECB52"
          ],
          "font": {
           "color": "#2a3f5f"
          },
          "geo": {
           "bgcolor": "white",
           "lakecolor": "white",
           "landcolor": "#E5ECF6",
           "showlakes": true,
           "showland": true,
           "subunitcolor": "white"
          },
          "hoverlabel": {
           "align": "left"
          },
          "hovermode": "closest",
          "mapbox": {
           "style": "light"
          },
          "paper_bgcolor": "white",
          "plot_bgcolor": "#E5ECF6",
          "polar": {
           "angularaxis": {
            "gridcolor": "white",
            "linecolor": "white",
            "ticks": ""
           },
           "bgcolor": "#E5ECF6",
           "radialaxis": {
            "gridcolor": "white",
            "linecolor": "white",
            "ticks": ""
           }
          },
          "scene": {
           "xaxis": {
            "backgroundcolor": "#E5ECF6",
            "gridcolor": "white",
            "gridwidth": 2,
            "linecolor": "white",
            "showbackground": true,
            "ticks": "",
            "zerolinecolor": "white"
           },
           "yaxis": {
            "backgroundcolor": "#E5ECF6",
            "gridcolor": "white",
            "gridwidth": 2,
            "linecolor": "white",
            "showbackground": true,
            "ticks": "",
            "zerolinecolor": "white"
           },
           "zaxis": {
            "backgroundcolor": "#E5ECF6",
            "gridcolor": "white",
            "gridwidth": 2,
            "linecolor": "white",
            "showbackground": true,
            "ticks": "",
            "zerolinecolor": "white"
           }
          },
          "shapedefaults": {
           "line": {
            "color": "#2a3f5f"
           }
          },
          "ternary": {
           "aaxis": {
            "gridcolor": "white",
            "linecolor": "white",
            "ticks": ""
           },
           "baxis": {
            "gridcolor": "white",
            "linecolor": "white",
            "ticks": ""
           },
           "bgcolor": "#E5ECF6",
           "caxis": {
            "gridcolor": "white",
            "linecolor": "white",
            "ticks": ""
           }
          },
          "title": {
           "x": 0.05
          },
          "xaxis": {
           "automargin": true,
           "gridcolor": "white",
           "linecolor": "white",
           "ticks": "",
           "title": {
            "standoff": 15
           },
           "zerolinecolor": "white",
           "zerolinewidth": 2
          },
          "yaxis": {
           "automargin": true,
           "gridcolor": "white",
           "linecolor": "white",
           "ticks": "",
           "title": {
            "standoff": 15
           },
           "zerolinecolor": "white",
           "zerolinewidth": 2
          }
         }
        },
        "title": {
         "text": "<b>Temperature in °C at the sensor overt time</b>"
        },
        "xaxis": {
         "gridcolor": "LightGray",
         "linecolor": "grey",
         "linewidth": 2,
         "showline": true,
         "title": {
          "text": "Time"
         }
        },
        "yaxis": {
         "gridcolor": "LightGray",
         "linecolor": "grey",
         "linewidth": 2,
         "showline": true,
         "title": {
          "text": "Temperature in °C"
         }
        }
       }
      }
     },
     "metadata": {},
     "output_type": "display_data"
    }
   ],
   "source": [
    "fig_1 = go.Figure()\n",
    "\n",
    "fig_1.add_trace(\n",
    "    go.Scatter(\n",
    "        x= df_hour[df_hour[\"date\"] == \"2022-10-10\"][\"date_time\"],\n",
    "        y= df_hour[df_hour[\"date\"] == \"2022-10-10\"][\"tmp\"],\n",
    "        name= \"temp_hour\",\n",
    "        mode= \"lines+markers\"\n",
    "    )\n",
    ")\n",
    "fig_1.update_layout(plot_bgcolor= \"white\", title= \"<b>Temperature in °C at the sensor overt time</b>\", xaxis_title= \"Time\", yaxis_title= \"Temperature in °C\")\n",
    "fig_1.update_xaxes(showline= True, linecolor= \"grey\", linewidth= 2, gridcolor= \"LightGray\")\n",
    "fig_1.update_yaxes(showline= True, linecolor= \"grey\", linewidth= 2, gridcolor= \"LightGray\")\n",
    "fig_1.show()"
   ]
  },
  {
   "cell_type": "code",
   "execution_count": 58,
   "metadata": {},
   "outputs": [
    {
     "data": {
      "application/vnd.plotly.v1+json": {
       "config": {
        "plotlyServerURL": "https://plot.ly"
       },
       "data": [
        {
         "mode": "lines+markers",
         "name": "temp_hour",
         "type": "scatter",
         "x": [
          "2023-09-26T00:00:00",
          "2023-09-26T01:00:00",
          "2023-09-26T02:00:00",
          "2023-09-26T03:00:00",
          "2023-09-26T04:00:00",
          "2023-09-26T05:00:00",
          "2023-09-26T06:00:00",
          "2023-09-26T07:00:00",
          "2023-09-26T08:00:00",
          "2023-09-26T09:00:00",
          "2023-09-26T10:00:00",
          "2023-09-26T11:00:00",
          "2023-09-26T12:00:00",
          "2023-09-26T13:00:00",
          "2023-09-26T14:00:00",
          "2023-09-26T15:00:00",
          "2023-09-26T16:00:00",
          "2023-09-26T17:00:00",
          "2023-09-26T18:00:00",
          "2023-09-26T19:00:00",
          "2023-09-26T20:00:00",
          "2023-09-26T21:00:00",
          "2023-09-26T22:00:00",
          "2023-09-26T23:00:00"
         ],
         "y": [
          26.5425,
          26.5025,
          26.4725,
          26.427500000000002,
          26.406666666666666,
          26.3575,
          26.5,
          26.4675,
          26.3825,
          26.365000000000002,
          26.4675,
          26.833999999999996,
          27.4725,
          28.125,
          28.451428571428572,
          28.1375,
          27.875,
          27.7475,
          27.6625,
          27.58,
          27.5125,
          27.4625,
          27.3925,
          27.345
         ]
        },
        {
         "mode": "lines+markers",
         "name": "temp_hour",
         "type": "scatter",
         "x": [
          "2023-09-26T00:00:00",
          "2023-09-26T01:00:00",
          "2023-09-26T02:00:00",
          "2023-09-26T03:00:00",
          "2023-09-26T04:00:00",
          "2023-09-26T05:00:00",
          "2023-09-26T06:00:00",
          "2023-09-26T07:00:00",
          "2023-09-26T08:00:00",
          "2023-09-26T09:00:00",
          "2023-09-26T10:00:00",
          "2023-09-26T11:00:00",
          "2023-09-26T12:00:00",
          "2023-09-26T13:00:00",
          "2023-09-26T14:00:00",
          "2023-09-26T15:00:00",
          "2023-09-26T16:00:00",
          "2023-09-26T17:00:00",
          "2023-09-26T18:00:00",
          "2023-09-26T19:00:00",
          "2023-09-26T20:00:00",
          "2023-09-26T21:00:00",
          "2023-09-26T22:00:00",
          "2023-09-26T23:00:00"
         ],
         "y": [
          26.5425,
          26.5025,
          26.4725,
          26.427500000000002,
          26.406666666666666,
          26.3575,
          26.5,
          26.4675,
          26.3825,
          26.365000000000002,
          26.4675,
          26.833999999999996,
          27.4725,
          28.125,
          28.451428571428572,
          28.1375,
          27.875,
          27.7475,
          27.6625,
          27.58,
          27.5125,
          27.4625,
          27.3925,
          27.345
         ]
        },
        {
         "mode": "lines+markers",
         "name": "temp_hour",
         "type": "scatter",
         "x": [
          "2023-09-26T00:00:00",
          "2023-09-26T01:00:00",
          "2023-09-26T02:00:00",
          "2023-09-26T03:00:00",
          "2023-09-26T04:00:00",
          "2023-09-26T05:00:00",
          "2023-09-26T06:00:00",
          "2023-09-26T07:00:00",
          "2023-09-26T08:00:00",
          "2023-09-26T09:00:00",
          "2023-09-26T10:00:00",
          "2023-09-26T11:00:00",
          "2023-09-26T12:00:00",
          "2023-09-26T13:00:00",
          "2023-09-26T14:00:00",
          "2023-09-26T15:00:00",
          "2023-09-26T16:00:00",
          "2023-09-26T17:00:00",
          "2023-09-26T18:00:00",
          "2023-09-26T19:00:00",
          "2023-09-26T20:00:00",
          "2023-09-26T21:00:00",
          "2023-09-26T22:00:00",
          "2023-09-26T23:00:00"
         ],
         "y": [
          26.5425,
          26.5025,
          26.4725,
          26.427500000000002,
          26.406666666666666,
          26.3575,
          26.5,
          26.4675,
          26.3825,
          26.365000000000002,
          26.4675,
          26.833999999999996,
          27.4725,
          28.125,
          28.451428571428572,
          28.1375,
          27.875,
          27.7475,
          27.6625,
          27.58,
          27.5125,
          27.4625,
          27.3925,
          27.345
         ]
        }
       ],
       "layout": {
        "plot_bgcolor": "white",
        "template": {
         "data": {
          "bar": [
           {
            "error_x": {
             "color": "#2a3f5f"
            },
            "error_y": {
             "color": "#2a3f5f"
            },
            "marker": {
             "line": {
              "color": "#E5ECF6",
              "width": 0.5
             },
             "pattern": {
              "fillmode": "overlay",
              "size": 10,
              "solidity": 0.2
             }
            },
            "type": "bar"
           }
          ],
          "barpolar": [
           {
            "marker": {
             "line": {
              "color": "#E5ECF6",
              "width": 0.5
             },
             "pattern": {
              "fillmode": "overlay",
              "size": 10,
              "solidity": 0.2
             }
            },
            "type": "barpolar"
           }
          ],
          "carpet": [
           {
            "aaxis": {
             "endlinecolor": "#2a3f5f",
             "gridcolor": "white",
             "linecolor": "white",
             "minorgridcolor": "white",
             "startlinecolor": "#2a3f5f"
            },
            "baxis": {
             "endlinecolor": "#2a3f5f",
             "gridcolor": "white",
             "linecolor": "white",
             "minorgridcolor": "white",
             "startlinecolor": "#2a3f5f"
            },
            "type": "carpet"
           }
          ],
          "choropleth": [
           {
            "colorbar": {
             "outlinewidth": 0,
             "ticks": ""
            },
            "type": "choropleth"
           }
          ],
          "contour": [
           {
            "colorbar": {
             "outlinewidth": 0,
             "ticks": ""
            },
            "colorscale": [
             [
              0,
              "#0d0887"
             ],
             [
              0.1111111111111111,
              "#46039f"
             ],
             [
              0.2222222222222222,
              "#7201a8"
             ],
             [
              0.3333333333333333,
              "#9c179e"
             ],
             [
              0.4444444444444444,
              "#bd3786"
             ],
             [
              0.5555555555555556,
              "#d8576b"
             ],
             [
              0.6666666666666666,
              "#ed7953"
             ],
             [
              0.7777777777777778,
              "#fb9f3a"
             ],
             [
              0.8888888888888888,
              "#fdca26"
             ],
             [
              1,
              "#f0f921"
             ]
            ],
            "type": "contour"
           }
          ],
          "contourcarpet": [
           {
            "colorbar": {
             "outlinewidth": 0,
             "ticks": ""
            },
            "type": "contourcarpet"
           }
          ],
          "heatmap": [
           {
            "colorbar": {
             "outlinewidth": 0,
             "ticks": ""
            },
            "colorscale": [
             [
              0,
              "#0d0887"
             ],
             [
              0.1111111111111111,
              "#46039f"
             ],
             [
              0.2222222222222222,
              "#7201a8"
             ],
             [
              0.3333333333333333,
              "#9c179e"
             ],
             [
              0.4444444444444444,
              "#bd3786"
             ],
             [
              0.5555555555555556,
              "#d8576b"
             ],
             [
              0.6666666666666666,
              "#ed7953"
             ],
             [
              0.7777777777777778,
              "#fb9f3a"
             ],
             [
              0.8888888888888888,
              "#fdca26"
             ],
             [
              1,
              "#f0f921"
             ]
            ],
            "type": "heatmap"
           }
          ],
          "heatmapgl": [
           {
            "colorbar": {
             "outlinewidth": 0,
             "ticks": ""
            },
            "colorscale": [
             [
              0,
              "#0d0887"
             ],
             [
              0.1111111111111111,
              "#46039f"
             ],
             [
              0.2222222222222222,
              "#7201a8"
             ],
             [
              0.3333333333333333,
              "#9c179e"
             ],
             [
              0.4444444444444444,
              "#bd3786"
             ],
             [
              0.5555555555555556,
              "#d8576b"
             ],
             [
              0.6666666666666666,
              "#ed7953"
             ],
             [
              0.7777777777777778,
              "#fb9f3a"
             ],
             [
              0.8888888888888888,
              "#fdca26"
             ],
             [
              1,
              "#f0f921"
             ]
            ],
            "type": "heatmapgl"
           }
          ],
          "histogram": [
           {
            "marker": {
             "pattern": {
              "fillmode": "overlay",
              "size": 10,
              "solidity": 0.2
             }
            },
            "type": "histogram"
           }
          ],
          "histogram2d": [
           {
            "colorbar": {
             "outlinewidth": 0,
             "ticks": ""
            },
            "colorscale": [
             [
              0,
              "#0d0887"
             ],
             [
              0.1111111111111111,
              "#46039f"
             ],
             [
              0.2222222222222222,
              "#7201a8"
             ],
             [
              0.3333333333333333,
              "#9c179e"
             ],
             [
              0.4444444444444444,
              "#bd3786"
             ],
             [
              0.5555555555555556,
              "#d8576b"
             ],
             [
              0.6666666666666666,
              "#ed7953"
             ],
             [
              0.7777777777777778,
              "#fb9f3a"
             ],
             [
              0.8888888888888888,
              "#fdca26"
             ],
             [
              1,
              "#f0f921"
             ]
            ],
            "type": "histogram2d"
           }
          ],
          "histogram2dcontour": [
           {
            "colorbar": {
             "outlinewidth": 0,
             "ticks": ""
            },
            "colorscale": [
             [
              0,
              "#0d0887"
             ],
             [
              0.1111111111111111,
              "#46039f"
             ],
             [
              0.2222222222222222,
              "#7201a8"
             ],
             [
              0.3333333333333333,
              "#9c179e"
             ],
             [
              0.4444444444444444,
              "#bd3786"
             ],
             [
              0.5555555555555556,
              "#d8576b"
             ],
             [
              0.6666666666666666,
              "#ed7953"
             ],
             [
              0.7777777777777778,
              "#fb9f3a"
             ],
             [
              0.8888888888888888,
              "#fdca26"
             ],
             [
              1,
              "#f0f921"
             ]
            ],
            "type": "histogram2dcontour"
           }
          ],
          "mesh3d": [
           {
            "colorbar": {
             "outlinewidth": 0,
             "ticks": ""
            },
            "type": "mesh3d"
           }
          ],
          "parcoords": [
           {
            "line": {
             "colorbar": {
              "outlinewidth": 0,
              "ticks": ""
             }
            },
            "type": "parcoords"
           }
          ],
          "pie": [
           {
            "automargin": true,
            "type": "pie"
           }
          ],
          "scatter": [
           {
            "fillpattern": {
             "fillmode": "overlay",
             "size": 10,
             "solidity": 0.2
            },
            "type": "scatter"
           }
          ],
          "scatter3d": [
           {
            "line": {
             "colorbar": {
              "outlinewidth": 0,
              "ticks": ""
             }
            },
            "marker": {
             "colorbar": {
              "outlinewidth": 0,
              "ticks": ""
             }
            },
            "type": "scatter3d"
           }
          ],
          "scattercarpet": [
           {
            "marker": {
             "colorbar": {
              "outlinewidth": 0,
              "ticks": ""
             }
            },
            "type": "scattercarpet"
           }
          ],
          "scattergeo": [
           {
            "marker": {
             "colorbar": {
              "outlinewidth": 0,
              "ticks": ""
             }
            },
            "type": "scattergeo"
           }
          ],
          "scattergl": [
           {
            "marker": {
             "colorbar": {
              "outlinewidth": 0,
              "ticks": ""
             }
            },
            "type": "scattergl"
           }
          ],
          "scattermapbox": [
           {
            "marker": {
             "colorbar": {
              "outlinewidth": 0,
              "ticks": ""
             }
            },
            "type": "scattermapbox"
           }
          ],
          "scatterpolar": [
           {
            "marker": {
             "colorbar": {
              "outlinewidth": 0,
              "ticks": ""
             }
            },
            "type": "scatterpolar"
           }
          ],
          "scatterpolargl": [
           {
            "marker": {
             "colorbar": {
              "outlinewidth": 0,
              "ticks": ""
             }
            },
            "type": "scatterpolargl"
           }
          ],
          "scatterternary": [
           {
            "marker": {
             "colorbar": {
              "outlinewidth": 0,
              "ticks": ""
             }
            },
            "type": "scatterternary"
           }
          ],
          "surface": [
           {
            "colorbar": {
             "outlinewidth": 0,
             "ticks": ""
            },
            "colorscale": [
             [
              0,
              "#0d0887"
             ],
             [
              0.1111111111111111,
              "#46039f"
             ],
             [
              0.2222222222222222,
              "#7201a8"
             ],
             [
              0.3333333333333333,
              "#9c179e"
             ],
             [
              0.4444444444444444,
              "#bd3786"
             ],
             [
              0.5555555555555556,
              "#d8576b"
             ],
             [
              0.6666666666666666,
              "#ed7953"
             ],
             [
              0.7777777777777778,
              "#fb9f3a"
             ],
             [
              0.8888888888888888,
              "#fdca26"
             ],
             [
              1,
              "#f0f921"
             ]
            ],
            "type": "surface"
           }
          ],
          "table": [
           {
            "cells": {
             "fill": {
              "color": "#EBF0F8"
             },
             "line": {
              "color": "white"
             }
            },
            "header": {
             "fill": {
              "color": "#C8D4E3"
             },
             "line": {
              "color": "white"
             }
            },
            "type": "table"
           }
          ]
         },
         "layout": {
          "annotationdefaults": {
           "arrowcolor": "#2a3f5f",
           "arrowhead": 0,
           "arrowwidth": 1
          },
          "autotypenumbers": "strict",
          "coloraxis": {
           "colorbar": {
            "outlinewidth": 0,
            "ticks": ""
           }
          },
          "colorscale": {
           "diverging": [
            [
             0,
             "#8e0152"
            ],
            [
             0.1,
             "#c51b7d"
            ],
            [
             0.2,
             "#de77ae"
            ],
            [
             0.3,
             "#f1b6da"
            ],
            [
             0.4,
             "#fde0ef"
            ],
            [
             0.5,
             "#f7f7f7"
            ],
            [
             0.6,
             "#e6f5d0"
            ],
            [
             0.7,
             "#b8e186"
            ],
            [
             0.8,
             "#7fbc41"
            ],
            [
             0.9,
             "#4d9221"
            ],
            [
             1,
             "#276419"
            ]
           ],
           "sequential": [
            [
             0,
             "#0d0887"
            ],
            [
             0.1111111111111111,
             "#46039f"
            ],
            [
             0.2222222222222222,
             "#7201a8"
            ],
            [
             0.3333333333333333,
             "#9c179e"
            ],
            [
             0.4444444444444444,
             "#bd3786"
            ],
            [
             0.5555555555555556,
             "#d8576b"
            ],
            [
             0.6666666666666666,
             "#ed7953"
            ],
            [
             0.7777777777777778,
             "#fb9f3a"
            ],
            [
             0.8888888888888888,
             "#fdca26"
            ],
            [
             1,
             "#f0f921"
            ]
           ],
           "sequentialminus": [
            [
             0,
             "#0d0887"
            ],
            [
             0.1111111111111111,
             "#46039f"
            ],
            [
             0.2222222222222222,
             "#7201a8"
            ],
            [
             0.3333333333333333,
             "#9c179e"
            ],
            [
             0.4444444444444444,
             "#bd3786"
            ],
            [
             0.5555555555555556,
             "#d8576b"
            ],
            [
             0.6666666666666666,
             "#ed7953"
            ],
            [
             0.7777777777777778,
             "#fb9f3a"
            ],
            [
             0.8888888888888888,
             "#fdca26"
            ],
            [
             1,
             "#f0f921"
            ]
           ]
          },
          "colorway": [
           "#636efa",
           "#EF553B",
           "#00cc96",
           "#ab63fa",
           "#FFA15A",
           "#19d3f3",
           "#FF6692",
           "#B6E880",
           "#FF97FF",
           "#FECB52"
          ],
          "font": {
           "color": "#2a3f5f"
          },
          "geo": {
           "bgcolor": "white",
           "lakecolor": "white",
           "landcolor": "#E5ECF6",
           "showlakes": true,
           "showland": true,
           "subunitcolor": "white"
          },
          "hoverlabel": {
           "align": "left"
          },
          "hovermode": "closest",
          "mapbox": {
           "style": "light"
          },
          "paper_bgcolor": "white",
          "plot_bgcolor": "#E5ECF6",
          "polar": {
           "angularaxis": {
            "gridcolor": "white",
            "linecolor": "white",
            "ticks": ""
           },
           "bgcolor": "#E5ECF6",
           "radialaxis": {
            "gridcolor": "white",
            "linecolor": "white",
            "ticks": ""
           }
          },
          "scene": {
           "xaxis": {
            "backgroundcolor": "#E5ECF6",
            "gridcolor": "white",
            "gridwidth": 2,
            "linecolor": "white",
            "showbackground": true,
            "ticks": "",
            "zerolinecolor": "white"
           },
           "yaxis": {
            "backgroundcolor": "#E5ECF6",
            "gridcolor": "white",
            "gridwidth": 2,
            "linecolor": "white",
            "showbackground": true,
            "ticks": "",
            "zerolinecolor": "white"
           },
           "zaxis": {
            "backgroundcolor": "#E5ECF6",
            "gridcolor": "white",
            "gridwidth": 2,
            "linecolor": "white",
            "showbackground": true,
            "ticks": "",
            "zerolinecolor": "white"
           }
          },
          "shapedefaults": {
           "line": {
            "color": "#2a3f5f"
           }
          },
          "ternary": {
           "aaxis": {
            "gridcolor": "white",
            "linecolor": "white",
            "ticks": ""
           },
           "baxis": {
            "gridcolor": "white",
            "linecolor": "white",
            "ticks": ""
           },
           "bgcolor": "#E5ECF6",
           "caxis": {
            "gridcolor": "white",
            "linecolor": "white",
            "ticks": ""
           }
          },
          "title": {
           "x": 0.05
          },
          "xaxis": {
           "automargin": true,
           "gridcolor": "white",
           "linecolor": "white",
           "ticks": "",
           "title": {
            "standoff": 15
           },
           "zerolinecolor": "white",
           "zerolinewidth": 2
          },
          "yaxis": {
           "automargin": true,
           "gridcolor": "white",
           "linecolor": "white",
           "ticks": "",
           "title": {
            "standoff": 15
           },
           "zerolinecolor": "white",
           "zerolinewidth": 2
          }
         }
        },
        "title": {
         "text": "<b>Temperature in °C at the sensor overt time</b>"
        },
        "xaxis": {
         "gridcolor": "LightGray",
         "linecolor": "grey",
         "linewidth": 2,
         "showline": true,
         "title": {
          "text": "Time"
         }
        },
        "yaxis": {
         "gridcolor": "LightGray",
         "linecolor": "grey",
         "linewidth": 2,
         "showline": true,
         "title": {
          "text": "Temperature in °C"
         }
        }
       }
      }
     },
     "metadata": {},
     "output_type": "display_data"
    }
   ],
   "source": [
    "fig_temp = go.Figure()\n",
    "\n",
    "fig_1.add_trace(\n",
    "    go.Scatter(\n",
    "        x= df_hour[\"date_time\"].tail(24),\n",
    "        y= df_hour[\"tmp\"].tail(24),\n",
    "        name= \"temp_hour\",\n",
    "        mode= \"lines+markers\"\n",
    "    )\n",
    ")"
   ]
  }
 ],
 "metadata": {
  "kernelspec": {
   "display_name": "Python 3",
   "language": "python",
   "name": "python3"
  },
  "language_info": {
   "codemirror_mode": {
    "name": "ipython",
    "version": 3
   },
   "file_extension": ".py",
   "mimetype": "text/x-python",
   "name": "python",
   "nbconvert_exporter": "python",
   "pygments_lexer": "ipython3",
   "version": "3.12.2"
  }
 },
 "nbformat": 4,
 "nbformat_minor": 2
}
