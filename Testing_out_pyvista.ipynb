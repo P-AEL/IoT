{
 "cells": [
  {
   "cell_type": "code",
   "execution_count": 4,
   "metadata": {},
   "outputs": [],
   "source": [
    "import pandas as pd\n",
    "import numpy as np\n",
    "import pyvista as pv\n",
    "import vtk\n",
    "import trame\n",
    "pv.set_jupyter_backend('trame')"
   ]
  },
  {
   "cell_type": "code",
   "execution_count": null,
   "metadata": {},
   "outputs": [],
   "source": [
    "df = pd.read_csv('output.csv')\n",
    "df"
   ]
  },
  {
   "cell_type": "code",
   "execution_count": 48,
   "metadata": {},
   "outputs": [
    {
     "data": {
      "text/plain": [
       "array([[0., 0., 0.],\n",
       "       [0., 0., 0.],\n",
       "       [0., 0., 0.],\n",
       "       [0., 0., 0.],\n",
       "       [0., 0., 0.]])"
      ]
     },
     "execution_count": 48,
     "metadata": {},
     "output_type": "execute_result"
    }
   ],
   "source": [
    "import numpy as np\n",
    "\n",
    "import pyvista as pv\n",
    "# Define some helpers - ignore these and use your own data.\n",
    "def generate_points(length=10,width=5,height=5,num_cand=100,etagen=3):\n",
    "    x = np.linspace(0, length, num=num_cand)\n",
    "    y = np.linspace(0, width, num=num_cand)\n",
    "    z = np.linspace(0, height, num=num_cand)\n",
    "    etagenlist = np.linspace(0, etagen, num=etagen+1)\n",
    "    points = []\n",
    "    for i in x:\n",
    "        for j in etagenlist:\n",
    "            points.append([etagen*i, 0, 0])\n",
    "            points.append([etagen*i, 0, (height*(j-1))+height])\n",
    "            points.append([etagen*i, (width*(j-1))+width, 0])\n",
    "            points.append([etagen*i, (width*(j-1))+width, (height*(j-1))+height])\n",
    "\n",
    "    for i in y:\n",
    "        for j in etagenlist:\n",
    "            points.append([0, j*i, 0])\n",
    "            points.append([0, j*i, j*height])\n",
    "            points.append([0, j*i, height])\n",
    "            points.append([j*length, j*i, 0])\n",
    "            points.append([j*length, j*i, j*height])\n",
    "        \n",
    "    for i in z:\n",
    "        for j in etagenlist:\n",
    "            points.append([0, 0, j*i])\n",
    "            points.append([0, j*width, j*i])\n",
    "            points.append([0, width, j*i])\n",
    "            points.append([j*length, 0, j*i])\n",
    "            points.append([j*length, j*width, j*i])\n",
    "        \n",
    "    points = np.array(points)\n",
    "\n",
    "    return points\n",
    "\n",
    "points = generate_points()\n",
    "# Print first 5 rows to prove its a numpy array (n_points by 3)\n",
    "# Columns are (X Y Z)\n",
    "points[0:5, :]\n"
   ]
  },
  {
   "cell_type": "code",
   "execution_count": 22,
   "metadata": {},
   "outputs": [],
   "source": [
    "length = 10\n",
    "width = 5\n",
    "height = 5\n",
    "num_cand = 100\n",
    "etagen = 3\n",
    "x = np.linspace(0, length, num=num_cand)\n",
    "y = np.linspace(0, width, num=num_cand)\n",
    "z = np.linspace(0, height, num=num_cand)\n",
    "etagen = np.linspace(0, etagen, num=etagen+1)\n",
    "points = []\n",
    "for i in x:\n",
    "    for j in etagen:\n",
    "        points.append([i, 0, 0])\n",
    "        points.append([i, 0, j*height])\n",
    "        points.append([i, j*width, 0])\n",
    "        points.append([i, j*width, j*height])"
   ]
  },
  {
   "cell_type": "code",
   "execution_count": 23,
   "metadata": {},
   "outputs": [
    {
     "data": {
      "text/plain": [
       "array([0., 1., 2., 3.])"
      ]
     },
     "execution_count": 23,
     "metadata": {},
     "output_type": "execute_result"
    }
   ],
   "source": [
    "etagen"
   ]
  },
  {
   "cell_type": "code",
   "execution_count": 3,
   "metadata": {},
   "outputs": [
    {
     "data": {
      "text/plain": [
       "array([[ 0.,  0.,  0.],\n",
       "       [ 0.,  0., 10.],\n",
       "       [ 0., 10.,  0.],\n",
       "       ...,\n",
       "       [ 0., 10., 10.],\n",
       "       [10.,  0., 10.],\n",
       "       [10., 10., 10.]])"
      ]
     },
     "execution_count": 3,
     "metadata": {},
     "output_type": "execute_result"
    }
   ],
   "source": [
    "points"
   ]
  },
  {
   "cell_type": "code",
   "execution_count": 43,
   "metadata": {},
   "outputs": [
    {
     "data": {
      "text/plain": [
       "5600"
      ]
     },
     "execution_count": 43,
     "metadata": {},
     "output_type": "execute_result"
    }
   ],
   "source": [
    "points.__len__()"
   ]
  },
  {
   "cell_type": "code",
   "execution_count": 49,
   "metadata": {},
   "outputs": [
    {
     "data": {
      "text/html": [
       "\n",
       "<table style='width: 100%;'>\n",
       "<tr><th>PolyData</th><th>Information</th></tr>\n",
       "<tr><td>N Cells</td><td>5600</td></tr>\n",
       "<tr><td>N Points</td><td>5600</td></tr>\n",
       "<tr><td>N Strips</td><td>0</td></tr>\n",
       "<tr><td>X Bounds</td><td>0.000e+00, 3.000e+01</td></tr>\n",
       "<tr><td>Y Bounds</td><td>0.000e+00, 1.500e+01</td></tr>\n",
       "<tr><td>Z Bounds</td><td>0.000e+00, 1.500e+01</td></tr>\n",
       "<tr><td>N Arrays</td><td>0</td></tr>\n",
       "</table>\n",
       "\n"
      ],
      "text/plain": [
       "PolyData (0x1ecb19c3100)\n",
       "  N Cells:    5600\n",
       "  N Points:   5600\n",
       "  N Strips:   0\n",
       "  X Bounds:   0.000e+00, 3.000e+01\n",
       "  Y Bounds:   0.000e+00, 1.500e+01\n",
       "  Z Bounds:   0.000e+00, 1.500e+01\n",
       "  N Arrays:   0"
      ]
     },
     "execution_count": 49,
     "metadata": {},
     "output_type": "execute_result"
    }
   ],
   "source": [
    "point_cloud = pv.PolyData(points)\n",
    "point_cloud"
   ]
  },
  {
   "cell_type": "code",
   "execution_count": 50,
   "metadata": {},
   "outputs": [],
   "source": [
    "import pyvista as pv\n",
    "from pyvista import set_jupyter_backend\n",
    "\n",
    "# Now create the plotter\n",
    "plotter = pv.Plotter(notebook=True)"
   ]
  },
  {
   "cell_type": "code",
   "execution_count": 51,
   "metadata": {},
   "outputs": [
    {
     "data": {
      "application/vnd.jupyter.widget-view+json": {
       "model_id": "21a5983408f840cd8c0445ced57a8823",
       "version_major": 2,
       "version_minor": 0
      },
      "text/plain": [
       "Widget(value='<iframe src=\"http://localhost:57434/index.html?ui=P_0x1eca810cf70_10&reconnect=auto\" class=\"pyvi…"
      ]
     },
     "metadata": {},
     "output_type": "display_data"
    }
   ],
   "source": [
    "plotter.add_mesh(point_cloud, color='maroon', point_size=10.0, render_points_as_spheres=True)\n",
    "\n",
    "plotter.show_grid()\n",
    "plotter.show()"
   ]
  },
  {
   "cell_type": "code",
   "execution_count": null,
   "metadata": {},
   "outputs": [],
   "source": [
    "point_cloud.plot(eye_dome_lighting=True)"
   ]
  },
  {
   "cell_type": "code",
   "execution_count": 6,
   "metadata": {},
   "outputs": [],
   "source": [
    "# Make data array using z-component of points array\n",
    "data = points[:, -1]\n",
    "\n",
    "# Add that data to the mesh with the name \"uniform dist\"\n",
    "point_cloud[\"elevation\"] = data"
   ]
  },
  {
   "cell_type": "code",
   "execution_count": 8,
   "metadata": {},
   "outputs": [
    {
     "name": "stderr",
     "output_type": "stream",
     "text": [
      "C:\\Users\\paulh\\AppData\\Local\\Packages\\PythonSoftwareFoundation.Python.3.10_qbz5n2kfra8p0\\LocalCache\\local-packages\\Python310\\site-packages\\pyvista\\jupyter\\notebook.py:34: UserWarning: Failed to use notebook backend: \n",
      "\n",
      "cannot import name 'vtk' from 'trame.widgets' (C:\\Users\\paulh\\AppData\\Local\\Packages\\PythonSoftwareFoundation.Python.3.10_qbz5n2kfra8p0\\LocalCache\\local-packages\\Python310\\site-packages\\trame\\widgets\\__init__.py)\n",
      "\n",
      "Falling back to a static output.\n",
      "  warnings.warn(\n"
     ]
    },
    {
     "data": {
      "image/png": "[encoded data removed]",
      "text/plain": [
       "<PIL.Image.Image image mode=RGB size=1024x768>"
      ]
     },
     "metadata": {},
     "output_type": "display_data"
    }
   ],
   "source": [
    "point_cloud.plot(render_points_as_spheres=True)"
   ]
  }
 ],
 "metadata": {
  "kernelspec": {
   "display_name": "Iot",
   "language": "python",
   "name": "python3"
  },
  "language_info": {
   "codemirror_mode": {
    "name": "ipython",
    "version": 3
   },
   "file_extension": ".py",
   "mimetype": "text/x-python",
   "name": "python",
   "nbconvert_exporter": "python",
   "pygments_lexer": "ipython3",
   "version": "3.10.14"
  }
 },
 "nbformat": 4,
 "nbformat_minor": 2
}
