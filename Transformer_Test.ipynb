{
 "cells": [
  {
   "cell_type": "code",
   "execution_count": null,
   "metadata": {},
   "outputs": [],
   "source": [
    "# # df = pd.read_csv('aggregated_hourly.csv')\n",
    "# # #for every distinct device_id create a new column target with the value of WIFI shiftied by 1\n",
    "# # df['target'] = 0\n",
    "# # for i in df['device_id'].unique():\n",
    "# #     df.loc[df['device_id'] == i, 'target'] = df.loc[df['device_id'] == i, 'WIFI'].shift(-1)\n",
    "# # df.sort_values(by=['date_time'], inplace=True)\n",
    "# # #drop\n",
    "# # df = df.dropna()   \n",
    "# # #onehot encode device_id into int\n",
    "# # df = pd.get_dummies(df, columns=['device_id'], prefix = 'device_id')\n",
    "# # #delete date_time column and device_id column\n",
    "# # df = df.drop(columns=['date_time'])\n",
    "# # df\n",
    "# X = df.drop(columns=['target']).astype('float32')\n",
    "# y = df['target'].astype('float32')\n",
    "# X = torch.tensor(X.values).float()\n",
    "# y = torch.tensor(y.values).float()\n",
    "# print(X.shape)  \n",
    "# print(y.shape)\n",
    "# X_new = []\n",
    "# window_size = 500\n",
    "# #for i in range(0, len(X), window_size):\n",
    "# for i in range(0, len(X)):\n",
    "#     if i < window_size:\n",
    "#         number_of_padding = window_size - i\n",
    "#         padding = torch.zeros(number_of_padding, X.shape[1])\n",
    "#         X_new.append(torch.cat((padding, X[:i])))\n",
    "#     else:\n",
    "#         X_new.append(X[i-window_size:i])\n",
    "# X_new = torch.stack(X_new)\n",
    "# X_new = X_new[1:]\n",
    "# X_new.shape"
   ]
  },
  {
   "cell_type": "code",
   "execution_count": 1,
   "metadata": {},
   "outputs": [],
   "source": [
    "import pandas as pd\n",
    "import numpy as np\n",
    "import matplotlib.pyplot as plt\n",
    "import torch \n",
    "import main.dataprep as dp"
   ]
  },
  {
   "cell_type": "code",
   "execution_count": 89,
   "metadata": {},
   "outputs": [],
   "source": [
    "df = pd.read_csv('aggregated_hourly.csv')\n",
    "a0 = [\"hka-aqm-a017\", \"hka-aqm-a014\"]\n",
    "a1 = [\"hka-aqm-a101\", \"hka-aqm-a102\", \"hka-aqm-a103\", \"hka-aqm-a106\", \"hka-aqm-a107\", \"hka-aqm-a108\", \"hka-aqm-a111\", \"hka-aqm-a112\"]\n",
    "df_cutoff = dp.cutoff_data(df, \"2023-01-13\", \"2023-03-28\")\n",
    "df_cutoff = df.copy\n",
    "df_cutoff = dp.cutoff_data(df, \"2023-01-13\", \"2023-03-28\")\n",
    "df_mean = dp.build_lvl_df(df_cutoff, a1, [\"tmp\", \"hum\", \"CO2\", \"VOC\"], reset_ind= True)"
   ]
  },
  {
   "cell_type": "code",
   "execution_count": 90,
   "metadata": {},
   "outputs": [
    {
     "data": {
      "text/plain": [
       "(torch.Size([1685, 200, 4]),\n",
       " torch.Size([88, 200, 4]),\n",
       " torch.Size([1685]),\n",
       " torch.Size([88]))"
      ]
     },
     "execution_count": 90,
     "metadata": {},
     "output_type": "execute_result"
    }
   ],
   "source": [
    "X = df_mean.to_numpy()\n",
    "y = df_mean[\"tmp\"].shift(-1).to_numpy()\n",
    "X_train, X_test, y_train, y_test = dp.train_test_split(X, y,train_size=0.95)\n",
    "X_train_new, X_test_new = dp.format_tensor(X_train,window_size=200), dp.format_tensor(X_test,window_size=200)\n",
    "y_train = y_train[:-1]#.unsqueeze(1)\n",
    "y_test = y_test[:-1]#.unsqueeze(1)\n",
    "X_train_new.shape, X_test_new.shape, y_train.shape, y_test.shape"
   ]
  },
  {
   "cell_type": "code",
   "execution_count": 91,
   "metadata": {},
   "outputs": [],
   "source": [
    "from torch.utils.data import DataLoader, TensorDataset\n",
    "\n",
    "batch_size = 64\n",
    "\n",
    "train_data = TensorDataset(X_train_new, y_train)\n",
    "test_data = TensorDataset(X_test_new, y_test)\n",
    "\n",
    "train_loader = DataLoader(train_data, shuffle=True, batch_size=batch_size)\n",
    "test_loader = DataLoader(test_data, shuffle=True, batch_size=batch_size)"
   ]
  },
  {
   "cell_type": "code",
   "execution_count": 19,
   "metadata": {},
   "outputs": [],
   "source": [
    "class PositionalEncoding(torch.nn.Module):\n",
    "    \"\"\"\n",
    "    compute sinusoid encoding.\n",
    "    \"\"\"\n",
    "    def __init__(self, d_model, max_len,device):\n",
    "        \"\"\"\n",
    "        constructor of sinusoid encoding class\n",
    "\n",
    "        :param d_model: dimension of model\n",
    "        :param max_len: max sequence length\n",
    "        :param device: hardware device setting\n",
    "        \"\"\"\n",
    "        super(PositionalEncoding, self).__init__()\n",
    "\n",
    "        # same size with input matrix (for adding with input matrix)\n",
    "        self.encoding = torch.zeros(max_len, d_model, device=device)\n",
    "        self.encoding.requires_grad = False  # we don't need to compute gradient\n",
    "        pos = torch.arange(0, max_len,device=device)\n",
    "        pos = pos.float().unsqueeze(dim=1)\n",
    "        # # 1D => 2D unsqueeze to represent word's position\n",
    "\n",
    "        _2i = torch.arange(0, d_model, step=2, device=device).float()\n",
    "        # 'i' means index of d_model (e.g. embedding size = 50, 'i' = [0,50])\n",
    "        # \"step=2\" means 'i' multiplied with two (same with 2 * i)\n",
    "\n",
    "        self.encoding[:, 0::2] = torch.sin(pos / (10000 ** (_2i / d_model)))\n",
    "        self.encoding[:, 1::2] = torch.cos(pos / (10000 ** (_2i / d_model)))\n",
    "        # compute positional encoding to consider positional information of words\n",
    "\n",
    "    def forward(self, x):\n",
    "        # self.encoding\n",
    "        # [max_len = 512, d_model = 512]\n",
    "\n",
    "        #batch_size, seq_len = x.size()\n",
    "        # [batch_size = 128, seq_len = 30]\n",
    "\n",
    "        return self.encoding\n",
    "        #return self.encoding[:seq_len, :]\n",
    "        # [seq_len = 30, d_model = 512]\n",
    "        # it will add with tok_emb : [128, 30, 512]         "
   ]
  },
  {
   "cell_type": "code",
   "execution_count": 6,
   "metadata": {},
   "outputs": [],
   "source": [
    "class ScaledDotProduct(torch.nn.Module):\n",
    "    \"\"\"\n",
    "    scaled dot product attention class\n",
    "    \"\"\"\n",
    "    def __init__(self):\n",
    "        \"\"\"\n",
    "        constructor of scaled dot product attention class\n",
    "        \"\"\"\n",
    "        super(ScaledDotProduct, self).__init__()\n",
    "        \n",
    "    def forward(self, Q, K, V, mask=None):\n",
    "        \"\"\"\n",
    "        forward pass of scaled dot product attention\n",
    "        :param Q: query tensor\n",
    "        :param K: key tensor\n",
    "        :param V: value tensor\n",
    "        :param mask: mask tensor\n",
    "        :return: output tensor\n",
    "        \"\"\"\n",
    "        d_k = K.size(-1)\n",
    "        # get dimension of key\n",
    "        scores = (Q @ K.transpose(-2, -1)) / np.sqrt(d_k)\n",
    "        # compute attention score\n",
    "        # if mask is not None:\n",
    "        #     scores = scores.masked_fill(mask == 0, -1e9)\n",
    "        #     # apply mask to score\n",
    "        attention = torch.nn.functional.softmax(scores, dim=-1)\n",
    "        # apply softmax to score\n",
    "        output = attention @ V\n",
    "        # compute output tensor\n",
    "        return output, attention"
   ]
  },
  {
   "cell_type": "code",
   "execution_count": 7,
   "metadata": {},
   "outputs": [],
   "source": [
    "class MultiHeadAttention(torch.nn.Module):\n",
    "    \"\"\"\n",
    "    multihead attention class\n",
    "    \"\"\"\n",
    "    def __init__(self, d_model, num_heads):\n",
    "        \"\"\"\n",
    "        constructor of multihead attention class\n",
    "\n",
    "        :param d_model: dimension of model\n",
    "        :param num_heads: number of head in multihead attention\n",
    "        \"\"\"\n",
    "        super(MultiHeadAttention, self).__init__()\n",
    "\n",
    "        self.d_model = d_model\n",
    "        self.num_heads = num_heads\n",
    "\n",
    "        self.d_k = d_model // num_heads\n",
    "        # get dimension of key\n",
    "\n",
    "        self.W_Q = torch.nn.Linear(d_model, d_model)\n",
    "        self.W_K = torch.nn.Linear(d_model, d_model)\n",
    "        self.W_V = torch.nn.Linear(d_model, d_model)\n",
    "        # linear transformation for query, key, value\n",
    "\n",
    "        self.scaled_dot_product = ScaledDotProduct()\n",
    "        # scaled dot product attention\n",
    "\n",
    "        self.linear = torch.nn.Linear(d_model, d_model)\n",
    "        # linear transformation for output\n",
    "\n",
    "    def forward(self, Q, K, V, mask=None):\n",
    "        \"\"\"\n",
    "        forward pass of multihead attention\n",
    "\n",
    "        :param Q: query tensor\n",
    "        :param K: key tensor\n",
    "        :param V: value tensor\n",
    "        :param mask: mask tensor\n",
    "        :return: output tensor\n",
    "        \"\"\"\n",
    "        batch_size = Q.size(0)\n",
    "        # get batch size\n",
    "\n",
    "        Q = self.W_Q(Q).view(batch_size, -1, self.num_heads, self.d_k).transpose(1, 2)\n",
    "        K = self.W_K(K).view(batch_size, -1, self.num_heads, self.d_k).transpose(1, 2)\n",
    "        V = self.W_V(V).view(batch_size, -1, self.num_heads, self.d_k).transpose(1, 2)\n",
    "        # linear transformation and split into multihead\n",
    "\n",
    "        if mask is not None:\n",
    "            mask = mask.unsqueeze(1)\n",
    "            # unsqueeze mask\n",
    "\n",
    "        output, attention = self.scaled_dot_product(Q, K, V, mask)\n",
    "        # scaled dot product attention\n",
    "\n",
    "        output = output.transpose(1, 2).contiguous().view(batch_size, -1, self.d_model)\n",
    "        # concatenate multihead attention\n",
    "\n",
    "        return self.linear(output), attention"
   ]
  },
  {
   "cell_type": "code",
   "execution_count": 92,
   "metadata": {},
   "outputs": [],
   "source": [
    "class Decoder(torch.nn.Module):\n",
    "    \"\"\"\n",
    "    decoder layer class\n",
    "    \"\"\"\n",
    "    def __init__(self, input,d_model,max_len,num_heads,d_ff,device):\n",
    "        \"\"\"\n",
    "        constructor of decoder layer\n",
    "\n",
    "        :param d_model: dimension of model\n",
    "        :param num_heads: number of head in multihead attention\n",
    "        :param d_ff: dimension of feed forward layer\n",
    "        :param dropout: dropout rate\n",
    "        \"\"\"\n",
    "        super(Decoder, self).__init__()\n",
    "\n",
    "        self.embed = torch.nn.Linear(input, d_model).to(device)\n",
    "        self.positonal_encoding = PositionalEncoding(d_model, max_len=max_len,device=device).to(device)\n",
    "        self.norm = torch.nn.LayerNorm(d_model).to(device)\n",
    "        self.attn = MultiHeadAttention(d_model, num_heads).to(device)\n",
    "        self.norm_2 = torch.nn.LayerNorm(d_model).to(device)\n",
    "        self.linear1 = torch.nn.Linear(d_model, d_model).to(device)\n",
    "        self.Relu = torch.nn.SELU().to(device)\n",
    "        self.attn2 = MultiHeadAttention(d_model, num_heads).to(device)\n",
    "        self.norm_3 = torch.nn.LayerNorm(d_model).to(device)\n",
    "        self.linear2 = torch.nn.Linear(d_model, d_model).to(device)\n",
    "        self.attn3 = MultiHeadAttention(d_model, num_heads).to(device)\n",
    "        self.ff = torch.nn.Sequential(\n",
    "            torch.nn.LayerNorm(d_model),\n",
    "            torch.nn.Linear(d_model, d_ff),\n",
    "            torch.nn.SELU(),\n",
    "            torch.nn.Linear(d_ff, 1)\n",
    "        ).to(device)\n",
    "\n",
    "    def forward(self, x):\n",
    "        \"\"\"\n",
    "        forward pass of decoder layer\n",
    "\n",
    "        :param x: input tensor (query)\n",
    "        :param memory: input tensor (key, value)\n",
    "        :param src_mask: source mask\n",
    "        :param tgt_mask: target mask\n",
    "        :return: output tensor\n",
    "        \"\"\"\n",
    "        x = self.embed(x)\n",
    "        x = x + self.positonal_encoding(x)\n",
    "        x_norm = self.norm(x)\n",
    "        x_att, _ = self.attn(x_norm, x_norm, x_norm)\n",
    "        x = x + x_att\n",
    "        x = self.norm_2(x)\n",
    "        x_att2, _ = self.attn2(x, x, x)\n",
    "        x_att2 = self.linear1(x_att2)\n",
    "        x_att2 = self.Relu(x_att2)\n",
    "        x = x + x_att2\n",
    "        x = self.norm_3(x)\n",
    "        x_att3, _ = self.attn3(x, x, x)\n",
    "        x_att3 = self.linear2(x_att3)\n",
    "        x_att3 = self.Relu(x_att3)\n",
    "        x = x + x_att3\n",
    "        x = self.ff(x) #shape am ende noch (500,1), soll des so ?\n",
    "        return x[:, -1].squeeze()"
   ]
  },
  {
   "cell_type": "code",
   "execution_count": 9,
   "metadata": {},
   "outputs": [],
   "source": [
    "# device = torch.device('cuda' if torch.cuda.is_available() else 'cpu')\n",
    "# Decoder1 = Decoder(data[0][0].shape[1], 32,max_len=data[0][0].shape[0],num_heads=4,d_ff=128,device=device)\n",
    "# d = Decoder1.forward(x)"
   ]
  },
  {
   "cell_type": "code",
   "execution_count": 93,
   "metadata": {},
   "outputs": [],
   "source": [
    "# Train Decoder\n",
    "from torch.optim import Adam\n",
    "from torch.nn import MSELoss\n",
    "\n",
    "# Check if GPU is available\n",
    "device = torch.device(\"cuda\" if torch.cuda.is_available() else \"cpu\")\n",
    "# Create a Decoder\n",
    "Decoder1 = Decoder(train_data[0][0].shape[1], 128,max_len=train_data[0][0].shape[0],num_heads=4,d_ff=120,device=device)\n",
    "\n",
    "# Create a Loss Function\n",
    "criterion = MSELoss()\n",
    "\n",
    "# Create an Optimizer\n",
    "optimizer = Adam(Decoder1.parameters(), lr=0.001)"
   ]
  },
  {
   "cell_type": "code",
   "execution_count": 116,
   "metadata": {},
   "outputs": [
    {
     "name": "stdout",
     "output_type": "stream",
     "text": [
      "Epoch: 001, Loss: 0.8593, Learning Rate: 0.000500\n",
      "Epoch: 002, Loss: 0.2773, Learning Rate: 0.000425\n",
      "Epoch: 003, Loss: 0.1564, Learning Rate: 0.000425\n",
      "Epoch: 004, Loss: 0.4254, Learning Rate: 0.000361\n",
      "Epoch: 005, Loss: 0.2012, Learning Rate: 0.000361\n",
      "Epoch: 006, Loss: 0.1517, Learning Rate: 0.000307\n",
      "Epoch: 007, Loss: 0.2815, Learning Rate: 0.000307\n",
      "Epoch: 008, Loss: 0.2916, Learning Rate: 0.000261\n",
      "Epoch: 009, Loss: 0.2196, Learning Rate: 0.000261\n",
      "Epoch: 010, Loss: 0.1405, Learning Rate: 0.000222\n",
      "Epoch: 011, Loss: 0.1452, Learning Rate: 0.000222\n",
      "Epoch: 012, Loss: 0.2400, Learning Rate: 0.000189\n",
      "Epoch: 013, Loss: 0.3949, Learning Rate: 0.000189\n",
      "Epoch: 014, Loss: 0.3799, Learning Rate: 0.000160\n",
      "Epoch: 015, Loss: 0.1994, Learning Rate: 0.000160\n",
      "Epoch: 016, Loss: 0.2385, Learning Rate: 0.000136\n",
      "Epoch: 017, Loss: 0.2339, Learning Rate: 0.000136\n",
      "Epoch: 018, Loss: 0.1759, Learning Rate: 0.000116\n",
      "Epoch: 019, Loss: 0.3078, Learning Rate: 0.000116\n",
      "Epoch: 020, Loss: 0.2164, Learning Rate: 0.000098\n",
      "Epoch: 021, Loss: 0.1373, Learning Rate: 0.000098\n",
      "Epoch: 022, Loss: 0.2304, Learning Rate: 0.000084\n",
      "Epoch: 023, Loss: 0.1494, Learning Rate: 0.000084\n",
      "Epoch: 024, Loss: 0.1586, Learning Rate: 0.000071\n",
      "Epoch: 025, Loss: 0.3169, Learning Rate: 0.000071\n",
      "Epoch: 026, Loss: 0.1588, Learning Rate: 0.000060\n",
      "Epoch: 027, Loss: 0.1582, Learning Rate: 0.000060\n",
      "Epoch: 028, Loss: 0.2700, Learning Rate: 0.000051\n",
      "Epoch: 029, Loss: 0.2320, Learning Rate: 0.000051\n",
      "Epoch: 030, Loss: 0.1147, Learning Rate: 0.000044\n",
      "Epoch: 031, Loss: 0.1363, Learning Rate: 0.000044\n",
      "Epoch: 032, Loss: 0.2304, Learning Rate: 0.000037\n",
      "Epoch: 033, Loss: 0.1197, Learning Rate: 0.000037\n",
      "Epoch: 034, Loss: 0.1120, Learning Rate: 0.000032\n",
      "Epoch: 035, Loss: 0.1080, Learning Rate: 0.000032\n",
      "Epoch: 036, Loss: 0.2439, Learning Rate: 0.000027\n",
      "Epoch: 037, Loss: 0.1454, Learning Rate: 0.000027\n",
      "Epoch: 038, Loss: 0.2117, Learning Rate: 0.000023\n",
      "Epoch: 039, Loss: 0.1289, Learning Rate: 0.000023\n",
      "Epoch: 040, Loss: 0.2035, Learning Rate: 0.000019\n",
      "Epoch: 041, Loss: 0.1512, Learning Rate: 0.000019\n",
      "Epoch: 042, Loss: 0.1641, Learning Rate: 0.000016\n",
      "Epoch: 043, Loss: 0.3177, Learning Rate: 0.000016\n",
      "Epoch: 044, Loss: 0.3025, Learning Rate: 0.000014\n",
      "Epoch: 045, Loss: 0.1860, Learning Rate: 0.000014\n",
      "Epoch: 046, Loss: 0.2910, Learning Rate: 0.000012\n",
      "Epoch: 047, Loss: 0.1359, Learning Rate: 0.000012\n",
      "Epoch: 048, Loss: 0.1603, Learning Rate: 0.000010\n",
      "Epoch: 049, Loss: 0.2239, Learning Rate: 0.000010\n",
      "Epoch: 050, Loss: 0.1594, Learning Rate: 0.000009\n"
     ]
    }
   ],
   "source": [
    "# Train the Decoder\n",
    "import torch\n",
    "import time\n",
    "\n",
    "# Move model to GPU\n",
    "Decoder1 = Decoder1.to(device)\n",
    "\n",
    "# Define the number of epochs\n",
    "num_epochs = 50\n",
    "\n",
    "# Define the loss function and optimizer\n",
    "criterion = torch.nn.MSELoss()\n",
    "optimizer = torch.optim.Adam(Decoder1.parameters(), lr=0.0005\n",
    ")\n",
    "\n",
    "# Define the learning rate scheduler\n",
    "scheduler = torch.optim.lr_scheduler.StepLR(optimizer, step_size=2, gamma=0.85)\n",
    "\n",
    "Decoder1.train()\n",
    "for epoch in range(num_epochs):\n",
    "    for x, y in train_loader:\n",
    "        # Move tensors to GPU\n",
    "        x = x.to(device)\n",
    "        y = y.to(device)\n",
    "\n",
    "        # Forward pass\n",
    "        output = Decoder1(x)\n",
    "        loss = criterion(output, y)\n",
    "\n",
    "        # Backward pass and optimization\n",
    "        loss.backward()\n",
    "        optimizer.step()\n",
    "        optimizer.zero_grad()\n",
    "\n",
    "    # Decay the learning rate\n",
    "    scheduler.step()\n",
    "\n",
    "    print(f'Epoch: {epoch + 1:03d}, Loss: {loss.item():.4f}, Learning Rate: {scheduler.get_last_lr()[0]:.6f}')"
   ]
  },
  {
   "cell_type": "code",
   "execution_count": 119,
   "metadata": {},
   "outputs": [
    {
     "data": {
      "image/png": "[encoded data removed]",
      "text/plain": [
       "<Figure size 1200x600 with 1 Axes>"
      ]
     },
     "metadata": {},
     "output_type": "display_data"
    }
   ],
   "source": [
    "Decoder1.eval()\n",
    "y_pred = []\n",
    "with torch.no_grad():\n",
    "    for x, y in test_loader:\n",
    "        x = x.to(device)\n",
    "        output = Decoder1(x)\n",
    "        y_pred.append(output)\n",
    "\n",
    "y_pred = torch.cat(y_pred, dim=0).cpu().numpy()\n",
    "y_true = y_test.numpy()\n",
    "\n",
    "plt.figure(figsize=(12, 6))\n",
    "plt.plot(y_true, label='True')\n",
    "plt.plot(y_pred, label='Predicted')\n",
    "plt.legend()\n",
    "plt.show()"
   ]
  },
  {
   "cell_type": "code",
   "execution_count": 120,
   "metadata": {},
   "outputs": [
    {
     "name": "stdout",
     "output_type": "stream",
     "text": [
      "Correlation: -0.012823753812436292\n"
     ]
    }
   ],
   "source": [
    "import numpy as np\n",
    "\n",
    "# Assuming y_test and y_pred are numpy arrays\n",
    "correlation = np.corrcoef(y_test, y_pred)[0, 1]\n",
    "print(\"Correlation:\", correlation)"
   ]
  },
  {
   "cell_type": "code",
   "execution_count": 121,
   "metadata": {},
   "outputs": [],
   "source": [
    "torch.save(Decoder1.state_dict(), 'DecoderSELU_Lookback200.pth')"
   ]
  },
  {
   "cell_type": "code",
   "execution_count": 28,
   "metadata": {},
   "outputs": [
    {
     "data": {
      "text/plain": [
       "torch.Size([32, 500, 58])"
      ]
     },
     "execution_count": 28,
     "metadata": {},
     "output_type": "execute_result"
    }
   ],
   "source": [
    "x.shape"
   ]
  },
  {
   "cell_type": "code",
   "execution_count": 188,
   "metadata": {},
   "outputs": [
    {
     "data": {
      "text/plain": [
       "<torch.utils.data.dataloader.DataLoader at 0x24c002eb4f0>"
      ]
     },
     "execution_count": 188,
     "metadata": {},
     "output_type": "execute_result"
    }
   ],
   "source": [
    "data_loader"
   ]
  },
  {
   "cell_type": "code",
   "execution_count": 65,
   "metadata": {},
   "outputs": [],
   "source": []
  },
  {
   "cell_type": "code",
   "execution_count": 67,
   "metadata": {},
   "outputs": [],
   "source": [
    "d_model = 512\n",
    "num_heads = 8\n",
    "multihead_attention = MultiHeadAttention(d_model, num_heads)\n",
    "\n",
    "\n",
    "batch_size = 64\n",
    "seq_len = 10\n",
    "Q = torch.rand(batch_size, seq_len, d_model)\n",
    "K = torch.rand(batch_size, seq_len, d_model)\n",
    "V = torch.rand(batch_size, seq_len, d_model)\n",
    "output, attention = multihead_attention(Q, K, V)"
   ]
  },
  {
   "cell_type": "code",
   "execution_count": 69,
   "metadata": {},
   "outputs": [
    {
     "data": {
      "text/plain": [
       "torch.Size([64, 10, 512])"
      ]
     },
     "execution_count": 69,
     "metadata": {},
     "output_type": "execute_result"
    }
   ],
   "source": [
    "output.shape"
   ]
  },
  {
   "cell_type": "code",
   "execution_count": 55,
   "metadata": {},
   "outputs": [],
   "source": [
    "\n",
    "scaled_dot_product = ScaledDotProduct()\n",
    "Q = torch.randn(10, 20, 30)\n",
    "K = torch.randn(10, 20, 30)\n",
    "V = torch.randn(10, 20, 40)\n",
    "\n",
    "\n",
    "output, attention = scaled_dot_product(Q, K, V)"
   ]
  },
  {
   "cell_type": "code",
   "execution_count": 63,
   "metadata": {},
   "outputs": [
    {
     "data": {
      "text/plain": [
       "(torch.Size([20, 40]), torch.Size([20, 20]))"
      ]
     },
     "execution_count": 63,
     "metadata": {},
     "output_type": "execute_result"
    }
   ],
   "source": [
    "output[0].shape, attention[0].shape"
   ]
  },
  {
   "cell_type": "code",
   "execution_count": 64,
   "metadata": {},
   "outputs": [
    {
     "data": {
      "text/plain": [
       "tensor([0.0163, 0.0329, 0.0278, 0.1355, 0.0135, 0.0550, 0.0034, 0.0812, 0.0678,\n",
       "        0.0717, 0.0605, 0.0011, 0.0840, 0.1410, 0.0687, 0.0337, 0.0112, 0.0352,\n",
       "        0.0548, 0.0048])"
      ]
     },
     "execution_count": 64,
     "metadata": {},
     "output_type": "execute_result"
    }
   ],
   "source": [
    "attention[0][0]"
   ]
  },
  {
   "cell_type": "code",
   "execution_count": 46,
   "metadata": {},
   "outputs": [],
   "source": [
    "Decoder = Decoder(data[0][0].shape[1], 25)"
   ]
  },
  {
   "cell_type": "code",
   "execution_count": 51,
   "metadata": {},
   "outputs": [
    {
     "data": {
      "text/plain": [
       "tensor([[  0.0000,   0.0000,   0.0000,  ...,   0.0000,   0.0000,   0.0000],\n",
       "        [  0.0000,   0.0000,   0.0000,  ...,   0.0000,   0.0000,   0.0000],\n",
       "        [  0.0000,   0.0000,   0.0000,  ...,   0.0000,   0.0000,   0.0000],\n",
       "        ...,\n",
       "        [  0.0000,   0.0000,   0.0000,  ...,   0.0000,   0.0000,   0.0000],\n",
       "        [  0.0000,   0.0000,   0.0000,  ...,   0.0000,   0.0000,   0.0000],\n",
       "        [ 25.0800,  44.9700, -16.8000,  ...,   0.0000,   0.0000,   0.0000]])"
      ]
     },
     "execution_count": 51,
     "metadata": {},
     "output_type": "execute_result"
    }
   ],
   "source": [
    "data[0][0]"
   ]
  },
  {
   "cell_type": "code",
   "execution_count": 52,
   "metadata": {},
   "outputs": [
    {
     "data": {
      "text/plain": [
       "torch.Size([500, 25])"
      ]
     },
     "execution_count": 52,
     "metadata": {},
     "output_type": "execute_result"
    }
   ],
   "source": [
    "Decoder.forward(data[0][0]).shape"
   ]
  },
  {
   "cell_type": "code",
   "execution_count": 56,
   "metadata": {},
   "outputs": [],
   "source": [
    "class TransformerModel(torch.nn.Module):\n",
    "    \"\"\"\n",
    "    Transformer model class\n",
    "    \"\"\"\n",
    "    def __init__(self, input_size, d_model, nhead, num_encoder_layers, dim_feedforward, max_len, device, src_pad_idx):\n",
    "        \"\"\"\n",
    "        constructor of TransformerModel class\n",
    "\n",
    "        :param input_size: input size\n",
    "        :param d_model: dimension of model\n",
    "        :param nhead: number of head\n",
    "        :param num_encoder_layers: number of encoder layer\n",
    "        :param dim_feedforward: dimension of feedforward\n",
    "        :param max_len: max sequence length\n",
    "        :param device: hardware device setting\n",
    "        :param src_pad_idx: the index of the source padding token\n",
    "        \"\"\"\n",
    "        super(TransformerModel, self).__init__()\n",
    "\n",
    "        self.src_pad_idx = src_pad_idx\n",
    "        self.embedding = torch.nn.Linear(input_size, d_model)\n",
    "        self.pos_encoder = PositionalEncoding(d_model, max_len, device)\n",
    "\n",
    "        encoder_layer = torch.nn.TransformerEncoderLayer(d_model, nhead, dim_feedforward)\n",
    "        encoder_norm = torch.nn.LayerNorm(d_model)\n",
    "        self.transformer_encoder = torch.nn.TransformerEncoder(encoder_layer, num_encoder_layers, encoder_norm)\n",
    "\n",
    "        self.fc = torch.nn.Linear(d_model, 1)\n",
    "\n",
    "    def make_src_mask(self, src):\n",
    "        src_mask = (src != self.src_pad_idx).unsqueeze(1).unsqueeze(2)\n",
    "        return src_mask\n",
    "\n",
    "    def forward(self, src):\n",
    "        \"\"\"\n",
    "        forward method\n",
    "\n",
    "        :param src: source input\n",
    "        :return: output\n",
    "        \"\"\"\n",
    "        src_mask = self.make_src_mask(src)\n",
    "        src = self.embedding(src)\n",
    "        src = src + self.pos_encoder(src)\n",
    "\n",
    "        output = self.transformer_encoder(src, src_key_padding_mask=src_mask.squeeze())\n",
    "        output = self.fc(output)\n",
    "\n",
    "        return output"
   ]
  },
  {
   "cell_type": "code",
   "execution_count": 53,
   "metadata": {},
   "outputs": [
    {
     "data": {
      "text/plain": [
       "tensor([[[ 0.0000e+00,  1.0000e+00,  0.0000e+00,  ...,  1.0000e+00,\n",
       "           0.0000e+00,  1.0000e+00],\n",
       "         [ 8.4147e-01,  5.4030e-01,  8.2186e-01,  ...,  1.0000e+00,\n",
       "           1.0366e-04,  1.0000e+00],\n",
       "         [ 9.0930e-01, -4.1615e-01,  9.3641e-01,  ...,  1.0000e+00,\n",
       "           2.0733e-04,  1.0000e+00],\n",
       "         ...,\n",
       "         [-8.9797e-01, -4.4006e-01,  4.2620e-01,  ...,  9.9427e-01,\n",
       "           1.0317e-01,  9.9466e-01],\n",
       "         [-8.5547e-01,  5.1785e-01,  9.8628e-01,  ...,  9.9425e-01,\n",
       "           1.0327e-01,  9.9465e-01],\n",
       "         [-2.6461e-02,  9.9965e-01,  6.9756e-01,  ...,  9.9424e-01,\n",
       "           1.0337e-01,  9.9464e-01]]])"
      ]
     },
     "execution_count": 53,
     "metadata": {},
     "output_type": "execute_result"
    }
   ],
   "source": [
    "\n",
    "d_model = 512\n",
    "max_len = 1000\n",
    "pe = PositonalEncoding(d_model, max_len)\n",
    "x = torch.zeros((1, max_len, d_model))\n",
    "output1 = pe.forward(x)\n",
    "output1"
   ]
  }
 ],
 "metadata": {
  "kernelspec": {
   "display_name": "Iot",
   "language": "python",
   "name": "python3"
  },
  "language_info": {
   "codemirror_mode": {
    "name": "ipython",
    "version": 3
   },
   "file_extension": ".py",
   "mimetype": "text/x-python",
   "name": "python",
   "nbconvert_exporter": "python",
   "pygments_lexer": "ipython3",
   "version": "3.10.14"
  }
 },
 "nbformat": 4,
 "nbformat_minor": 2
}
