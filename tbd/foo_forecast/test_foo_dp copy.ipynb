{
 "cells": [
  {
   "cell_type": "code",
   "execution_count": 2,
   "metadata": {},
   "outputs": [],
   "source": [
    "import pandas as pd, numpy as np, dataprep as dp\n",
    "import torch\n",
    "import matplotlib.pyplot as plt"
   ]
  },
  {
   "cell_type": "code",
   "execution_count": 3,
   "metadata": {},
   "outputs": [],
   "source": [
    "df = pd.read_csv(\"/Users/florian/Documents/github/study/IoT/IoT/aggregated_hourly.csv\")\n",
    "a0 = [\"hka-aqm-a017\", \"hka-aqm-a014\"]\n",
    "a1 = [\"hka-aqm-a101\", \"hka-aqm-a102\", \"hka-aqm-a103\", \"hka-aqm-a106\", \"hka-aqm-a107\", \"hka-aqm-a108\", \"hka-aqm-a111\", \"hka-aqm-a112\"]"
   ]
  },
  {
   "cell_type": "code",
   "execution_count": 3,
   "metadata": {},
   "outputs": [
    {
     "data": {
      "text/html": [
       "<div>\n",
       "<style scoped>\n",
       "    .dataframe tbody tr th:only-of-type {\n",
       "        vertical-align: middle;\n",
       "    }\n",
       "\n",
       "    .dataframe tbody tr th {\n",
       "        vertical-align: top;\n",
       "    }\n",
       "\n",
       "    .dataframe thead th {\n",
       "        text-align: right;\n",
       "    }\n",
       "</style>\n",
       "<table border=\"1\" class=\"dataframe\">\n",
       "  <thead>\n",
       "    <tr style=\"text-align: right;\">\n",
       "      <th></th>\n",
       "      <th>tmp</th>\n",
       "      <th>hum</th>\n",
       "      <th>CO2</th>\n",
       "    </tr>\n",
       "  </thead>\n",
       "  <tbody>\n",
       "    <tr>\n",
       "      <th>0</th>\n",
       "      <td>23.0950</td>\n",
       "      <td>34.000</td>\n",
       "      <td>573.0</td>\n",
       "    </tr>\n",
       "    <tr>\n",
       "      <th>1</th>\n",
       "      <td>23.1125</td>\n",
       "      <td>33.840</td>\n",
       "      <td>545.0</td>\n",
       "    </tr>\n",
       "    <tr>\n",
       "      <th>2</th>\n",
       "      <td>23.0950</td>\n",
       "      <td>33.865</td>\n",
       "      <td>532.0</td>\n",
       "    </tr>\n",
       "    <tr>\n",
       "      <th>3</th>\n",
       "      <td>23.1650</td>\n",
       "      <td>33.825</td>\n",
       "      <td>516.0</td>\n",
       "    </tr>\n",
       "    <tr>\n",
       "      <th>4</th>\n",
       "      <td>23.2725</td>\n",
       "      <td>33.780</td>\n",
       "      <td>507.0</td>\n",
       "    </tr>\n",
       "  </tbody>\n",
       "</table>\n",
       "</div>"
      ],
      "text/plain": [
       "       tmp     hum    CO2\n",
       "0  23.0950  34.000  573.0\n",
       "1  23.1125  33.840  545.0\n",
       "2  23.0950  33.865  532.0\n",
       "3  23.1650  33.825  516.0\n",
       "4  23.2725  33.780  507.0"
      ]
     },
     "execution_count": 3,
     "metadata": {},
     "output_type": "execute_result"
    }
   ],
   "source": [
    "df_cutoff = df.copy\n",
    "df_cutoff = dp.cutoff_data(df, \"2023-01-13\", \"2023-03-28\")\n",
    "df_mean = dp.build_lvl_df(df_cutoff, a1, [\"tmp\", \"hum\", \"CO2\", \"VOC\"], reset_ind= True)\n",
    "df_mean.head()"
   ]
  },
  {
   "cell_type": "code",
   "execution_count": 4,
   "metadata": {},
   "outputs": [
    {
     "data": {
      "text/plain": [
       "((1775, 3), (1775,))"
      ]
     },
     "execution_count": 4,
     "metadata": {},
     "output_type": "execute_result"
    }
   ],
   "source": [
    "X = df_mean.to_numpy()\n",
    "y = df_mean[\"tmp\"].shift(-1).to_numpy()\n",
    "X.shape, y.shape"
   ]
  },
  {
   "cell_type": "code",
   "execution_count": 5,
   "metadata": {},
   "outputs": [
    {
     "data": {
      "text/plain": [
       "(torch.Size([1748, 3]),\n",
       " torch.Size([1748]),\n",
       " torch.Size([27, 3]),\n",
       " torch.Size([27]))"
      ]
     },
     "execution_count": 5,
     "metadata": {},
     "output_type": "execute_result"
    }
   ],
   "source": [
    "X_train, X_test, y_train, y_test = dp.train_test_split(X, y)\n",
    "X_train.shape, y_train.shape, X_test.shape, y_test.shape"
   ]
  },
  {
   "cell_type": "code",
   "execution_count": 6,
   "metadata": {},
   "outputs": [
    {
     "data": {
      "text/plain": [
       "(torch.Size([1747, 48, 3]),\n",
       " torch.Size([26, 48, 3]),\n",
       " torch.Size([1747]),\n",
       " torch.Size([26]))"
      ]
     },
     "execution_count": 6,
     "metadata": {},
     "output_type": "execute_result"
    }
   ],
   "source": [
    "X_train_new, X_test_new = dp.format_tensor(X_train), dp.format_tensor(X_test)\n",
    "X_train = X_train_new\n",
    "X_test = X_test_new\n",
    "y_train = y_train[:-1]#.unsqueeze(1)\n",
    "y_test = y_test[:-1]#.unsqueeze(1)\n",
    "X_train.shape, X_test.shape, y_train.shape, y_test.shape"
   ]
  },
  {
   "cell_type": "code",
   "execution_count": 7,
   "metadata": {},
   "outputs": [],
   "source": [
    "from torch.utils.data import DataLoader, TensorDataset\n",
    "\n",
    "batch_size = 64\n",
    "\n",
    "train_data = TensorDataset(X_train, y_train)\n",
    "test_data = TensorDataset(X_test, y_test)\n",
    "\n",
    "train_loader = DataLoader(train_data, shuffle=True, batch_size=batch_size)\n",
    "test_loader = DataLoader(test_data, shuffle=False, batch_size=batch_size)"
   ]
  },
  {
   "cell_type": "code",
   "execution_count": 20,
   "metadata": {},
   "outputs": [],
   "source": [
    "from foo import RNN\n",
    "\n",
    "RNN_model = RNN(input_size=X_train.shape[2], output_size=1, hidden_size=100, num_layers=1)"
   ]
  },
  {
   "cell_type": "code",
   "execution_count": 21,
   "metadata": {},
   "outputs": [
    {
     "name": "stdout",
     "output_type": "stream",
     "text": [
      "Epoch [1/50], Step [10/28], Loss: 427.4080\n",
      "Epoch [1/50], Step [20/28], Loss: 380.2815\n",
      "Epoch [2/50], Step [10/28], Loss: 330.8149\n",
      "Epoch [2/50], Step [20/28], Loss: 290.5136\n",
      "Epoch [3/50], Step [10/28], Loss: 222.9423\n",
      "Epoch [3/50], Step [20/28], Loss: 205.5428\n",
      "Epoch [4/50], Step [10/28], Loss: 162.2303\n",
      "Epoch [4/50], Step [20/28], Loss: 150.9689\n",
      "Epoch [5/50], Step [10/28], Loss: 114.5232\n",
      "Epoch [5/50], Step [20/28], Loss: 108.3828\n",
      "Epoch [6/50], Step [10/28], Loss: 80.4980\n",
      "Epoch [6/50], Step [20/28], Loss: 71.4572\n",
      "Epoch [7/50], Step [10/28], Loss: 56.8741\n",
      "Epoch [7/50], Step [20/28], Loss: 45.2910\n",
      "Epoch [8/50], Step [10/28], Loss: 37.0541\n",
      "Epoch [8/50], Step [20/28], Loss: 29.9875\n",
      "Epoch [9/50], Step [10/28], Loss: 24.3551\n",
      "Epoch [9/50], Step [20/28], Loss: 21.2684\n",
      "Epoch [10/50], Step [10/28], Loss: 17.5211\n",
      "Epoch [10/50], Step [20/28], Loss: 13.5375\n",
      "Epoch [11/50], Step [10/28], Loss: 13.0279\n",
      "Epoch [11/50], Step [20/28], Loss: 9.5234\n",
      "Epoch [12/50], Step [10/28], Loss: 7.2736\n",
      "Epoch [12/50], Step [20/28], Loss: 6.1424\n",
      "Epoch [13/50], Step [10/28], Loss: 4.3394\n",
      "Epoch [13/50], Step [20/28], Loss: 4.3006\n",
      "Epoch [14/50], Step [10/28], Loss: 3.1880\n",
      "Epoch [14/50], Step [20/28], Loss: 4.2518\n",
      "Epoch [15/50], Step [10/28], Loss: 2.9558\n",
      "Epoch [15/50], Step [20/28], Loss: 2.6154\n",
      "Epoch [16/50], Step [10/28], Loss: 2.7934\n",
      "Epoch [16/50], Step [20/28], Loss: 2.4351\n",
      "Epoch [17/50], Step [10/28], Loss: 2.4921\n",
      "Epoch [17/50], Step [20/28], Loss: 2.0532\n",
      "Epoch [18/50], Step [10/28], Loss: 1.7414\n",
      "Epoch [18/50], Step [20/28], Loss: 2.2160\n",
      "Epoch [19/50], Step [10/28], Loss: 2.2827\n",
      "Epoch [19/50], Step [20/28], Loss: 2.1328\n",
      "Epoch [20/50], Step [10/28], Loss: 2.3467\n",
      "Epoch [20/50], Step [20/28], Loss: 2.1613\n",
      "Epoch [21/50], Step [10/28], Loss: 2.2278\n",
      "Epoch [21/50], Step [20/28], Loss: 1.8559\n",
      "Epoch [22/50], Step [10/28], Loss: 1.9373\n",
      "Epoch [22/50], Step [20/28], Loss: 1.4746\n",
      "Epoch [23/50], Step [10/28], Loss: 1.5954\n",
      "Epoch [23/50], Step [20/28], Loss: 1.4843\n",
      "Epoch [24/50], Step [10/28], Loss: 2.3382\n",
      "Epoch [24/50], Step [20/28], Loss: 1.9966\n",
      "Epoch [25/50], Step [10/28], Loss: 2.0740\n",
      "Epoch [25/50], Step [20/28], Loss: 1.9735\n",
      "Epoch [26/50], Step [10/28], Loss: 2.9466\n",
      "Epoch [26/50], Step [20/28], Loss: 2.4111\n",
      "Epoch [27/50], Step [10/28], Loss: 2.0140\n",
      "Epoch [27/50], Step [20/28], Loss: 1.9911\n",
      "Epoch [28/50], Step [10/28], Loss: 2.3213\n",
      "Epoch [28/50], Step [20/28], Loss: 1.9097\n",
      "Epoch [29/50], Step [10/28], Loss: 2.2362\n",
      "Epoch [29/50], Step [20/28], Loss: 2.2758\n",
      "Epoch [30/50], Step [10/28], Loss: 2.1141\n",
      "Epoch [30/50], Step [20/28], Loss: 2.3129\n",
      "Epoch [31/50], Step [10/28], Loss: 1.7729\n",
      "Epoch [31/50], Step [20/28], Loss: 1.6647\n",
      "Epoch [32/50], Step [10/28], Loss: 2.1520\n",
      "Epoch [32/50], Step [20/28], Loss: 2.4864\n",
      "Epoch [33/50], Step [10/28], Loss: 1.9615\n",
      "Epoch [33/50], Step [20/28], Loss: 2.0364\n",
      "Epoch [34/50], Step [10/28], Loss: 2.5173\n",
      "Epoch [34/50], Step [20/28], Loss: 2.1821\n",
      "Epoch [35/50], Step [10/28], Loss: 1.4006\n",
      "Epoch [35/50], Step [20/28], Loss: 1.9714\n",
      "Epoch [36/50], Step [10/28], Loss: 1.6833\n",
      "Epoch [36/50], Step [20/28], Loss: 1.3839\n",
      "Epoch [37/50], Step [10/28], Loss: 1.8971\n",
      "Epoch [37/50], Step [20/28], Loss: 2.0205\n",
      "Epoch [38/50], Step [10/28], Loss: 2.0252\n",
      "Epoch [38/50], Step [20/28], Loss: 1.9526\n",
      "Epoch [39/50], Step [10/28], Loss: 2.1883\n",
      "Epoch [39/50], Step [20/28], Loss: 1.6478\n",
      "Epoch [40/50], Step [10/28], Loss: 1.8185\n",
      "Epoch [40/50], Step [20/28], Loss: 2.4242\n",
      "Epoch [41/50], Step [10/28], Loss: 2.2538\n",
      "Epoch [41/50], Step [20/28], Loss: 2.0200\n",
      "Epoch [42/50], Step [10/28], Loss: 2.0713\n",
      "Epoch [42/50], Step [20/28], Loss: 1.4636\n",
      "Epoch [43/50], Step [10/28], Loss: 2.4652\n",
      "Epoch [43/50], Step [20/28], Loss: 1.9617\n",
      "Epoch [44/50], Step [10/28], Loss: 2.1633\n",
      "Epoch [44/50], Step [20/28], Loss: 1.8076\n",
      "Epoch [45/50], Step [10/28], Loss: 2.1250\n",
      "Epoch [45/50], Step [20/28], Loss: 1.8905\n",
      "Epoch [46/50], Step [10/28], Loss: 2.2823\n",
      "Epoch [46/50], Step [20/28], Loss: 1.7585\n",
      "Epoch [47/50], Step [10/28], Loss: 1.9214\n",
      "Epoch [47/50], Step [20/28], Loss: 2.0923\n",
      "Epoch [48/50], Step [10/28], Loss: 2.0236\n",
      "Epoch [48/50], Step [20/28], Loss: 1.7052\n",
      "Epoch [49/50], Step [10/28], Loss: 1.8611\n",
      "Epoch [49/50], Step [20/28], Loss: 1.7055\n",
      "Epoch [50/50], Step [10/28], Loss: 1.6889\n",
      "Epoch [50/50], Step [20/28], Loss: 2.9721\n",
      "[0.0006050060671375363]\n"
     ]
    }
   ],
   "source": [
    "from torch.optim import lr_scheduler \n",
    "\n",
    "num_epochs = 50\n",
    "learning_rate = 0.001\n",
    "criterion = torch.nn.MSELoss()\n",
    "optimizer = torch.optim.Adam(RNN_model.parameters(), lr=learning_rate)\n",
    "scheduler = lr_scheduler.ExponentialLR(optimizer, gamma= 0.99)\n",
    "\n",
    "RNN_model.train()\n",
    "#labels = []\n",
    "#outputs = []\n",
    "for epoch in range(num_epochs):\n",
    "    for i, (features, target) in enumerate(train_loader):\n",
    "        optimizer.zero_grad(set_to_none=True)\n",
    "        output = RNN_model(features)\n",
    "        target = target.unsqueeze(1)\n",
    "        loss = criterion(output, target)\n",
    "        loss.backward()\n",
    "        optimizer.step()\n",
    "        #labels.extend(target.detach().numpy()[0])\n",
    "        #outputs.extend(output.detach().numpy()[0])\n",
    "        if (i+1) % 10 == 0:\n",
    "            print('Epoch [{}/{}], Step [{}/{}], Loss: {:.4f}'.format(epoch+1, num_epochs, i+1, len(train_loader), loss.item()))\n",
    "    scheduler.step()\n",
    "print(scheduler.get_last_lr())"
   ]
  },
  {
   "cell_type": "code",
   "execution_count": 22,
   "metadata": {},
   "outputs": [
    {
     "name": "stdout",
     "output_type": "stream",
     "text": [
      "Test Loss: 1.0171\n"
     ]
    }
   ],
   "source": [
    "RNN_model.eval()  # Set the model to evaluation mode\n",
    "\n",
    "test_features, test_targets = next(iter(test_loader))  # Get a batch of test data\n",
    "test_targets = test_targets.unsqueeze(1)  # Expand target to match the output shape\n",
    "\n",
    "with torch.no_grad():  # Disable gradient computation\n",
    "    predictions = RNN_model(test_features)  # Make predictions\n",
    "\n",
    "# Calculate the mean squared error of the predictions\n",
    "test_loss = criterion(predictions, test_targets)\n",
    "print('Test Loss: {:.4f}'.format(test_loss.item()))"
   ]
  },
  {
   "cell_type": "code",
   "execution_count": 23,
   "metadata": {},
   "outputs": [
    {
     "data": {
      "text/plain": [
       "tensor([[20.9481],\n",
       "        [20.9485],\n",
       "        [20.9485],\n",
       "        [20.9485],\n",
       "        [20.9485],\n",
       "        [20.9485],\n",
       "        [20.9485],\n",
       "        [20.9485],\n",
       "        [20.9485],\n",
       "        [20.9485],\n",
       "        [20.9485],\n",
       "        [20.9485],\n",
       "        [20.9486],\n",
       "        [20.9486],\n",
       "        [20.9486],\n",
       "        [20.9486],\n",
       "        [20.9486],\n",
       "        [20.9486],\n",
       "        [20.9486],\n",
       "        [20.9486],\n",
       "        [20.9486],\n",
       "        [20.9486],\n",
       "        [20.9486],\n",
       "        [20.9486],\n",
       "        [20.9486],\n",
       "        [20.9486]])"
      ]
     },
     "execution_count": 23,
     "metadata": {},
     "output_type": "execute_result"
    }
   ],
   "source": [
    "predictions"
   ]
  },
  {
   "cell_type": "code",
   "execution_count": 19,
   "metadata": {},
   "outputs": [
    {
     "data": {
      "application/vnd.plotly.v1+json": {
       "config": {
        "plotlyServerURL": "https://plot.ly"
       },
       "data": [
        {
         "mode": "lines",
         "name": "test_targets",
         "type": "scatter",
         "y": [
          20.984582901000977,
          20.912221908569336,
          20.847084045410156,
          20.803749084472656,
          20.993473052978516,
          20.982084274291992,
          20.925138473510742,
          20.888750076293945,
          20.868667602539062,
          20.91830062866211,
          20.65740203857422,
          21.46959686279297,
          22.511573791503906,
          22.605297088623047,
          22.57997703552246,
          22.50872230529785,
          22.424165725708008,
          22.483966827392578,
          22.558156967163086,
          22.591917037963867,
          22.512069702148438,
          22.174861907958984,
          21.957361221313477,
          21.722917556762695,
          21.490833282470703,
          21.021299362182617
         ]
        },
        {
         "mode": "lines",
         "name": "Predictions",
         "type": "scatter",
         "y": [
          20.93500328063965,
          20.935449600219727,
          20.935449600219727,
          20.935449600219727,
          20.935449600219727,
          20.935449600219727,
          20.935449600219727,
          20.935449600219727,
          20.935449600219727,
          20.935449600219727,
          20.935449600219727,
          20.935449600219727,
          20.935449600219727,
          20.935449600219727,
          20.935449600219727,
          20.935449600219727,
          20.935449600219727,
          20.935449600219727,
          20.935449600219727,
          20.935449600219727,
          20.935449600219727,
          20.935449600219727,
          20.935449600219727,
          20.935449600219727,
          20.935449600219727,
          20.935449600219727
         ]
        }
       ],
       "layout": {
        "template": {
         "data": {
          "bar": [
           {
            "error_x": {
             "color": "#2a3f5f"
            },
            "error_y": {
             "color": "#2a3f5f"
            },
            "marker": {
             "line": {
              "color": "#E5ECF6",
              "width": 0.5
             },
             "pattern": {
              "fillmode": "overlay",
              "size": 10,
              "solidity": 0.2
             }
            },
            "type": "bar"
           }
          ],
          "barpolar": [
           {
            "marker": {
             "line": {
              "color": "#E5ECF6",
              "width": 0.5
             },
             "pattern": {
              "fillmode": "overlay",
              "size": 10,
              "solidity": 0.2
             }
            },
            "type": "barpolar"
           }
          ],
          "carpet": [
           {
            "aaxis": {
             "endlinecolor": "#2a3f5f",
             "gridcolor": "white",
             "linecolor": "white",
             "minorgridcolor": "white",
             "startlinecolor": "#2a3f5f"
            },
            "baxis": {
             "endlinecolor": "#2a3f5f",
             "gridcolor": "white",
             "linecolor": "white",
             "minorgridcolor": "white",
             "startlinecolor": "#2a3f5f"
            },
            "type": "carpet"
           }
          ],
          "choropleth": [
           {
            "colorbar": {
             "outlinewidth": 0,
             "ticks": ""
            },
            "type": "choropleth"
           }
          ],
          "contour": [
           {
            "colorbar": {
             "outlinewidth": 0,
             "ticks": ""
            },
            "colorscale": [
             [
              0,
              "#0d0887"
             ],
             [
              0.1111111111111111,
              "#46039f"
             ],
             [
              0.2222222222222222,
              "#7201a8"
             ],
             [
              0.3333333333333333,
              "#9c179e"
             ],
             [
              0.4444444444444444,
              "#bd3786"
             ],
             [
              0.5555555555555556,
              "#d8576b"
             ],
             [
              0.6666666666666666,
              "#ed7953"
             ],
             [
              0.7777777777777778,
              "#fb9f3a"
             ],
             [
              0.8888888888888888,
              "#fdca26"
             ],
             [
              1,
              "#f0f921"
             ]
            ],
            "type": "contour"
           }
          ],
          "contourcarpet": [
           {
            "colorbar": {
             "outlinewidth": 0,
             "ticks": ""
            },
            "type": "contourcarpet"
           }
          ],
          "heatmap": [
           {
            "colorbar": {
             "outlinewidth": 0,
             "ticks": ""
            },
            "colorscale": [
             [
              0,
              "#0d0887"
             ],
             [
              0.1111111111111111,
              "#46039f"
             ],
             [
              0.2222222222222222,
              "#7201a8"
             ],
             [
              0.3333333333333333,
              "#9c179e"
             ],
             [
              0.4444444444444444,
              "#bd3786"
             ],
             [
              0.5555555555555556,
              "#d8576b"
             ],
             [
              0.6666666666666666,
              "#ed7953"
             ],
             [
              0.7777777777777778,
              "#fb9f3a"
             ],
             [
              0.8888888888888888,
              "#fdca26"
             ],
             [
              1,
              "#f0f921"
             ]
            ],
            "type": "heatmap"
           }
          ],
          "heatmapgl": [
           {
            "colorbar": {
             "outlinewidth": 0,
             "ticks": ""
            },
            "colorscale": [
             [
              0,
              "#0d0887"
             ],
             [
              0.1111111111111111,
              "#46039f"
             ],
             [
              0.2222222222222222,
              "#7201a8"
             ],
             [
              0.3333333333333333,
              "#9c179e"
             ],
             [
              0.4444444444444444,
              "#bd3786"
             ],
             [
              0.5555555555555556,
              "#d8576b"
             ],
             [
              0.6666666666666666,
              "#ed7953"
             ],
             [
              0.7777777777777778,
              "#fb9f3a"
             ],
             [
              0.8888888888888888,
              "#fdca26"
             ],
             [
              1,
              "#f0f921"
             ]
            ],
            "type": "heatmapgl"
           }
          ],
          "histogram": [
           {
            "marker": {
             "pattern": {
              "fillmode": "overlay",
              "size": 10,
              "solidity": 0.2
             }
            },
            "type": "histogram"
           }
          ],
          "histogram2d": [
           {
            "colorbar": {
             "outlinewidth": 0,
             "ticks": ""
            },
            "colorscale": [
             [
              0,
              "#0d0887"
             ],
             [
              0.1111111111111111,
              "#46039f"
             ],
             [
              0.2222222222222222,
              "#7201a8"
             ],
             [
              0.3333333333333333,
              "#9c179e"
             ],
             [
              0.4444444444444444,
              "#bd3786"
             ],
             [
              0.5555555555555556,
              "#d8576b"
             ],
             [
              0.6666666666666666,
              "#ed7953"
             ],
             [
              0.7777777777777778,
              "#fb9f3a"
             ],
             [
              0.8888888888888888,
              "#fdca26"
             ],
             [
              1,
              "#f0f921"
             ]
            ],
            "type": "histogram2d"
           }
          ],
          "histogram2dcontour": [
           {
            "colorbar": {
             "outlinewidth": 0,
             "ticks": ""
            },
            "colorscale": [
             [
              0,
              "#0d0887"
             ],
             [
              0.1111111111111111,
              "#46039f"
             ],
             [
              0.2222222222222222,
              "#7201a8"
             ],
             [
              0.3333333333333333,
              "#9c179e"
             ],
             [
              0.4444444444444444,
              "#bd3786"
             ],
             [
              0.5555555555555556,
              "#d8576b"
             ],
             [
              0.6666666666666666,
              "#ed7953"
             ],
             [
              0.7777777777777778,
              "#fb9f3a"
             ],
             [
              0.8888888888888888,
              "#fdca26"
             ],
             [
              1,
              "#f0f921"
             ]
            ],
            "type": "histogram2dcontour"
           }
          ],
          "mesh3d": [
           {
            "colorbar": {
             "outlinewidth": 0,
             "ticks": ""
            },
            "type": "mesh3d"
           }
          ],
          "parcoords": [
           {
            "line": {
             "colorbar": {
              "outlinewidth": 0,
              "ticks": ""
             }
            },
            "type": "parcoords"
           }
          ],
          "pie": [
           {
            "automargin": true,
            "type": "pie"
           }
          ],
          "scatter": [
           {
            "fillpattern": {
             "fillmode": "overlay",
             "size": 10,
             "solidity": 0.2
            },
            "type": "scatter"
           }
          ],
          "scatter3d": [
           {
            "line": {
             "colorbar": {
              "outlinewidth": 0,
              "ticks": ""
             }
            },
            "marker": {
             "colorbar": {
              "outlinewidth": 0,
              "ticks": ""
             }
            },
            "type": "scatter3d"
           }
          ],
          "scattercarpet": [
           {
            "marker": {
             "colorbar": {
              "outlinewidth": 0,
              "ticks": ""
             }
            },
            "type": "scattercarpet"
           }
          ],
          "scattergeo": [
           {
            "marker": {
             "colorbar": {
              "outlinewidth": 0,
              "ticks": ""
             }
            },
            "type": "scattergeo"
           }
          ],
          "scattergl": [
           {
            "marker": {
             "colorbar": {
              "outlinewidth": 0,
              "ticks": ""
             }
            },
            "type": "scattergl"
           }
          ],
          "scattermapbox": [
           {
            "marker": {
             "colorbar": {
              "outlinewidth": 0,
              "ticks": ""
             }
            },
            "type": "scattermapbox"
           }
          ],
          "scatterpolar": [
           {
            "marker": {
             "colorbar": {
              "outlinewidth": 0,
              "ticks": ""
             }
            },
            "type": "scatterpolar"
           }
          ],
          "scatterpolargl": [
           {
            "marker": {
             "colorbar": {
              "outlinewidth": 0,
              "ticks": ""
             }
            },
            "type": "scatterpolargl"
           }
          ],
          "scatterternary": [
           {
            "marker": {
             "colorbar": {
              "outlinewidth": 0,
              "ticks": ""
             }
            },
            "type": "scatterternary"
           }
          ],
          "surface": [
           {
            "colorbar": {
             "outlinewidth": 0,
             "ticks": ""
            },
            "colorscale": [
             [
              0,
              "#0d0887"
             ],
             [
              0.1111111111111111,
              "#46039f"
             ],
             [
              0.2222222222222222,
              "#7201a8"
             ],
             [
              0.3333333333333333,
              "#9c179e"
             ],
             [
              0.4444444444444444,
              "#bd3786"
             ],
             [
              0.5555555555555556,
              "#d8576b"
             ],
             [
              0.6666666666666666,
              "#ed7953"
             ],
             [
              0.7777777777777778,
              "#fb9f3a"
             ],
             [
              0.8888888888888888,
              "#fdca26"
             ],
             [
              1,
              "#f0f921"
             ]
            ],
            "type": "surface"
           }
          ],
          "table": [
           {
            "cells": {
             "fill": {
              "color": "#EBF0F8"
             },
             "line": {
              "color": "white"
             }
            },
            "header": {
             "fill": {
              "color": "#C8D4E3"
             },
             "line": {
              "color": "white"
             }
            },
            "type": "table"
           }
          ]
         },
         "layout": {
          "annotationdefaults": {
           "arrowcolor": "#2a3f5f",
           "arrowhead": 0,
           "arrowwidth": 1
          },
          "autotypenumbers": "strict",
          "coloraxis": {
           "colorbar": {
            "outlinewidth": 0,
            "ticks": ""
           }
          },
          "colorscale": {
           "diverging": [
            [
             0,
             "#8e0152"
            ],
            [
             0.1,
             "#c51b7d"
            ],
            [
             0.2,
             "#de77ae"
            ],
            [
             0.3,
             "#f1b6da"
            ],
            [
             0.4,
             "#fde0ef"
            ],
            [
             0.5,
             "#f7f7f7"
            ],
            [
             0.6,
             "#e6f5d0"
            ],
            [
             0.7,
             "#b8e186"
            ],
            [
             0.8,
             "#7fbc41"
            ],
            [
             0.9,
             "#4d9221"
            ],
            [
             1,
             "#276419"
            ]
           ],
           "sequential": [
            [
             0,
             "#0d0887"
            ],
            [
             0.1111111111111111,
             "#46039f"
            ],
            [
             0.2222222222222222,
             "#7201a8"
            ],
            [
             0.3333333333333333,
             "#9c179e"
            ],
            [
             0.4444444444444444,
             "#bd3786"
            ],
            [
             0.5555555555555556,
             "#d8576b"
            ],
            [
             0.6666666666666666,
             "#ed7953"
            ],
            [
             0.7777777777777778,
             "#fb9f3a"
            ],
            [
             0.8888888888888888,
             "#fdca26"
            ],
            [
             1,
             "#f0f921"
            ]
           ],
           "sequentialminus": [
            [
             0,
             "#0d0887"
            ],
            [
             0.1111111111111111,
             "#46039f"
            ],
            [
             0.2222222222222222,
             "#7201a8"
            ],
            [
             0.3333333333333333,
             "#9c179e"
            ],
            [
             0.4444444444444444,
             "#bd3786"
            ],
            [
             0.5555555555555556,
             "#d8576b"
            ],
            [
             0.6666666666666666,
             "#ed7953"
            ],
            [
             0.7777777777777778,
             "#fb9f3a"
            ],
            [
             0.8888888888888888,
             "#fdca26"
            ],
            [
             1,
             "#f0f921"
            ]
           ]
          },
          "colorway": [
           "#636efa",
           "#EF553B",
           "#00cc96",
           "#ab63fa",
           "#FFA15A",
           "#19d3f3",
           "#FF6692",
           "#B6E880",
           "#FF97FF",
           "#FECB52"
          ],
          "font": {
           "color": "#2a3f5f"
          },
          "geo": {
           "bgcolor": "white",
           "lakecolor": "white",
           "landcolor": "#E5ECF6",
           "showlakes": true,
           "showland": true,
           "subunitcolor": "white"
          },
          "hoverlabel": {
           "align": "left"
          },
          "hovermode": "closest",
          "mapbox": {
           "style": "light"
          },
          "paper_bgcolor": "white",
          "plot_bgcolor": "#E5ECF6",
          "polar": {
           "angularaxis": {
            "gridcolor": "white",
            "linecolor": "white",
            "ticks": ""
           },
           "bgcolor": "#E5ECF6",
           "radialaxis": {
            "gridcolor": "white",
            "linecolor": "white",
            "ticks": ""
           }
          },
          "scene": {
           "xaxis": {
            "backgroundcolor": "#E5ECF6",
            "gridcolor": "white",
            "gridwidth": 2,
            "linecolor": "white",
            "showbackground": true,
            "ticks": "",
            "zerolinecolor": "white"
           },
           "yaxis": {
            "backgroundcolor": "#E5ECF6",
            "gridcolor": "white",
            "gridwidth": 2,
            "linecolor": "white",
            "showbackground": true,
            "ticks": "",
            "zerolinecolor": "white"
           },
           "zaxis": {
            "backgroundcolor": "#E5ECF6",
            "gridcolor": "white",
            "gridwidth": 2,
            "linecolor": "white",
            "showbackground": true,
            "ticks": "",
            "zerolinecolor": "white"
           }
          },
          "shapedefaults": {
           "line": {
            "color": "#2a3f5f"
           }
          },
          "ternary": {
           "aaxis": {
            "gridcolor": "white",
            "linecolor": "white",
            "ticks": ""
           },
           "baxis": {
            "gridcolor": "white",
            "linecolor": "white",
            "ticks": ""
           },
           "bgcolor": "#E5ECF6",
           "caxis": {
            "gridcolor": "white",
            "linecolor": "white",
            "ticks": ""
           }
          },
          "title": {
           "x": 0.05
          },
          "xaxis": {
           "automargin": true,
           "gridcolor": "white",
           "linecolor": "white",
           "ticks": "",
           "title": {
            "standoff": 15
           },
           "zerolinecolor": "white",
           "zerolinewidth": 2
          },
          "yaxis": {
           "automargin": true,
           "gridcolor": "white",
           "linecolor": "white",
           "ticks": "",
           "title": {
            "standoff": 15
           },
           "zerolinecolor": "white",
           "zerolinewidth": 2
          }
         }
        },
        "title": {
         "text": "test_targets vs predictions"
        },
        "xaxis": {
         "title": {
          "text": "Index"
         }
        },
        "yaxis": {
         "title": {
          "text": "Value"
         }
        }
       }
      }
     },
     "metadata": {},
     "output_type": "display_data"
    }
   ],
   "source": [
    "import plotly.graph_objects as go\n",
    "\n",
    "def plt_pred(test_targets, predictions):\n",
    "    fig = go.Figure()\n",
    "    fig.add_trace(go.Scatter(y=test_targets, mode='lines', name='test_targets'))\n",
    "    fig.add_trace(go.Scatter(y=predictions, mode='lines', name='Predictions'))\n",
    "    fig.update_layout(title='test_targets vs predictions', xaxis_title='Index', yaxis_title='Value')\n",
    "    fig.show()\n",
    "\n",
    "plt_pred(test_targets.view(-1).tolist(), predictions.view(-1).tolist())"
   ]
  },
  {
   "cell_type": "code",
   "execution_count": 13,
   "metadata": {},
   "outputs": [],
   "source": [
    "#torch.save(LSTM_model.state_dict(), \"LSTM_model.pth\")"
   ]
  }
 ],
 "metadata": {
  "kernelspec": {
   "display_name": "Python 3",
   "language": "python",
   "name": "python3"
  },
  "language_info": {
   "codemirror_mode": {
    "name": "ipython",
    "version": 3
   },
   "file_extension": ".py",
   "mimetype": "text/x-python",
   "name": "python",
   "nbconvert_exporter": "python",
   "pygments_lexer": "ipython3",
   "version": "3.12.2"
  }
 },
 "nbformat": 4,
 "nbformat_minor": 2
}
